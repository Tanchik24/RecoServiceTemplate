{
 "cells": [
  {
   "cell_type": "code",
   "execution_count": 1,
   "metadata": {
    "collapsed": true,
    "ExecuteTime": {
     "end_time": "2023-12-08T15:24:25.846437Z",
     "start_time": "2023-12-08T15:24:24.776032Z"
    }
   },
   "outputs": [],
   "source": [
    "from implicit.nearest_neighbours import CosineRecommender, TFIDFRecommender, BM25Recommender\n",
    "from service.api.recsys.userknn import UserKnn\n",
    "from service.api.metrcis_validation.GridSearchCV import GridSearchCV\n",
    "from dotenv import load_dotenv\n",
    "from rectools.metrics import calc_metrics\n",
    "import os\n",
    "import pickle\n",
    "import json\n",
    "\n",
    "from service.api.recsys.PopularSocialDem import PopularSocialDem\n",
    "from service.api.metrcis_validation.metrics import CrossValScore\n",
    "import pandas as pd\n",
    "from rectools import Columns\n",
    "from rectools.models.popular_in_category import PopularInCategoryModel\n",
    "from rectools.dataset import Dataset\n",
    "from rectools.dataset import Interactions\n",
    "from rectools.metrics.classification import Recall\n",
    "from rectools.metrics.ranking import MAP\n",
    "from rectools.metrics.serendipity import Serendipity\n",
    "from rectools.metrics.novelty import MeanInvUserFreq\n",
    "from rectools.model_selection import TimeRangeSplitter"
   ]
  },
  {
   "cell_type": "code",
   "execution_count": 9,
   "outputs": [],
   "source": [
    "interactions_df = pd.read_csv('/Users/tanchik/Desktop/Настоящее/учеба/RecSys/RecoServiceTemplate/kion_train/interactions.csv')\n",
    "items = pd.read_csv('/Users/tanchik/Desktop/Настоящее/учеба/RecSys/RecoServiceTemplate/kion_train/items.csv')\n",
    "users = pd.read_csv('/Users/tanchik/Desktop/Настоящее/учеба/RecSys/RecoServiceTemplate/kion_train/users.csv')"
   ],
   "metadata": {
    "collapsed": false,
    "ExecuteTime": {
     "end_time": "2023-12-08T15:25:36.539601Z",
     "start_time": "2023-12-08T15:25:32.792852Z"
    }
   }
  },
  {
   "cell_type": "code",
   "execution_count": null,
   "outputs": [],
   "source": [
    "load_dotenv()\n",
    "interactions_df = pd.read_csv(os.getenv('INTERACTIONS'))\n",
    "items = pd.read_csv(os.getenv('ITEMS'))\n",
    "users = pd.read_csv(os.getenv('USERS'))"
   ],
   "metadata": {
    "collapsed": false
   }
  },
  {
   "cell_type": "code",
   "execution_count": 11,
   "outputs": [],
   "source": [
    "models = {'User Knn': UserKnn(CosineRecommender(K=50)),\n",
    "          'Popular Social Dem': PopularSocialDem(users=users)}\n",
    "metrics = {\n",
    "    'Recall@10': Recall(k=10),\n",
    "    'MAP@10': MAP(k=10),\n",
    "    'Serendipity10': Serendipity(k=10),\n",
    "    'MeanInvUserFreq10': MeanInvUserFreq(k=10)\n",
    "}"
   ],
   "metadata": {
    "collapsed": false,
    "ExecuteTime": {
     "end_time": "2023-12-08T15:25:41.631836Z",
     "start_time": "2023-12-08T15:25:41.628363Z"
    }
   }
  },
  {
   "cell_type": "code",
   "execution_count": 12,
   "outputs": [],
   "source": [
    "interactions_df = interactions_df.drop(columns='total_dur')\n",
    "interactions_df['watched_pct'] = interactions_df['watched_pct'] / 100\n",
    "interactions_df.rename(columns={'user_id': Columns.User, 'item_id': Columns.Item,\n",
    "                             'last_watch_dt': Columns.Datetime, 'watched_pct': Columns.Weight}, inplace=True)"
   ],
   "metadata": {
    "collapsed": false,
    "ExecuteTime": {
     "end_time": "2023-12-08T15:25:42.172077Z",
     "start_time": "2023-12-08T15:25:42.033655Z"
    }
   }
  },
  {
   "cell_type": "code",
   "execution_count": 13,
   "outputs": [],
   "source": [
    "df = interactions_df.iloc[: 500000]\n",
    "interactions = Interactions(interactions_df)"
   ],
   "metadata": {
    "collapsed": false,
    "ExecuteTime": {
     "end_time": "2023-12-08T15:25:44.237637Z",
     "start_time": "2023-12-08T15:25:43.196522Z"
    }
   }
  },
  {
   "cell_type": "code",
   "execution_count": 78,
   "outputs": [
    {
     "data": {
      "text/plain": "[(Timestamp('2021-08-16 00:00:00', freq='7D'),\n  Timestamp('2021-08-23 00:00:00', freq='7D'))]"
     },
     "execution_count": 78,
     "metadata": {},
     "output_type": "execute_result"
    }
   ],
   "source": [
    "n_splits = 1\n",
    "\n",
    "cv = TimeRangeSplitter(\n",
    "    test_size=\"7D\",\n",
    "    n_splits=n_splits,\n",
    "    filter_already_seen=True,\n",
    "    filter_cold_items=True,\n",
    "    filter_cold_users=True,\n",
    ")\n",
    "\n",
    "cv.get_test_fold_borders(interactions)"
   ],
   "metadata": {
    "collapsed": false,
    "ExecuteTime": {
     "end_time": "2023-12-08T12:02:06.041117Z",
     "start_time": "2023-12-08T12:02:06.005745Z"
    }
   }
  },
  {
   "cell_type": "code",
   "execution_count": 13,
   "outputs": [
    {
     "data": {
      "text/plain": "  0%|          | 0/1 [00:00<?, ?it/s]",
      "application/vnd.jupyter.widget-view+json": {
       "version_major": 2,
       "version_minor": 0,
       "model_id": "b49a65d767cc421784d7c4b33d7c75d0"
      }
     },
     "metadata": {},
     "output_type": "display_data"
    },
    {
     "name": "stdout",
     "output_type": "stream",
     "text": [
      "\n",
      "==================== Fold 0\n",
      "{'end': Timestamp('2021-08-23 00:00:00', freq='7D'),\n",
      " 'i_split': 0,\n",
      " 'start': Timestamp('2021-08-16 00:00:00', freq='7D'),\n",
      " 'test': 3919,\n",
      " 'test_items': 1556,\n",
      " 'test_users': 3470,\n",
      " 'train': 184359,\n",
      " 'train_items': 7567,\n",
      " 'train_users': 138462}\n"
     ]
    },
    {
     "name": "stderr",
     "output_type": "stream",
     "text": [
      "/Users/tanchik/Desktop/Настоящее/учеба/RecSys/RecoServiceTemplate/.venv/lib/python3.9/site-packages/implicit/utils.py:164: ParameterWarning: Method expects CSR input, and was passed coo_matrix instead. Converting to CSR took 0.0066471099853515625 seconds\n",
      "  warnings.warn(\n"
     ]
    },
    {
     "data": {
      "text/plain": "  0%|          | 0/138462 [00:00<?, ?it/s]",
      "application/vnd.jupyter.widget-view+json": {
       "version_major": 2,
       "version_minor": 0,
       "model_id": "2309793012f446dfbd43a650972daf3e"
      }
     },
     "metadata": {},
     "output_type": "display_data"
    },
    {
     "data": {
      "text/plain": "                model  training_time  Recall@10    MAP@10  MeanInvUserFreq10  \\\n0  Popular Social Dem      28.251833   0.071950  0.028616           5.559702   \n1            User Knn       6.293869   0.002305  0.000323          10.119112   \n\n   Serendipity10  \n0       0.000001  \n1       0.000003  ",
      "text/html": "<div>\n<style scoped>\n    .dataframe tbody tr th:only-of-type {\n        vertical-align: middle;\n    }\n\n    .dataframe tbody tr th {\n        vertical-align: top;\n    }\n\n    .dataframe thead th {\n        text-align: right;\n    }\n</style>\n<table border=\"1\" class=\"dataframe\">\n  <thead>\n    <tr style=\"text-align: right;\">\n      <th></th>\n      <th>model</th>\n      <th>training_time</th>\n      <th>Recall@10</th>\n      <th>MAP@10</th>\n      <th>MeanInvUserFreq10</th>\n      <th>Serendipity10</th>\n    </tr>\n  </thead>\n  <tbody>\n    <tr>\n      <th>0</th>\n      <td>Popular Social Dem</td>\n      <td>28.251833</td>\n      <td>0.071950</td>\n      <td>0.028616</td>\n      <td>5.559702</td>\n      <td>0.000001</td>\n    </tr>\n    <tr>\n      <th>1</th>\n      <td>User Knn</td>\n      <td>6.293869</td>\n      <td>0.002305</td>\n      <td>0.000323</td>\n      <td>10.119112</td>\n      <td>0.000003</td>\n    </tr>\n  </tbody>\n</table>\n</div>"
     },
     "execution_count": 13,
     "metadata": {},
     "output_type": "execute_result"
    }
   ],
   "source": [
    "cross_val = CrossValScore(models, metrics, cv, interactions)\n",
    "cross_val.evaluate(n_splits = 1)"
   ],
   "metadata": {
    "collapsed": false,
    "ExecuteTime": {
     "end_time": "2023-12-08T07:53:49.913405Z",
     "start_time": "2023-12-08T07:53:12.942035Z"
    }
   }
  },
  {
   "cell_type": "markdown",
   "source": [
    "### Обучить модель по отдельности"
   ],
   "metadata": {
    "collapsed": false
   }
  },
  {
   "cell_type": "code",
   "execution_count": null,
   "outputs": [],
   "source": [
    "knn = UserKnn(CosineRecommender(K=50))\n",
    "knn.fit(df)"
   ],
   "metadata": {
    "collapsed": false
   }
  },
  {
   "cell_type": "code",
   "execution_count": null,
   "outputs": [],
   "source": [
    "with open('/Users/tanchik/Desktop/Настоящее/учеба/RecSys/RecoServiceTemplate/service/api/recsys/models/knn.pkl', 'rb') as file:\n",
    "    knn = pickle.load(file)"
   ],
   "metadata": {
    "collapsed": false
   }
  },
  {
   "cell_type": "code",
   "execution_count": 7,
   "outputs": [],
   "source": [
    "test = df[df['user_id'] == 699317]"
   ],
   "metadata": {
    "collapsed": false,
    "ExecuteTime": {
     "end_time": "2023-12-08T15:03:50.318638Z",
     "start_time": "2023-12-08T15:03:50.312862Z"
    }
   }
  },
  {
   "cell_type": "code",
   "execution_count": null,
   "outputs": [],
   "source": [
    "knn.predict(test)"
   ],
   "metadata": {
    "collapsed": false
   }
  },
  {
   "cell_type": "code",
   "execution_count": null,
   "outputs": [],
   "source": [
    "knn.recommend(699317)"
   ],
   "metadata": {
    "collapsed": false
   }
  },
  {
   "cell_type": "code",
   "execution_count": 11,
   "outputs": [
    {
     "data": {
      "text/plain": "[12250, 15469]"
     },
     "execution_count": 11,
     "metadata": {},
     "output_type": "execute_result"
    }
   ],
   "source": [
    "for user in list(df['user_id']):\n",
    "    res = knn.recommend(699317)\n",
    "    res2 = list(knn.predict(test)['item_id'])\n",
    "    if res != res2:\n",
    "        print(user)"
   ],
   "metadata": {
    "collapsed": false,
    "ExecuteTime": {
     "end_time": "2023-12-08T14:37:23.311547Z",
     "start_time": "2023-12-08T14:37:23.263755Z"
    }
   }
  },
  {
   "cell_type": "code",
   "execution_count": 8,
   "outputs": [
    {
     "data": {
      "text/plain": "        user_id  item_id    datetime  weight\n0        176549     9506  2021-05-11    0.72\n1        699317     1659  2021-05-29    1.00\n2        656683     7107  2021-05-09    0.00\n3        864613     7638  2021-07-05    1.00\n4        964868     9506  2021-04-30    1.00\n...         ...      ...         ...     ...\n199995    27234      142  2021-05-05    1.00\n199996   327427     4689  2021-07-28    0.01\n199997    80410    12201  2021-08-22    0.00\n199998   263900     5287  2021-06-11    0.26\n199999    76796    14741  2021-05-06    0.95\n\n[200000 rows x 4 columns]",
      "text/html": "<div>\n<style scoped>\n    .dataframe tbody tr th:only-of-type {\n        vertical-align: middle;\n    }\n\n    .dataframe tbody tr th {\n        vertical-align: top;\n    }\n\n    .dataframe thead th {\n        text-align: right;\n    }\n</style>\n<table border=\"1\" class=\"dataframe\">\n  <thead>\n    <tr style=\"text-align: right;\">\n      <th></th>\n      <th>user_id</th>\n      <th>item_id</th>\n      <th>datetime</th>\n      <th>weight</th>\n    </tr>\n  </thead>\n  <tbody>\n    <tr>\n      <th>0</th>\n      <td>176549</td>\n      <td>9506</td>\n      <td>2021-05-11</td>\n      <td>0.72</td>\n    </tr>\n    <tr>\n      <th>1</th>\n      <td>699317</td>\n      <td>1659</td>\n      <td>2021-05-29</td>\n      <td>1.00</td>\n    </tr>\n    <tr>\n      <th>2</th>\n      <td>656683</td>\n      <td>7107</td>\n      <td>2021-05-09</td>\n      <td>0.00</td>\n    </tr>\n    <tr>\n      <th>3</th>\n      <td>864613</td>\n      <td>7638</td>\n      <td>2021-07-05</td>\n      <td>1.00</td>\n    </tr>\n    <tr>\n      <th>4</th>\n      <td>964868</td>\n      <td>9506</td>\n      <td>2021-04-30</td>\n      <td>1.00</td>\n    </tr>\n    <tr>\n      <th>...</th>\n      <td>...</td>\n      <td>...</td>\n      <td>...</td>\n      <td>...</td>\n    </tr>\n    <tr>\n      <th>199995</th>\n      <td>27234</td>\n      <td>142</td>\n      <td>2021-05-05</td>\n      <td>1.00</td>\n    </tr>\n    <tr>\n      <th>199996</th>\n      <td>327427</td>\n      <td>4689</td>\n      <td>2021-07-28</td>\n      <td>0.01</td>\n    </tr>\n    <tr>\n      <th>199997</th>\n      <td>80410</td>\n      <td>12201</td>\n      <td>2021-08-22</td>\n      <td>0.00</td>\n    </tr>\n    <tr>\n      <th>199998</th>\n      <td>263900</td>\n      <td>5287</td>\n      <td>2021-06-11</td>\n      <td>0.26</td>\n    </tr>\n    <tr>\n      <th>199999</th>\n      <td>76796</td>\n      <td>14741</td>\n      <td>2021-05-06</td>\n      <td>0.95</td>\n    </tr>\n  </tbody>\n</table>\n<p>200000 rows × 4 columns</p>\n</div>"
     },
     "execution_count": 8,
     "metadata": {},
     "output_type": "execute_result"
    }
   ],
   "source": [
    "df"
   ],
   "metadata": {
    "collapsed": false,
    "ExecuteTime": {
     "end_time": "2023-12-08T14:31:33.105158Z",
     "start_time": "2023-12-08T14:31:33.089462Z"
    }
   }
  },
  {
   "cell_type": "code",
   "execution_count": 16,
   "outputs": [],
   "source": [
    "|with open('knn.pkl', 'wb') as f:\n",
    "    pickle.dump(knn, f)"
   ],
   "metadata": {
    "collapsed": false,
    "ExecuteTime": {
     "end_time": "2023-12-08T16:02:27.713387Z",
     "start_time": "2023-12-08T16:02:23.610884Z"
    }
   }
  },
  {
   "cell_type": "code",
   "execution_count": 62,
   "outputs": [],
   "source": [
    "pop = PopularSocialDem(users)\n",
    "pop.fit(interactions.df)"
   ],
   "metadata": {
    "collapsed": false,
    "ExecuteTime": {
     "end_time": "2023-12-08T11:58:13.474003Z",
     "start_time": "2023-12-08T11:57:42.376887Z"
    }
   }
  },
  {
   "cell_type": "code",
   "execution_count": 104,
   "outputs": [],
   "source": [
    "from tqdm.auto import tqdm"
   ],
   "metadata": {
    "collapsed": false,
    "ExecuteTime": {
     "end_time": "2023-12-08T06:12:27.905491Z",
     "start_time": "2023-12-08T06:12:27.901347Z"
    }
   }
  },
  {
   "cell_type": "code",
   "execution_count": null,
   "outputs": [],
   "source": [
    "users_list = list(interactions.df['user_id'].unique())\n",
    "users_recommendations = {}\n",
    "for user in tqdm(users_list):\n",
    "    users_recommendations[int(user)] = list(pop.predict(user=user, df=False))"
   ],
   "metadata": {
    "collapsed": false
   }
  },
  {
   "cell_type": "code",
   "execution_count": 111,
   "outputs": [],
   "source": [
    "with open('./popular_recommendations.json', 'w') as f:\n",
    "    json.dump(users_recommendations, f)"
   ],
   "metadata": {
    "collapsed": false,
    "ExecuteTime": {
     "end_time": "2023-12-08T06:25:11.405831Z",
     "start_time": "2023-12-08T06:25:03.639146Z"
    }
   }
  },
  {
   "cell_type": "markdown",
   "source": [
    "### Холодных и теплых пользователей дополнять популярными в разрезе пола и возраста"
   ],
   "metadata": {
    "collapsed": false
   },
   "outputs": []
  },
  {
   "cell_type": "code",
   "execution_count": null,
   "outputs": [],
   "source": [
    "def get_recommendations(user: int, pop: PopularSocialDem, knn: UserKnn, n=10):\n",
    "    recommendations = knn.recommend(user)\n",
    "    if len(recommendations) < n:\n",
    "        recommendations = recommendations + list(pop.predict(user=user, n_rec=(n - len(recommendations)), df=False))\n",
    "    return recommendations[:n]\n",
    "\n",
    "get_recommendations(1016458, pop, knn)"
   ],
   "metadata": {
    "collapsed": false
   }
  },
  {
   "cell_type": "markdown",
   "source": [
    "### Тюнинг параметров модели userknn"
   ],
   "metadata": {
    "collapsed": false
   }
  },
  {
   "cell_type": "code",
   "execution_count": null,
   "outputs": [],
   "source": [
    "param_grid = {\n",
    "    'model': [CosineRecommender, TFIDFRecommender, BM25Recommender],\n",
    "    'K': [10, 20, 50, 100]\n",
    "}\n",
    "\n",
    "n_splits = 1\n",
    "\n",
    "cv = TimeRangeSplitter(\n",
    "    test_size=\"7D\",\n",
    "    n_splits=n_splits,\n",
    "    filter_already_seen=True,\n",
    "    filter_cold_items=True,\n",
    "    filter_cold_users=True,\n",
    ")\n",
    "\n",
    "cross_val = CrossValScore(models, metrics, cv, interactions)\n",
    "\n",
    "grid_search = GridSearchCV(cross_val, param_grid)\n",
    "grid_search.search(n_splits)"
   ],
   "metadata": {
    "collapsed": false
   }
  },
  {
   "cell_type": "code",
   "execution_count": 19,
   "outputs": [
    {
     "name": "stdout",
     "output_type": "stream",
     "text": [
      "0.000999382461918485\n",
      "{'K': 50, 'model': <class 'implicit.nearest_neighbours.TFIDFRecommender'>}\n"
     ]
    }
   ],
   "source": [
    "print(grid_search.best_score_)\n",
    "print(grid_search.best_params_)"
   ],
   "metadata": {
    "collapsed": false,
    "ExecuteTime": {
     "end_time": "2023-12-08T07:58:19.775995Z",
     "start_time": "2023-12-08T07:58:19.772683Z"
    }
   }
  },
  {
   "cell_type": "markdown",
   "source": [
    "### Обучение с разными пропорциями популярных"
   ],
   "metadata": {
    "collapsed": false
   }
  },
  {
   "cell_type": "code",
   "execution_count": 45,
   "outputs": [],
   "source": [
    "max_date = df['datetime'].max()\n",
    "\n",
    "train = df[(df['datetime'] < max_date - pd.Timedelta(days=7))]\n",
    "test = df[(df['datetime'] >= max_date - pd.Timedelta(days=7))]\n",
    "\n",
    "test = test[test['user_id'].isin(train['user_id'].unique())]\n",
    "catalog = train[Columns.Item].unique()"
   ],
   "metadata": {
    "collapsed": false,
    "ExecuteTime": {
     "end_time": "2023-12-08T09:49:44.478904Z",
     "start_time": "2023-12-08T09:49:44.447457Z"
    }
   }
  },
  {
   "cell_type": "code",
   "execution_count": 43,
   "outputs": [
    {
     "name": "stderr",
     "output_type": "stream",
     "text": [
      "/Users/tanchik/Desktop/Настоящее/учеба/RecSys/RecoServiceTemplate/.venv/lib/python3.9/site-packages/implicit/utils.py:164: ParameterWarning: Method expects CSR input, and was passed coo_matrix instead. Converting to CSR took 0.006882190704345703 seconds\n",
      "  warnings.warn(\n"
     ]
    },
    {
     "data": {
      "text/plain": "  0%|          | 0/136747 [00:00<?, ?it/s]",
      "application/vnd.jupyter.widget-view+json": {
       "version_major": 2,
       "version_minor": 0,
       "model_id": "5fb2400a730f4acea0f40f25b95abf95"
      }
     },
     "metadata": {},
     "output_type": "display_data"
    }
   ],
   "source": [
    "knn.fit(train)\n",
    "pop.fit(train)"
   ],
   "metadata": {
    "collapsed": false,
    "ExecuteTime": {
     "end_time": "2023-12-08T09:49:37.683929Z",
     "start_time": "2023-12-08T09:49:05.296686Z"
    }
   }
  },
  {
   "cell_type": "code",
   "execution_count": 50,
   "outputs": [
    {
     "name": "stdout",
     "output_type": "stream",
     "text": [
      "10% популярных\n",
      "{'Recall@10': 0.01354346220142822, 'MAP@10': 0.004397032555121696, 'MeanInvUserFreq10': 8.662936701245114, 'Serendipity10': 3.338864716106809e-06}\n",
      "20% популярных\n",
      "{'Recall@10': 0.023639497660674712, 'MAP@10': 0.006678021286492106, 'MeanInvUserFreq10': 7.9064242690040105, 'Serendipity10': 3.1359515729495627e-06}\n",
      "30% популярных\n",
      "{'Recall@10': 0.034474267421817285, 'MAP@10': 0.008789570166078415, 'MeanInvUserFreq10': 7.493000968686884, 'Serendipity10': 1.842758854619325e-06}\n",
      "40% популярных\n",
      "{'Recall@10': 0.043585323811869, 'MAP@10': 0.01030934987472786, 'MeanInvUserFreq10': 7.134606107137818, 'Serendipity10': 1.0539369226672293e-06}\n",
      "50% популярных\n",
      "{'Recall@10': 0.04752524008864811, 'MAP@10': 0.011581077066794869, 'MeanInvUserFreq10': 6.895923197173432, 'Serendipity10': 2.4896270071261795e-07}\n",
      "100% популярных\n",
      "{'Recall@10': 0.06866124928178609, 'MAP@10': 0.02701334412119933, 'MeanInvUserFreq10': 5.56080911926691, 'Serendipity10': 1.1643626745117612e-06}\n"
     ]
    }
   ],
   "source": [
    "def get_knn_popular_recommendation(test, train, catalog, knn, pop, pop_procent, n=10):\n",
    "    pop_n = int(n * (pop_procent/100))\n",
    "    knn_recommendations = knn.predict(test, N_recs=int(n-pop_n))\n",
    "    pop_recommendations = pop.predict(user=test, n_rec=pop_n)\n",
    "    df = pd.concat([knn_recommendations, pop_recommendations])\n",
    "    df[\"rank\"] = df.groupby(\"user_id\").cumcount() + 1\n",
    "    metric_values = calc_metrics(\n",
    "                    metrics, reco=df, interactions=test, prev_interactions=train, catalog=catalog)\n",
    "    print(metric_values)\n",
    "print('10% популярных')\n",
    "get_knn_popular_recommendation(test, train, catalog, knn, pop, 10, n=10)\n",
    "print('20% популярных')\n",
    "get_knn_popular_recommendation(test, train, catalog, knn, pop, 20, n=10)\n",
    "print('30% популярных')\n",
    "get_knn_popular_recommendation(test, train, catalog, knn, pop, 30, n=10)\n",
    "print('40% популярных')\n",
    "get_knn_popular_recommendation(test, train, catalog, knn, pop, 40, n=10)\n",
    "print('50% популярных')\n",
    "get_knn_popular_recommendation(test, train, catalog, knn, pop, 50, n=10)\n",
    "print('100% популярных')\n",
    "get_knn_popular_recommendation(test, train, catalog, knn, pop, 100, n=10)"
   ],
   "metadata": {
    "collapsed": false,
    "ExecuteTime": {
     "end_time": "2023-12-08T09:52:25.146608Z",
     "start_time": "2023-12-08T09:52:09.612513Z"
    }
   }
  },
  {
   "cell_type": "markdown",
   "source": [
    "### Попытки использовать юзер фичи в rectools"
   ],
   "metadata": {
    "collapsed": false
   }
  },
  {
   "cell_type": "code",
   "execution_count": null,
   "outputs": [],
   "source": [
    "age_df = pd.DataFrame({'id': list(users['user_id']), 'value': list(users['age']), 'feature': ['age'] * users.shape[0]})\n",
    "sex_df = pd.DataFrame({'id': list(users['user_id']), 'value': list(users['sex']), 'feature': ['sex'] * users.shape[0]})\n",
    "sex_age_df = pd.concat([age_df, sex_df], axis=0)\n",
    "sex_age_df = sex_age_df.dropna(axis=0, how=\"any\")\n",
    "\n",
    "sex_age_df = sex_age_df[sex_age_df['id'].isin(list(interactions_df['user_id']))]"
   ],
   "metadata": {
    "collapsed": false
   }
  },
  {
   "cell_type": "code",
   "execution_count": null,
   "outputs": [],
   "source": [
    "dataset_feature = Dataset.construct(\n",
    "    interactions_df=interactions_df,\n",
    "    user_features_df=sex_age_df,\n",
    "    item_features_df=None,\n",
    "    cat_item_features=['age', 'sex']\n",
    ")\n"
   ],
   "metadata": {
    "collapsed": false
   }
  },
  {
   "cell_type": "code",
   "execution_count": null,
   "outputs": [],
   "source": [
    "pop_cat = PopularInCategoryModel(category_feature='genre', n_categories=5)\n",
    "pop_cat.fit(dataset_feature);\n"
   ],
   "metadata": {
    "collapsed": false
   }
  },
  {
   "cell_type": "code",
   "execution_count": null,
   "outputs": [],
   "source": [],
   "metadata": {
    "collapsed": false
   }
  }
 ],
 "metadata": {
  "kernelspec": {
   "display_name": "Python 3",
   "language": "python",
   "name": "python3"
  },
  "language_info": {
   "codemirror_mode": {
    "name": "ipython",
    "version": 2
   },
   "file_extension": ".py",
   "mimetype": "text/x-python",
   "name": "python",
   "nbconvert_exporter": "python",
   "pygments_lexer": "ipython2",
   "version": "2.7.6"
  }
 },
 "nbformat": 4,
 "nbformat_minor": 0
}
