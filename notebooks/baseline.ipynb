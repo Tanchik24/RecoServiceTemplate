{
 "cells": [
  {
   "cell_type": "code",
   "execution_count": 4,
   "metadata": {
    "ExecuteTime": {
     "end_time": "2023-12-09T13:40:18.182596Z",
     "start_time": "2023-12-09T13:40:18.173199Z"
    },
    "collapsed": true
   },
   "outputs": [
    {
     "ename": "ModuleNotFoundError",
     "evalue": "No module named 'service'",
     "output_type": "error",
     "traceback": [
      "\u001b[0;31m---------------------------------------------------------------------------\u001b[0m",
      "\u001b[0;31mModuleNotFoundError\u001b[0m                       Traceback (most recent call last)",
      "Cell \u001b[0;32mIn[4], line 2\u001b[0m\n\u001b[1;32m      1\u001b[0m \u001b[39mfrom\u001b[39;00m \u001b[39mimplicit\u001b[39;00m\u001b[39m.\u001b[39;00m\u001b[39mnearest_neighbours\u001b[39;00m \u001b[39mimport\u001b[39;00m CosineRecommender, TFIDFRecommender, BM25Recommender\n\u001b[0;32m----> 2\u001b[0m \u001b[39mfrom\u001b[39;00m \u001b[39mservice\u001b[39;00m\u001b[39m.\u001b[39;00m\u001b[39mapi\u001b[39;00m\u001b[39m.\u001b[39;00m\u001b[39mrecsys\u001b[39;00m\u001b[39m.\u001b[39;00m\u001b[39muserknn\u001b[39;00m \u001b[39mimport\u001b[39;00m UserKnn\n\u001b[1;32m      3\u001b[0m \u001b[39mfrom\u001b[39;00m \u001b[39mservice\u001b[39;00m\u001b[39m.\u001b[39;00m\u001b[39mapi\u001b[39;00m\u001b[39m.\u001b[39;00m\u001b[39mmetrcis_validation\u001b[39;00m\u001b[39m.\u001b[39;00m\u001b[39mGridSearchCV\u001b[39;00m \u001b[39mimport\u001b[39;00m GridSearchCV\n\u001b[1;32m      4\u001b[0m \u001b[39mfrom\u001b[39;00m \u001b[39mdotenv\u001b[39;00m \u001b[39mimport\u001b[39;00m load_dotenv\n",
      "\u001b[0;31mModuleNotFoundError\u001b[0m: No module named 'service'"
     ]
    }
   ],
   "source": [
    "from implicit.nearest_neighbours import CosineRecommender, TFIDFRecommender, BM25Recommender\n",
    "from service.api.recsys.userknn import UserKnn\n",
    "from service.api.metrcis_validation.GridSearchCV import GridSearchCV\n",
    "from dotenv import load_dotenv\n",
    "from rectools.metrics import calc_metrics\n",
    "import os\n",
    "import pickle\n",
    "import json\n",
    "from tqdm.auto import tqdm\n",
    "\n",
    "from service.api.recsys.PopularSocialDem import PopularSocialDem\n",
    "from service.api.metrcis_validation.metrics import CrossValScore\n",
    "import pandas as pd\n",
    "from rectools import Columns\n",
    "from rectools.models.popular_in_category import PopularInCategoryModel\n",
    "from rectools.dataset import Dataset\n",
    "from rectools.dataset import Interactions\n",
    "from rectools.metrics.classification import Recall\n",
    "from rectools.metrics.ranking import MAP\n",
    "from rectools.metrics.serendipity import Serendipity\n",
    "from rectools.metrics.novelty import MeanInvUserFreq\n",
    "from rectools.model_selection import TimeRangeSplitter"
   ]
  },
  {
   "cell_type": "code",
   "execution_count": 15,
   "metadata": {
    "ExecuteTime": {
     "end_time": "2023-12-09T13:40:22.665212Z",
     "start_time": "2023-12-09T13:40:18.648269Z"
    },
    "collapsed": false
   },
   "outputs": [],
   "source": [
    "interactions_df = pd.read_csv('/Users/tanchik/Desktop/Настоящее/учеба/RecSys/RecoServiceTemplate/kion_train/interactions.csv')\n",
    "items = pd.read_csv('/Users/tanchik/Desktop/Настоящее/учеба/RecSys/RecoServiceTemplate/kion_train/items.csv')\n",
    "users = pd.read_csv('/Users/tanchik/Desktop/Настоящее/учеба/RecSys/RecoServiceTemplate/kion_train/users.csv')"
   ]
  },
  {
   "cell_type": "code",
   "execution_count": null,
   "metadata": {
    "collapsed": false
   },
   "outputs": [],
   "source": [
    "load_dotenv()\n",
    "interactions_df = pd.read_csv(os.getenv('INTERACTIONS'))\n",
    "items = pd.read_csv(os.getenv('ITEMS'))\n",
    "users = pd.read_csv(os.getenv('USERS'))"
   ]
  },
  {
   "cell_type": "code",
   "execution_count": 16,
   "metadata": {
    "ExecuteTime": {
     "end_time": "2023-12-09T13:40:22.678042Z",
     "start_time": "2023-12-09T13:40:22.665448Z"
    },
    "collapsed": false
   },
   "outputs": [],
   "source": [
    "models = {'User Knn': UserKnn(CosineRecommender(K=50)),\n",
    "          'Popular Social Dem': PopularSocialDem(users=users)}\n",
    "metrics = {\n",
    "    'Recall@10': Recall(k=10),\n",
    "    'MAP@10': MAP(k=10),\n",
    "    'Serendipity10': Serendipity(k=10),\n",
    "    'MeanInvUserFreq10': MeanInvUserFreq(k=10)\n",
    "}"
   ]
  },
  {
   "cell_type": "code",
   "execution_count": 17,
   "metadata": {
    "ExecuteTime": {
     "end_time": "2023-12-09T13:40:22.858604Z",
     "start_time": "2023-12-09T13:40:22.665716Z"
    },
    "collapsed": false
   },
   "outputs": [],
   "source": [
    "interactions_df = interactions_df.drop(columns='total_dur')\n",
    "interactions_df['watched_pct'] = interactions_df['watched_pct'] / 100\n",
    "interactions_df.rename(columns={'user_id': Columns.User, 'item_id': Columns.Item,\n",
    "                             'last_watch_dt': Columns.Datetime, 'watched_pct': Columns.Weight}, inplace=True)"
   ]
  },
  {
   "cell_type": "code",
   "execution_count": 18,
   "metadata": {
    "ExecuteTime": {
     "end_time": "2023-12-09T13:40:23.661697Z",
     "start_time": "2023-12-09T13:40:22.860405Z"
    },
    "collapsed": false
   },
   "outputs": [],
   "source": [
    "interactions = Interactions(interactions_df)"
   ]
  },
  {
   "cell_type": "code",
   "execution_count": 19,
   "metadata": {
    "ExecuteTime": {
     "end_time": "2023-12-09T13:40:23.679680Z",
     "start_time": "2023-12-09T13:40:23.647952Z"
    },
    "collapsed": false
   },
   "outputs": [
    {
     "data": {
      "text/plain": [
       "[(Timestamp('2021-08-16 00:00:00', freq='7D'),\n",
       "  Timestamp('2021-08-23 00:00:00', freq='7D'))]"
      ]
     },
     "execution_count": 19,
     "metadata": {},
     "output_type": "execute_result"
    }
   ],
   "source": [
    "n_splits = 1\n",
    "\n",
    "cv = TimeRangeSplitter(\n",
    "    test_size=\"7D\",\n",
    "    n_splits=n_splits,\n",
    "    filter_already_seen=True,\n",
    "    filter_cold_items=True,\n",
    "    filter_cold_users=True,\n",
    ")\n",
    "\n",
    "cv.get_test_fold_borders(interactions)"
   ]
  },
  {
   "cell_type": "code",
   "execution_count": 13,
   "metadata": {
    "ExecuteTime": {
     "end_time": "2023-12-08T07:53:49.913405Z",
     "start_time": "2023-12-08T07:53:12.942035Z"
    },
    "collapsed": false
   },
   "outputs": [
    {
     "data": {
      "application/vnd.jupyter.widget-view+json": {
       "model_id": "b49a65d767cc421784d7c4b33d7c75d0",
       "version_major": 2,
       "version_minor": 0
      },
      "text/plain": [
       "  0%|          | 0/1 [00:00<?, ?it/s]"
      ]
     },
     "metadata": {},
     "output_type": "display_data"
    },
    {
     "name": "stdout",
     "output_type": "stream",
     "text": [
      "\n",
      "==================== Fold 0\n",
      "{'end': Timestamp('2021-08-23 00:00:00', freq='7D'),\n",
      " 'i_split': 0,\n",
      " 'start': Timestamp('2021-08-16 00:00:00', freq='7D'),\n",
      " 'test': 3919,\n",
      " 'test_items': 1556,\n",
      " 'test_users': 3470,\n",
      " 'train': 184359,\n",
      " 'train_items': 7567,\n",
      " 'train_users': 138462}\n"
     ]
    },
    {
     "name": "stderr",
     "output_type": "stream",
     "text": [
      "/Users/tanchik/Desktop/Настоящее/учеба/RecSys/RecoServiceTemplate/.venv/lib/python3.9/site-packages/implicit/utils.py:164: ParameterWarning: Method expects CSR input, and was passed coo_matrix instead. Converting to CSR took 0.0066471099853515625 seconds\n",
      "  warnings.warn(\n"
     ]
    },
    {
     "data": {
      "application/vnd.jupyter.widget-view+json": {
       "model_id": "2309793012f446dfbd43a650972daf3e",
       "version_major": 2,
       "version_minor": 0
      },
      "text/plain": [
       "  0%|          | 0/138462 [00:00<?, ?it/s]"
      ]
     },
     "metadata": {},
     "output_type": "display_data"
    },
    {
     "data": {
      "text/html": [
       "<div>\n",
       "<style scoped>\n",
       "    .dataframe tbody tr th:only-of-type {\n",
       "        vertical-align: middle;\n",
       "    }\n",
       "\n",
       "    .dataframe tbody tr th {\n",
       "        vertical-align: top;\n",
       "    }\n",
       "\n",
       "    .dataframe thead th {\n",
       "        text-align: right;\n",
       "    }\n",
       "</style>\n",
       "<table border=\"1\" class=\"dataframe\">\n",
       "  <thead>\n",
       "    <tr style=\"text-align: right;\">\n",
       "      <th></th>\n",
       "      <th>model</th>\n",
       "      <th>training_time</th>\n",
       "      <th>Recall@10</th>\n",
       "      <th>MAP@10</th>\n",
       "      <th>MeanInvUserFreq10</th>\n",
       "      <th>Serendipity10</th>\n",
       "    </tr>\n",
       "  </thead>\n",
       "  <tbody>\n",
       "    <tr>\n",
       "      <th>0</th>\n",
       "      <td>Popular Social Dem</td>\n",
       "      <td>28.251833</td>\n",
       "      <td>0.071950</td>\n",
       "      <td>0.028616</td>\n",
       "      <td>5.559702</td>\n",
       "      <td>0.000001</td>\n",
       "    </tr>\n",
       "    <tr>\n",
       "      <th>1</th>\n",
       "      <td>User Knn</td>\n",
       "      <td>6.293869</td>\n",
       "      <td>0.002305</td>\n",
       "      <td>0.000323</td>\n",
       "      <td>10.119112</td>\n",
       "      <td>0.000003</td>\n",
       "    </tr>\n",
       "  </tbody>\n",
       "</table>\n",
       "</div>"
      ],
      "text/plain": [
       "                model  training_time  Recall@10    MAP@10  MeanInvUserFreq10  \\\n",
       "0  Popular Social Dem      28.251833   0.071950  0.028616           5.559702   \n",
       "1            User Knn       6.293869   0.002305  0.000323          10.119112   \n",
       "\n",
       "   Serendipity10  \n",
       "0       0.000001  \n",
       "1       0.000003  "
      ]
     },
     "execution_count": 13,
     "metadata": {},
     "output_type": "execute_result"
    }
   ],
   "source": [
    "cross_val = CrossValScore(models, metrics, cv, interactions)\n",
    "cross_val.evaluate(n_splits = 1)"
   ]
  },
  {
   "cell_type": "markdown",
   "metadata": {
    "collapsed": false
   },
   "source": [
    "### Обучить модель по отдельности"
   ]
  },
  {
   "cell_type": "code",
   "execution_count": 20,
   "metadata": {
    "ExecuteTime": {
     "end_time": "2023-12-09T14:21:29.814052Z",
     "start_time": "2023-12-09T13:40:27.728495Z"
    },
    "collapsed": false
   },
   "outputs": [
    {
     "name": "stderr",
     "output_type": "stream",
     "text": [
      "/Users/tanchik/Desktop/Настоящее/учеба/RecSys/RecoServiceTemplate/.venv/lib/python3.9/site-packages/implicit/utils.py:164: ParameterWarning: Method expects CSR input, and was passed coo_matrix instead. Converting to CSR took 0.3969888687133789 seconds\n",
      "  warnings.warn(\n"
     ]
    },
    {
     "data": {
      "application/vnd.jupyter.widget-view+json": {
       "model_id": "fb8ded6565134bf4bbba9f8db9c78c85",
       "version_major": 2,
       "version_minor": 0
      },
      "text/plain": [
       "  0%|          | 0/962179 [00:00<?, ?it/s]"
      ]
     },
     "metadata": {},
     "output_type": "display_data"
    }
   ],
   "source": [
    "knn = UserKnn(CosineRecommender(K=50))\n",
    "knn.fit(df)"
   ]
  },
  {
   "cell_type": "code",
   "execution_count": 21,
   "metadata": {
    "ExecuteTime": {
     "end_time": "2023-12-09T14:24:06.379143Z",
     "start_time": "2023-12-09T14:24:00.332580Z"
    },
    "collapsed": false
   },
   "outputs": [],
   "source": [
    "with open('knn.pkl', 'wb') as f:\n",
    "    pickle.dump(knn, f)"
   ]
  },
  {
   "cell_type": "code",
   "execution_count": 6,
   "metadata": {
    "ExecuteTime": {
     "end_time": "2023-12-09T12:57:20.753244Z",
     "start_time": "2023-12-09T12:53:33.824731Z"
    },
    "collapsed": false
   },
   "outputs": [],
   "source": [
    "pop = PopularSocialDem(users)\n",
    "pop.fit(interactions.df)"
   ]
  },
  {
   "cell_type": "code",
   "execution_count": 7,
   "metadata": {
    "ExecuteTime": {
     "end_time": "2023-12-09T13:08:42.951085Z",
     "start_time": "2023-12-09T12:57:26.232988Z"
    },
    "collapsed": false
   },
   "outputs": [
    {
     "data": {
      "application/vnd.jupyter.widget-view+json": {
       "model_id": "c1c0d300e7df431b8fc38b5260a7403b",
       "version_major": 2,
       "version_minor": 0
      },
      "text/plain": [
       "  0%|          | 0/962179 [00:00<?, ?it/s]"
      ]
     },
     "metadata": {},
     "output_type": "display_data"
    }
   ],
   "source": [
    "users_list = list(interactions.df['user_id'].unique())\n",
    "users_recommendations = {}\n",
    "for user in tqdm(users_list):\n",
    "    users_recommendations[int(user)] = list(pop.predict(user=user, df=False))"
   ]
  },
  {
   "cell_type": "code",
   "execution_count": 11,
   "metadata": {
    "ExecuteTime": {
     "end_time": "2023-12-09T13:09:58.062726Z",
     "start_time": "2023-12-09T13:09:58.020294Z"
    },
    "collapsed": false
   },
   "outputs": [],
   "source": [
    "with open('./popular_recommendations.json', 'w') as f:\n",
    "    json.dump(users_recommendations, f)"
   ]
  },
  {
   "cell_type": "markdown",
   "metadata": {
    "ExecuteTime": {
     "end_time": "2023-12-09T13:10:12.843909Z",
     "start_time": "2023-12-09T13:10:00.207261Z"
    },
    "collapsed": false
   },
   "source": [
    "### Холодных и теплых пользователей дополнять популярными в разрезе пола и возраста"
   ]
  },
  {
   "cell_type": "code",
   "execution_count": null,
   "metadata": {
    "collapsed": false
   },
   "outputs": [],
   "source": [
    "def get_recommendations(user: int, pop: PopularSocialDem, knn: UserKnn, n=10):\n",
    "    recommendations = knn.recommend(user)\n",
    "    if len(recommendations) < n:\n",
    "        recommendations = recommendations + list(pop.predict(user=user, n_rec=(n - len(recommendations)), df=False))\n",
    "    return recommendations[:n]\n",
    "\n",
    "get_recommendations(1016458, pop, knn)"
   ]
  },
  {
   "cell_type": "markdown",
   "metadata": {
    "collapsed": false
   },
   "source": [
    "### Тюнинг параметров модели userknn"
   ]
  },
  {
   "cell_type": "code",
   "execution_count": null,
   "metadata": {
    "collapsed": false
   },
   "outputs": [],
   "source": [
    "param_grid = {\n",
    "    'model': [CosineRecommender, TFIDFRecommender, BM25Recommender],\n",
    "    'K': [10, 20, 50, 100]\n",
    "}\n",
    "\n",
    "n_splits = 1\n",
    "\n",
    "cv = TimeRangeSplitter(\n",
    "    test_size=\"7D\",\n",
    "    n_splits=n_splits,\n",
    "    filter_already_seen=True,\n",
    "    filter_cold_items=True,\n",
    "    filter_cold_users=True,\n",
    ")\n",
    "\n",
    "cross_val = CrossValScore(models, metrics, cv, interactions)\n",
    "\n",
    "grid_search = GridSearchCV(cross_val, param_grid)\n",
    "grid_search.search(n_splits)"
   ]
  },
  {
   "cell_type": "code",
   "execution_count": 19,
   "metadata": {
    "ExecuteTime": {
     "end_time": "2023-12-08T07:58:19.775995Z",
     "start_time": "2023-12-08T07:58:19.772683Z"
    },
    "collapsed": false
   },
   "outputs": [
    {
     "name": "stdout",
     "output_type": "stream",
     "text": [
      "0.000999382461918485\n",
      "{'K': 50, 'model': <class 'implicit.nearest_neighbours.TFIDFRecommender'>}\n"
     ]
    }
   ],
   "source": [
    "print(grid_search.best_score_)\n",
    "print(grid_search.best_params_)"
   ]
  },
  {
   "cell_type": "markdown",
   "metadata": {
    "collapsed": false
   },
   "source": [
    "### Обучение с разными пропорциями популярных"
   ]
  },
  {
   "cell_type": "code",
   "execution_count": 45,
   "metadata": {
    "ExecuteTime": {
     "end_time": "2023-12-08T09:49:44.478904Z",
     "start_time": "2023-12-08T09:49:44.447457Z"
    },
    "collapsed": false
   },
   "outputs": [],
   "source": [
    "max_date = df['datetime'].max()\n",
    "\n",
    "train = df[(df['datetime'] < max_date - pd.Timedelta(days=7))]\n",
    "test = df[(df['datetime'] >= max_date - pd.Timedelta(days=7))]\n",
    "\n",
    "test = test[test['user_id'].isin(train['user_id'].unique())]\n",
    "catalog = train[Columns.Item].unique()"
   ]
  },
  {
   "cell_type": "code",
   "execution_count": null,
   "metadata": {
    "collapsed": false
   },
   "outputs": [],
   "source": [
    "knn.fit(train)\n",
    "pop.fit(train)"
   ]
  },
  {
   "cell_type": "code",
   "execution_count": 50,
   "metadata": {
    "ExecuteTime": {
     "end_time": "2023-12-08T09:52:25.146608Z",
     "start_time": "2023-12-08T09:52:09.612513Z"
    },
    "collapsed": false
   },
   "outputs": [
    {
     "name": "stdout",
     "output_type": "stream",
     "text": [
      "10% популярных\n",
      "{'Recall@10': 0.01354346220142822, 'MAP@10': 0.004397032555121696, 'MeanInvUserFreq10': 8.662936701245114, 'Serendipity10': 3.338864716106809e-06}\n",
      "20% популярных\n",
      "{'Recall@10': 0.023639497660674712, 'MAP@10': 0.006678021286492106, 'MeanInvUserFreq10': 7.9064242690040105, 'Serendipity10': 3.1359515729495627e-06}\n",
      "30% популярных\n",
      "{'Recall@10': 0.034474267421817285, 'MAP@10': 0.008789570166078415, 'MeanInvUserFreq10': 7.493000968686884, 'Serendipity10': 1.842758854619325e-06}\n",
      "40% популярных\n",
      "{'Recall@10': 0.043585323811869, 'MAP@10': 0.01030934987472786, 'MeanInvUserFreq10': 7.134606107137818, 'Serendipity10': 1.0539369226672293e-06}\n",
      "50% популярных\n",
      "{'Recall@10': 0.04752524008864811, 'MAP@10': 0.011581077066794869, 'MeanInvUserFreq10': 6.895923197173432, 'Serendipity10': 2.4896270071261795e-07}\n",
      "100% популярных\n",
      "{'Recall@10': 0.06866124928178609, 'MAP@10': 0.02701334412119933, 'MeanInvUserFreq10': 5.56080911926691, 'Serendipity10': 1.1643626745117612e-06}\n"
     ]
    }
   ],
   "source": [
    "def get_knn_popular_recommendation(test, train, catalog, knn, pop, pop_procent, n=10):\n",
    "    pop_n = int(n * (pop_procent/100))\n",
    "    knn_recommendations = knn.predict(test, N_recs=int(n-pop_n))\n",
    "    pop_recommendations = pop.predict(user=test, n_rec=pop_n)\n",
    "    df = pd.concat([knn_recommendations, pop_recommendations])\n",
    "    df[\"rank\"] = df.groupby(\"user_id\").cumcount() + 1\n",
    "    metric_values = calc_metrics(\n",
    "                    metrics, reco=df, interactions=test, prev_interactions=train, catalog=catalog)\n",
    "    print(metric_values)\n",
    "print('10% популярных')\n",
    "get_knn_popular_recommendation(test, train, catalog, knn, pop, 10, n=10)\n",
    "print('20% популярных')\n",
    "get_knn_popular_recommendation(test, train, catalog, knn, pop, 20, n=10)\n",
    "print('30% популярных')\n",
    "get_knn_popular_recommendation(test, train, catalog, knn, pop, 30, n=10)\n",
    "print('40% популярных')\n",
    "get_knn_popular_recommendation(test, train, catalog, knn, pop, 40, n=10)\n",
    "print('50% популярных')\n",
    "get_knn_popular_recommendation(test, train, catalog, knn, pop, 50, n=10)\n",
    "print('100% популярных')\n",
    "get_knn_popular_recommendation(test, train, catalog, knn, pop, 100, n=10)"
   ]
  },
  {
   "cell_type": "markdown",
   "metadata": {
    "collapsed": false
   },
   "source": [
    "### Попытки использовать юзер фичи в rectools"
   ]
  },
  {
   "cell_type": "code",
   "execution_count": null,
   "metadata": {
    "collapsed": false
   },
   "outputs": [],
   "source": [
    "age_df = pd.DataFrame({'id': list(users['user_id']), 'value': list(users['age']), 'feature': ['age'] * users.shape[0]})\n",
    "sex_df = pd.DataFrame({'id': list(users['user_id']), 'value': list(users['sex']), 'feature': ['sex'] * users.shape[0]})\n",
    "sex_age_df = pd.concat([age_df, sex_df], axis=0)\n",
    "sex_age_df = sex_age_df.dropna(axis=0, how=\"any\")\n",
    "\n",
    "sex_age_df = sex_age_df[sex_age_df['id'].isin(list(interactions_df['user_id']))]"
   ]
  },
  {
   "cell_type": "code",
   "execution_count": null,
   "metadata": {
    "collapsed": false
   },
   "outputs": [],
   "source": [
    "dataset_feature = Dataset.construct(\n",
    "    interactions_df=interactions_df,\n",
    "    user_features_df=sex_age_df,\n",
    "    item_features_df=None,\n",
    "    cat_item_features=['age', 'sex']\n",
    ")\n"
   ]
  },
  {
   "cell_type": "code",
   "execution_count": null,
   "metadata": {
    "collapsed": false
   },
   "outputs": [],
   "source": [
    "pop_cat = PopularInCategoryModel(category_feature='genre', n_categories=5)\n",
    "pop_cat.fit(dataset_feature);\n"
   ]
  },
  {
   "cell_type": "code",
   "execution_count": null,
   "metadata": {
    "collapsed": false
   },
   "outputs": [],
   "source": []
  }
 ],
 "metadata": {
  "kernelspec": {
   "display_name": "Python 3",
   "language": "python",
   "name": "python3"
  },
  "language_info": {
   "codemirror_mode": {
    "name": "ipython",
    "version": 3
   },
   "file_extension": ".py",
   "mimetype": "text/x-python",
   "name": "python",
   "nbconvert_exporter": "python",
   "pygments_lexer": "ipython3",
   "version": "3.9.10"
  }
 },
 "nbformat": 4,
 "nbformat_minor": 0
}
