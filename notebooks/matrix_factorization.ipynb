{
 "cells": [
  {
   "cell_type": "code",
   "execution_count": 8,
   "metadata": {
    "ExecuteTime": {
     "end_time": "2023-12-20T09:25:36.057249Z",
     "start_time": "2023-12-20T09:25:21.232803Z"
    }
   },
   "outputs": [
    {
     "name": "stdout",
     "output_type": "stream",
     "text": [
      "пуууууть /Users/tanchik/Desktop/Настоящее/учеба/RecSys/RecoServiceTemplate/service/local_repository\n",
      "массив ['', 'Users', 'tanchik', 'Desktop', 'Настоящее', 'учеба', 'RecSys', 'RecoServiceTemplate', 'service', 'local_repository']\n",
      "индекс 7\n",
      "вывод /Users/tanchik/Desktop/Настоящее/учеба/RecSys/RecoServiceTemplate\n",
      "Размер эмбединга для юзеров: (762727, 38) \n",
      " Размер эмбединга для айтемо: (13851, 38)\n"
     ]
    }
   ],
   "source": [
    "import os\n",
    "import pickle\n",
    "import time\n",
    "import warnings\n",
    "from pathlib import Path\n",
    "\n",
    "import numpy as np\n",
    "import optuna\n",
    "import pandas as pd\n",
    "\n",
    "from lightfm import LightFM\n",
    "import nmslib\n",
    "import rii\n",
    "\n",
    "from rectools import Columns\n",
    "from rectools.dataset import Dataset\n",
    "from rectools.metrics import calc_metrics\n",
    "from rectools.metrics.ranking import MAP\n",
    "from rectools.models import LightFMWrapperModel\n",
    "\n",
    "# Определение переменных окружения\n",
    "os.environ[\"OPENBLAS_NUM_THREADS\"] = \"1\"\n",
    "\n",
    "\n",
    "warnings.filterwarnings('ignore')"
   ]
  },
  {
   "cell_type": "code",
   "execution_count": 9,
   "metadata": {
    "ExecuteTime": {
     "end_time": "2023-12-20T09:25:40.131426Z",
     "start_time": "2023-12-20T09:25:36.061143Z"
    }
   },
   "outputs": [],
   "source": [
    "DATA_PATH = Path(\"/Users/tanchik/Desktop/Настоящее/учеба/RecSys/RecoServiceTemplate/kion_train\")\n",
    "users = pd.read_csv(DATA_PATH / 'users.csv')\n",
    "items = pd.read_csv(DATA_PATH / 'items.csv')\n",
    "interactions = pd.read_csv(DATA_PATH / 'interactions.csv')"
   ]
  },
  {
   "cell_type": "markdown",
   "metadata": {},
   "source": [
    "### Preprocess"
   ]
  },
  {
   "cell_type": "code",
   "execution_count": 10,
   "metadata": {
    "ExecuteTime": {
     "end_time": "2023-12-20T09:25:41.403790Z",
     "start_time": "2023-12-20T09:25:40.151755Z"
    }
   },
   "outputs": [],
   "source": [
    "interactions_df = interactions.drop(columns='total_dur')\n",
    "interactions_df['watched_pct'] = interactions_df['watched_pct'] / 100\n",
    "interactions_df.rename(columns={'user_id': Columns.User, 'item_id': Columns.Item,\n",
    "                                'last_watch_dt': Columns.Datetime, 'watched_pct': Columns.Weight}, inplace=True)\n",
    "interactions_df.dropna(inplace=True)"
   ]
  },
  {
   "cell_type": "code",
   "execution_count": 11,
   "metadata": {
    "ExecuteTime": {
     "end_time": "2023-12-20T09:25:42.542052Z",
     "start_time": "2023-12-20T09:25:41.405008Z"
    }
   },
   "outputs": [],
   "source": [
    "mask = interactions_df['weight'] < 0.10\n",
    "indexes_to_drop = interactions_df[mask].index\n",
    "interactions_df.drop(index=indexes_to_drop, inplace=True)\n",
    "interactions_df[Columns.Datetime] = pd.to_datetime(interactions_df[Columns.Datetime], format='%Y-%m-%d')"
   ]
  },
  {
   "cell_type": "markdown",
   "metadata": {},
   "source": [
    "### Подготовка моделей\n",
    "________________________________________________________________________________________________________"
   ]
  },
  {
   "cell_type": "code",
   "execution_count": 12,
   "metadata": {
    "ExecuteTime": {
     "end_time": "2023-12-20T09:25:43.893372Z",
     "start_time": "2023-12-20T09:25:42.542456Z"
    }
   },
   "outputs": [
    {
     "name": "stdout",
     "output_type": "stream",
     "text": [
      "train: (3404098, 4)\n",
      "test: (317219, 4)\n"
     ]
    }
   ],
   "source": [
    "max_date = interactions_df[Columns.Datetime].max()\n",
    "\n",
    "train = interactions_df[interactions_df[Columns.Datetime] < max_date - pd.Timedelta(days=7)].copy()\n",
    "test = interactions_df[interactions_df[Columns.Datetime] >= max_date - pd.Timedelta(days=7)].copy()\n",
    "\n",
    "print(f\"train: {train.shape}\")\n",
    "print(f\"test: {test.shape}\")\n",
    "\n",
    "cold_users = set(test[Columns.User]) - set(train[Columns.User])\n",
    "test.drop(test[test[Columns.User].isin(cold_users)].index, inplace=True)"
   ]
  },
  {
   "cell_type": "markdown",
   "metadata": {},
   "source": [
    "#### Работа с фичами"
   ]
  },
  {
   "cell_type": "code",
   "execution_count": 13,
   "metadata": {
    "ExecuteTime": {
     "end_time": "2023-12-20T09:25:43.913440Z",
     "start_time": "2023-12-20T09:25:43.891Z"
    }
   },
   "outputs": [
    {
     "data": {
      "text/plain": "   user_id        age        income sex  kids_flg\n0   973171  age_25_34  income_60_90   М         1",
      "text/html": "<div>\n<style scoped>\n    .dataframe tbody tr th:only-of-type {\n        vertical-align: middle;\n    }\n\n    .dataframe tbody tr th {\n        vertical-align: top;\n    }\n\n    .dataframe thead th {\n        text-align: right;\n    }\n</style>\n<table border=\"1\" class=\"dataframe\">\n  <thead>\n    <tr style=\"text-align: right;\">\n      <th></th>\n      <th>user_id</th>\n      <th>age</th>\n      <th>income</th>\n      <th>sex</th>\n      <th>kids_flg</th>\n    </tr>\n  </thead>\n  <tbody>\n    <tr>\n      <th>0</th>\n      <td>973171</td>\n      <td>age_25_34</td>\n      <td>income_60_90</td>\n      <td>М</td>\n      <td>1</td>\n    </tr>\n  </tbody>\n</table>\n</div>"
     },
     "execution_count": 13,
     "metadata": {},
     "output_type": "execute_result"
    }
   ],
   "source": [
    "users.head(1)"
   ]
  },
  {
   "cell_type": "code",
   "execution_count": 14,
   "metadata": {
    "ExecuteTime": {
     "end_time": "2023-12-20T09:25:43.928465Z",
     "start_time": "2023-12-20T09:25:43.919327Z"
    }
   },
   "outputs": [
    {
     "data": {
      "text/plain": "   item_id content_type           title      title_orig  release_year  \\\n0    10711         film  Поговори с ней  Hable con ella        2002.0   \n\n                                    genres countries  for_kids  age_rating  \\\n0  драмы, зарубежные, детективы, мелодрамы   Испания       NaN        16.0   \n\n  studios         directors  \\\n0     NaN  Педро Альмодовар   \n\n                                              actors  \\\n0  Адольфо Фернандес, Ана Фернандес, Дарио Гранди...   \n\n                                         description  \\\n0  Мелодрама легендарного Педро Альмодовара «Пого...   \n\n                                            keywords  \n0  Поговори, ней, 2002, Испания, друзья, любовь, ...  ",
      "text/html": "<div>\n<style scoped>\n    .dataframe tbody tr th:only-of-type {\n        vertical-align: middle;\n    }\n\n    .dataframe tbody tr th {\n        vertical-align: top;\n    }\n\n    .dataframe thead th {\n        text-align: right;\n    }\n</style>\n<table border=\"1\" class=\"dataframe\">\n  <thead>\n    <tr style=\"text-align: right;\">\n      <th></th>\n      <th>item_id</th>\n      <th>content_type</th>\n      <th>title</th>\n      <th>title_orig</th>\n      <th>release_year</th>\n      <th>genres</th>\n      <th>countries</th>\n      <th>for_kids</th>\n      <th>age_rating</th>\n      <th>studios</th>\n      <th>directors</th>\n      <th>actors</th>\n      <th>description</th>\n      <th>keywords</th>\n    </tr>\n  </thead>\n  <tbody>\n    <tr>\n      <th>0</th>\n      <td>10711</td>\n      <td>film</td>\n      <td>Поговори с ней</td>\n      <td>Hable con ella</td>\n      <td>2002.0</td>\n      <td>драмы, зарубежные, детективы, мелодрамы</td>\n      <td>Испания</td>\n      <td>NaN</td>\n      <td>16.0</td>\n      <td>NaN</td>\n      <td>Педро Альмодовар</td>\n      <td>Адольфо Фернандес, Ана Фернандес, Дарио Гранди...</td>\n      <td>Мелодрама легендарного Педро Альмодовара «Пого...</td>\n      <td>Поговори, ней, 2002, Испания, друзья, любовь, ...</td>\n    </tr>\n  </tbody>\n</table>\n</div>"
     },
     "execution_count": 14,
     "metadata": {},
     "output_type": "execute_result"
    }
   ],
   "source": [
    "items.head(1)"
   ]
  },
  {
   "cell_type": "code",
   "execution_count": 15,
   "metadata": {
    "ExecuteTime": {
     "end_time": "2023-12-20T09:25:44.154255Z",
     "start_time": "2023-12-20T09:25:43.926675Z"
    }
   },
   "outputs": [],
   "source": [
    "items = items.loc[items[Columns.Item].isin(interactions_df[Columns.Item])].copy()\n",
    "users = users.loc[users[Columns.User].isin(interactions_df[Columns.User])].copy()"
   ]
  },
  {
   "cell_type": "code",
   "execution_count": 16,
   "metadata": {
    "ExecuteTime": {
     "end_time": "2023-12-20T09:25:44.913754Z",
     "start_time": "2023-12-20T09:25:44.158066Z"
    }
   },
   "outputs": [
    {
     "name": "stdout",
     "output_type": "stream",
     "text": [
      "user_id    0.000000\n",
      "age        0.011622\n",
      "sex        0.011237\n",
      "dtype: float64\n",
      "user_id    0.0\n",
      "age        0.0\n",
      "sex        0.0\n",
      "dtype: float64\n"
     ]
    }
   ],
   "source": [
    "users.drop(columns=['kids_flg', 'income'], inplace=True)\n",
    "print(users.isnull().mean())\n",
    "users.fillna('Unknown', inplace=True)\n",
    "print(users.isnull().mean())"
   ]
  },
  {
   "cell_type": "code",
   "execution_count": 17,
   "metadata": {
    "ExecuteTime": {
     "end_time": "2023-12-20T09:25:44.968316Z",
     "start_time": "2023-12-20T09:25:44.934049Z"
    }
   },
   "outputs": [
    {
     "name": "stdout",
     "output_type": "stream",
     "text": [
      "item_id         0.000000\n",
      "content_type    0.000000\n",
      "genres          0.000000\n",
      "directors       0.062595\n",
      "actors          0.139557\n",
      "dtype: float64\n",
      "item_id         0.0\n",
      "content_type    0.0\n",
      "genres          0.0\n",
      "directors       0.0\n",
      "actors          0.0\n",
      "dtype: float64\n"
     ]
    }
   ],
   "source": [
    "items.drop(columns=['keywords', 'description', 'studios', 'age_rating',\n",
    "                    'for_kids', 'countries', 'release_year', 'title_orig', 'title'], inplace=True)\n",
    "print(items.isnull().mean())\n",
    "items.fillna('Unknown', inplace=True)\n",
    "print(items.isnull().mean())"
   ]
  },
  {
   "cell_type": "code",
   "execution_count": 18,
   "metadata": {
    "ExecuteTime": {
     "end_time": "2023-12-20T09:25:44.975584Z",
     "start_time": "2023-12-20T09:25:44.972419Z"
    }
   },
   "outputs": [],
   "source": [
    "def get_feature_df(features: tuple, id_label: str, items: pd.DataFrame) -> pd.DataFrame:\n",
    "    df = pd.DataFrame(columns=['id', 'value', 'feature'])\n",
    "    for feature in features:\n",
    "        feature, multi_label_binary_flag = feature\n",
    "        if multi_label_binary_flag:\n",
    "            items[feature] = items[feature].str.lower().str.replace(\", \", \",\", regex=False).str.split(\",\")\n",
    "            feature_df = items[[id_label, feature]].explode(feature)\n",
    "            feature_df.columns = [\"id\", \"value\"]\n",
    "            feature_df[\"feature\"] = feature\n",
    "        else:\n",
    "            feature_df = items.reindex(columns=[id_label, feature])\n",
    "            feature_df.columns = [\"id\", \"value\"]\n",
    "            feature_df[\"feature\"] = feature\n",
    "        df = pd.concat([df, feature_df])\n",
    "    return df"
   ]
  },
  {
   "cell_type": "markdown",
   "metadata": {},
   "source": [
    "создание датасета для items"
   ]
  },
  {
   "cell_type": "code",
   "execution_count": 19,
   "metadata": {
    "ExecuteTime": {
     "end_time": "2023-12-20T09:25:45.180137Z",
     "start_time": "2023-12-20T09:25:45.013334Z"
    }
   },
   "outputs": [],
   "source": [
    "featurse = (('genres', True), ('content_type', False),\n",
    "            ('actors', True), ('directors', True))\n",
    "id_label = 'item_id'\n",
    "items_features = get_feature_df(featurse, id_label, items)"
   ]
  },
  {
   "cell_type": "code",
   "execution_count": 20,
   "metadata": {
    "ExecuteTime": {
     "end_time": "2023-12-20T09:25:45.193089Z",
     "start_time": "2023-12-20T09:25:45.180348Z"
    }
   },
   "outputs": [
    {
     "data": {
      "text/plain": "          id           value    feature\n0      10711           драмы     genres\n0      10711      зарубежные     genres\n0      10711       детективы     genres\n0      10711       мелодрамы     genres\n1       2508      зарубежные     genres\n15960  10632     амир камдин  directors\n15960  10632       эрик эгер  directors\n15961   4538   марк о’коннор  directors\n15961   4538  конор макмахон  directors\n15962   3206  михаил миронов  directors",
      "text/html": "<div>\n<style scoped>\n    .dataframe tbody tr th:only-of-type {\n        vertical-align: middle;\n    }\n\n    .dataframe tbody tr th {\n        vertical-align: top;\n    }\n\n    .dataframe thead th {\n        text-align: right;\n    }\n</style>\n<table border=\"1\" class=\"dataframe\">\n  <thead>\n    <tr style=\"text-align: right;\">\n      <th></th>\n      <th>id</th>\n      <th>value</th>\n      <th>feature</th>\n    </tr>\n  </thead>\n  <tbody>\n    <tr>\n      <th>0</th>\n      <td>10711</td>\n      <td>драмы</td>\n      <td>genres</td>\n    </tr>\n    <tr>\n      <th>0</th>\n      <td>10711</td>\n      <td>зарубежные</td>\n      <td>genres</td>\n    </tr>\n    <tr>\n      <th>0</th>\n      <td>10711</td>\n      <td>детективы</td>\n      <td>genres</td>\n    </tr>\n    <tr>\n      <th>0</th>\n      <td>10711</td>\n      <td>мелодрамы</td>\n      <td>genres</td>\n    </tr>\n    <tr>\n      <th>1</th>\n      <td>2508</td>\n      <td>зарубежные</td>\n      <td>genres</td>\n    </tr>\n    <tr>\n      <th>15960</th>\n      <td>10632</td>\n      <td>амир камдин</td>\n      <td>directors</td>\n    </tr>\n    <tr>\n      <th>15960</th>\n      <td>10632</td>\n      <td>эрик эгер</td>\n      <td>directors</td>\n    </tr>\n    <tr>\n      <th>15961</th>\n      <td>4538</td>\n      <td>марк о’коннор</td>\n      <td>directors</td>\n    </tr>\n    <tr>\n      <th>15961</th>\n      <td>4538</td>\n      <td>конор макмахон</td>\n      <td>directors</td>\n    </tr>\n    <tr>\n      <th>15962</th>\n      <td>3206</td>\n      <td>михаил миронов</td>\n      <td>directors</td>\n    </tr>\n  </tbody>\n</table>\n</div>"
     },
     "execution_count": 20,
     "metadata": {},
     "output_type": "execute_result"
    }
   ],
   "source": [
    "pd.concat([items_features.head(), items_features.tail()])"
   ]
  },
  {
   "cell_type": "code",
   "execution_count": 21,
   "metadata": {
    "ExecuteTime": {
     "end_time": "2023-12-20T09:25:45.213817Z",
     "start_time": "2023-12-20T09:25:45.200749Z"
    }
   },
   "outputs": [
    {
     "data": {
      "text/plain": "array(['genres', 'content_type', 'actors', 'directors'], dtype=object)"
     },
     "execution_count": 21,
     "metadata": {},
     "output_type": "execute_result"
    }
   ],
   "source": [
    "items_features['feature'].unique()"
   ]
  },
  {
   "cell_type": "markdown",
   "metadata": {},
   "source": [
    "создание матрицы для юезров"
   ]
  },
  {
   "cell_type": "code",
   "execution_count": 22,
   "metadata": {
    "ExecuteTime": {
     "end_time": "2023-12-20T09:25:45.355122Z",
     "start_time": "2023-12-20T09:25:45.238221Z"
    }
   },
   "outputs": [
    {
     "data": {
      "text/plain": "             id      value feature\n0        973171  age_25_34     age\n1        962099  age_18_24     age\n3        721985  age_45_54     age\n4        704055  age_35_44     age\n5       1037719  age_45_54     age\n840186    80113          Ж     sex\n840188   312839          Ж     sex\n840189   191349          М     sex\n840190   393868          М     sex\n840195   590706          Ж     sex",
      "text/html": "<div>\n<style scoped>\n    .dataframe tbody tr th:only-of-type {\n        vertical-align: middle;\n    }\n\n    .dataframe tbody tr th {\n        vertical-align: top;\n    }\n\n    .dataframe thead th {\n        text-align: right;\n    }\n</style>\n<table border=\"1\" class=\"dataframe\">\n  <thead>\n    <tr style=\"text-align: right;\">\n      <th></th>\n      <th>id</th>\n      <th>value</th>\n      <th>feature</th>\n    </tr>\n  </thead>\n  <tbody>\n    <tr>\n      <th>0</th>\n      <td>973171</td>\n      <td>age_25_34</td>\n      <td>age</td>\n    </tr>\n    <tr>\n      <th>1</th>\n      <td>962099</td>\n      <td>age_18_24</td>\n      <td>age</td>\n    </tr>\n    <tr>\n      <th>3</th>\n      <td>721985</td>\n      <td>age_45_54</td>\n      <td>age</td>\n    </tr>\n    <tr>\n      <th>4</th>\n      <td>704055</td>\n      <td>age_35_44</td>\n      <td>age</td>\n    </tr>\n    <tr>\n      <th>5</th>\n      <td>1037719</td>\n      <td>age_45_54</td>\n      <td>age</td>\n    </tr>\n    <tr>\n      <th>840186</th>\n      <td>80113</td>\n      <td>Ж</td>\n      <td>sex</td>\n    </tr>\n    <tr>\n      <th>840188</th>\n      <td>312839</td>\n      <td>Ж</td>\n      <td>sex</td>\n    </tr>\n    <tr>\n      <th>840189</th>\n      <td>191349</td>\n      <td>М</td>\n      <td>sex</td>\n    </tr>\n    <tr>\n      <th>840190</th>\n      <td>393868</td>\n      <td>М</td>\n      <td>sex</td>\n    </tr>\n    <tr>\n      <th>840195</th>\n      <td>590706</td>\n      <td>Ж</td>\n      <td>sex</td>\n    </tr>\n  </tbody>\n</table>\n</div>"
     },
     "execution_count": 22,
     "metadata": {},
     "output_type": "execute_result"
    }
   ],
   "source": [
    "featurse = (('age', False), ('sex', False))\n",
    "id_label = 'user_id'\n",
    "users_features = get_feature_df(featurse, id_label, users)\n",
    "pd.concat([users_features.head(), users_features.tail()])"
   ]
  },
  {
   "cell_type": "code",
   "execution_count": 23,
   "metadata": {
    "ExecuteTime": {
     "end_time": "2023-12-20T09:25:45.469887Z",
     "start_time": "2023-12-20T09:25:45.395509Z"
    }
   },
   "outputs": [
    {
     "data": {
      "text/plain": "array(['age', 'sex'], dtype=object)"
     },
     "execution_count": 23,
     "metadata": {},
     "output_type": "execute_result"
    }
   ],
   "source": [
    "users_features['feature'].unique()"
   ]
  },
  {
   "cell_type": "markdown",
   "metadata": {},
   "source": [
    "### Создание моделей"
   ]
  },
  {
   "cell_type": "code",
   "execution_count": 24,
   "metadata": {
    "ExecuteTime": {
     "end_time": "2023-12-20T09:25:45.470643Z",
     "start_time": "2023-12-20T09:25:45.419883Z"
    }
   },
   "outputs": [],
   "source": [
    "K_RECOS = 10\n",
    "RANDOM_STATE = 42\n",
    "NUM_THREADS = 6\n",
    "USER_ALPHA = 0  # Lightfm\n",
    "ITEM_ALPHA = 0  # Lightfm"
   ]
  },
  {
   "cell_type": "code",
   "execution_count": 25,
   "metadata": {
    "ExecuteTime": {
     "end_time": "2023-12-20T09:25:47.069114Z",
     "start_time": "2023-12-20T09:25:45.420399Z"
    }
   },
   "outputs": [],
   "source": [
    "dataset = Dataset.construct(\n",
    "    interactions_df=interactions_df,\n",
    "    user_features_df=users_features,\n",
    "    cat_user_features=[\"sex\", \"age\"],\n",
    "    item_features_df=items_features,\n",
    "    cat_item_features=['genres', 'content_type', 'actors', 'directors'],\n",
    ")"
   ]
  },
  {
   "cell_type": "code",
   "execution_count": 110,
   "metadata": {},
   "outputs": [],
   "source": [
    "with open('dataset.pkl', 'wb') as file:\n",
    "    pickle.dump(dataset, file)"
   ]
  },
  {
   "cell_type": "code",
   "execution_count": null,
   "metadata": {},
   "outputs": [],
   "source": [
    "TEST_USERS = test[Columns.User].unique()"
   ]
  },
  {
   "cell_type": "markdown",
   "metadata": {},
   "source": [
    "Тюнинг параметров"
   ]
  },
  {
   "cell_type": "code",
   "execution_count": null,
   "metadata": {},
   "outputs": [],
   "source": [
    "metrics = {\n",
    "    'MAP@10': MAP(k=10)\n",
    "}\n",
    "\n",
    "\n",
    "def objective(trial):\n",
    "    no_components = trial.suggest_int('no_components', 32, 50)\n",
    "    epochs = trial.suggest_int('epochs', 10, 50)\n",
    "    learning_rate = trial.suggest_float('learning_rate', 0.03, 0.05)\n",
    "    loss_function = trial.suggest_categorical('loss', ['logistic', 'bpr', 'warp'])\n",
    "\n",
    "    model = LightFMWrapperModel(\n",
    "        LightFM(\n",
    "            no_components=no_components,\n",
    "            loss=loss_function,\n",
    "            random_state=RANDOM_STATE,\n",
    "            learning_rate=learning_rate,\n",
    "            user_alpha=USER_ALPHA,\n",
    "            item_alpha=ITEM_ALPHA,\n",
    "        ),\n",
    "        epochs=epochs,\n",
    "        num_threads=NUM_THREADS,\n",
    "    )\n",
    "    model.fit(dataset)\n",
    "    recos = model.recommend(\n",
    "        users=TEST_USERS,\n",
    "        dataset=dataset,\n",
    "        k=K_RECOS,\n",
    "        filter_viewed=True,\n",
    "    )\n",
    "    metric_values = calc_metrics(metrics, recos, test, train)\n",
    "\n",
    "    return metric_values['MAP@10']\n",
    "\n",
    "\n",
    "study = optuna.create_study(direction='maximize')\n",
    "study.optimize(objective, n_trials=5, n_jobs=6)\n",
    "\n",
    "print('Лучшие параметры: ', study.best_params)"
   ]
  },
  {
   "cell_type": "markdown",
   "metadata": {},
   "source": [
    "### Рекомендации с nmclib"
   ]
  },
  {
   "cell_type": "code",
   "execution_count": 26,
   "metadata": {
    "ExecuteTime": {
     "end_time": "2023-12-20T09:25:47.087355Z",
     "start_time": "2023-12-20T09:25:47.085456Z"
    }
   },
   "outputs": [],
   "source": [
    "class ANNRecommendation:\n",
    "    def __init__(self, model, dataset, M=48, efc=100, num_threads=6, K=10, space_name='negdotprod'):\n",
    "        self.index_time_params = {'M': M, 'indexThreadQty': num_threads,\n",
    "                                  'efConstruction': efc, 'post': 0}\n",
    "        self.query_time_params = {'efSearch': efc}\n",
    "        self.model = model\n",
    "        self.dataset = dataset\n",
    "        self.num_threads = num_threads\n",
    "        self.K = K\n",
    "        self.space_name = space_name\n",
    "\n",
    "    def get_vectors(self):\n",
    "        user_embeddings, item_embeddings = self.model.get_vectors(dataset)\n",
    "        user_shape, item_shape = user_embeddings.shape, item_embeddings.shape\n",
    "        print(f'Размер эмбединга для юзеров: {user_shape} \\n Размер эмбединга для айтемо: {item_shape}')\n",
    "        return user_embeddings, item_embeddings\n",
    "\n",
    "    def augment_inner_product(self, user_embeddings, item_embeddings):\n",
    "        normed_factors = np.linalg.norm(item_embeddings, axis=1)\n",
    "        max_norm = normed_factors.max()\n",
    "\n",
    "        extra_dim = np.sqrt(max_norm ** 2 - normed_factors ** 2).reshape(-1, 1)\n",
    "        self.augmented_item_embeddings = np.append(item_embeddings, extra_dim, axis=1)\n",
    "\n",
    "        extra_zero = np.zeros((user_embeddings.shape[0], 1))\n",
    "        self.augmented_user_embeddings = np.append(user_embeddings, extra_zero, axis=1)\n",
    "\n",
    "    def create_index(self):\n",
    "        self.index = nmslib.init(method='hnsw', space=self.space_name, data_type=nmslib.DataType.DENSE_VECTOR)\n",
    "        self.index.addDataPointBatch(self.augmented_item_embeddings)\n",
    "        self.index.createIndex(self.index_time_params)\n",
    "\n",
    "    def create_query_params(self):\n",
    "        self.index.setQueryTimeParams(self.query_time_params)\n",
    "\n",
    "    def fit(self):\n",
    "        user_embeddings, item_embeddings = self.get_vectors()\n",
    "        self.augment_inner_product(user_embeddings, item_embeddings)\n",
    "        self.create_index()\n",
    "        self.create_query_params()\n",
    "\n",
    "    def get_recommendation(self, users):\n",
    "        users_intermal_ids = self.dataset.user_id_map.convert_to_internal(users)\n",
    "        query_matrix = self.augmented_user_embeddings[users_intermal_ids, :]\n",
    "        query_qty = query_matrix.shape[0]\n",
    "        start = time.time()\n",
    "        nbrs = self.index.knnQueryBatch(query_matrix, k=self.K, num_threads=self.num_threads)\n",
    "        end = time.time()\n",
    "        print('kNN time total=%f (sec), per query=%f (sec), per query adjusted for thread number=%f (sec)' %\n",
    "              (end-start, float(end-start)/query_qty, self.num_threads*float(end-start)/query_qty))\n",
    "        results = nbrs[0][0]\n",
    "        items = self.dataset.item_id_map.convert_to_external(results)\n",
    "        return items\n",
    "\n"
   ]
  },
  {
   "cell_type": "code",
   "execution_count": 27,
   "metadata": {
    "ExecuteTime": {
     "end_time": "2023-12-20T09:26:36.377889Z",
     "start_time": "2023-12-20T09:25:47.399455Z"
    }
   },
   "outputs": [
    {
     "data": {
      "text/plain": "<rectools.models.lightfm.LightFMWrapperModel at 0x7fe738b0d820>"
     },
     "execution_count": 27,
     "metadata": {},
     "output_type": "execute_result"
    }
   ],
   "source": [
    "model = LightFMWrapperModel(\n",
    "    LightFM(\n",
    "        no_components=36,\n",
    "        loss='bpr',\n",
    "        random_state=RANDOM_STATE,\n",
    "        learning_rate=0.03,\n",
    "        user_alpha=0.0008,\n",
    "        item_alpha=0.0004,\n",
    "    ),\n",
    "    epochs=50,\n",
    "    num_threads=NUM_THREADS,\n",
    ")\n",
    "\n",
    "model.fit(dataset)"
   ]
  },
  {
   "cell_type": "code",
   "execution_count": 28,
   "metadata": {
    "ExecuteTime": {
     "end_time": "2023-12-20T09:26:48.064818Z",
     "start_time": "2023-12-20T09:26:47.595273Z"
    }
   },
   "outputs": [],
   "source": [
    "recos = model.recommend(\n",
    "        users=list(interactions_df['user_id']),\n",
    "        dataset=dataset,\n",
    "        k=K_RECOS,\n",
    "        filter_viewed=True,\n",
    "    )\n",
    "metric_values = calc_metrics(metrics, recos, interactions_df, interactions_df)\n",
    "print(metric_values)"
   ]
  },
  {
   "cell_type": "code",
   "execution_count": 29,
   "metadata": {
    "ExecuteTime": {
     "end_time": "2023-12-20T09:27:01.825591Z",
     "start_time": "2023-12-20T09:27:01.812238Z"
    }
   },
   "outputs": [
    {
     "data": {
      "text/plain": "(762727, 38)"
     },
     "execution_count": 29,
     "metadata": {},
     "output_type": "execute_result"
    }
   ],
   "source": [
    "with open('light_fm.pickle', 'wb') as fle:\n",
    "    pickle.dump(model, fle, protocol=pickle.HIGHEST_PROTOCOL)"
   ]
  },
  {
   "cell_type": "code",
   "execution_count": 30,
   "metadata": {
    "ExecuteTime": {
     "end_time": "2023-12-20T09:27:09.438784Z",
     "start_time": "2023-12-20T09:27:09.429105Z"
    }
   },
   "outputs": [
    {
     "data": {
      "text/plain": "(13851, 38)"
     },
     "execution_count": 30,
     "metadata": {},
     "output_type": "execute_result"
    }
   ],
   "source": [
    "ann = ANNRecommendation(model, dataset)\n",
    "ann.fit()"
   ]
  },
  {
   "cell_type": "code",
   "execution_count": 31,
   "metadata": {
    "ExecuteTime": {
     "end_time": "2023-12-20T09:27:25.432996Z",
     "start_time": "2023-12-20T09:27:25.424631Z"
    }
   },
   "outputs": [
    {
     "data": {
      "text/plain": "array([[ 1.00000000e+00,  8.50391388e-03, -2.45465431e-03, ...,\n         3.10798828e-03, -8.74791201e-03, -3.43688997e-03],\n       [ 1.00000000e+00,  4.12966572e-02,  7.69328559e-03, ...,\n         2.61749234e-03, -4.33342485e-03, -9.85128060e-03],\n       [ 1.00000000e+00, -1.93211045e-02,  7.76999048e-04, ...,\n         6.36821846e-04, -6.79396326e-03,  9.95678362e-03],\n       ...,\n       [ 1.00000000e+00,  4.22919076e-03,  3.01771890e-03, ...,\n        -4.31494322e-04, -3.13436566e-03, -1.27900522e-02],\n       [ 1.00000000e+00, -2.07874887e-02,  9.21452977e-03, ...,\n         6.86798617e-03,  2.57753721e-03, -2.32120287e-02],\n       [ 1.00000000e+00,  4.67412844e-02, -4.39005010e-02, ...,\n        -3.30148786e-02, -5.52515918e-03,  3.43346708e-02]])"
     },
     "execution_count": 31,
     "metadata": {},
     "output_type": "execute_result"
    }
   ],
   "source": [
    "ann.get_recommendation([7])"
   ]
  },
  {
   "cell_type": "markdown",
   "metadata": {},
   "source": [
    "rii"
   ]
  },
  {
   "cell_type": "code",
   "execution_count": 28,
   "metadata": {},
   "outputs": [],
   "source": [
    "user_embeddings, item_embeddings = model.get_vectors(dataset)"
   ]
  },
  {
   "cell_type": "code",
   "execution_count": 29,
   "metadata": {},
   "outputs": [],
   "source": [
    "item_embeddings = item_embeddings.astype(np.float32)\n",
    "user_embeddings = user_embeddings.astype(np.float32)"
   ]
  },
  {
   "cell_type": "code",
   "execution_count": 30,
   "metadata": {},
   "outputs": [
    {
     "data": {
      "text/plain": [
       "(13711, 38)"
      ]
     },
     "execution_count": 30,
     "metadata": {},
     "output_type": "execute_result"
    }
   ],
   "source": [
    "item_embeddings.shape"
   ]
  },
  {
   "cell_type": "code",
   "execution_count": 31,
   "metadata": {},
   "outputs": [
    {
     "name": "stdout",
     "output_type": "stream",
     "text": [
      "M: 19, Ks: 256, metric : <class 'numpy.uint8'>, code_dtype: l2\n",
      "iter: 20, seed: 123\n",
      "Training the subspace: 0 / 19\n",
      "Training the subspace: 1 / 19\n",
      "Training the subspace: 2 / 19\n",
      "Training the subspace: 3 / 19\n",
      "Training the subspace: 4 / 19\n",
      "Training the subspace: 5 / 19\n",
      "Training the subspace: 6 / 19\n",
      "Training the subspace: 7 / 19\n",
      "Training the subspace: 8 / 19\n",
      "Training the subspace: 9 / 19\n",
      "Training the subspace: 10 / 19\n",
      "Training the subspace: 11 / 19\n",
      "Training the subspace: 12 / 19\n",
      "Training the subspace: 13 / 19\n",
      "Training the subspace: 14 / 19\n",
      "Training the subspace: 15 / 19\n",
      "Training the subspace: 16 / 19\n",
      "Training the subspace: 17 / 19\n",
      "Training the subspace: 18 / 19\n",
      "Encoding the subspace: 0 / 19\n",
      "SIMD support: avx\n",
      "Encoding the subspace: 1 / 19\n",
      "Encoding the subspace: 2 / 19\n",
      "Encoding the subspace: 3 / 19\n",
      "Encoding the subspace: 4 / 19\n",
      "Encoding the subspace: 5 / 19\n",
      "Encoding the subspace: 6 / 19\n",
      "Encoding the subspace: 7 / 19\n",
      "Encoding the subspace: 8 / 19\n",
      "Encoding the subspace: 9 / 19\n",
      "Encoding the subspace: 10 / 19\n",
      "Encoding the subspace: 11 / 19\n",
      "Encoding the subspace: 12 / 19\n",
      "Encoding the subspace: 13 / 19\n",
      "Encoding the subspace: 14 / 19\n",
      "Encoding the subspace: 15 / 19\n",
      "Encoding the subspace: 16 / 19\n",
      "Encoding the subspace: 17 / 19\n",
      "Encoding the subspace: 18 / 19\n",
      "713335 new vectors are added.\n",
      "Total number of codes is 713335\n",
      "The number of vectors used for training of coarse centers: 84400\n",
      "Start to run PQk-means\n",
      "Iteration start: 0 / 5\n",
      "find_nn finished. Error: 0.103268\n",
      "find_nn_time,6648\n",
      "Caution. No codes are assigned to 27-th centers.\n",
      "Caution. No codes are assigned to 39-th centers.\n",
      "Caution. No codes are assigned to 41-th centers.\n",
      "Caution. No codes are assigned to 83-th centers.\n",
      "Caution. No codes are assigned to 122-th centers.\n",
      "Caution. No codes are assigned to 134-th centers.\n",
      "Caution. No codes are assigned to 143-th centers.\n",
      "Caution. No codes are assigned to 155-th centers.\n",
      "Caution. No codes are assigned to 156-th centers.\n",
      "Caution. No codes are assigned to 165-th centers.\n",
      "Caution. No codes are assigned to 182-th centers.\n",
      "Caution. No codes are assigned to 186-th centers.\n",
      "Caution. No codes are assigned to 188-th centers.\n",
      "Caution. No codes are assigned to 191-th centers.\n",
      "Caution. No codes are assigned to 193-th centers.\n",
      "Caution. No codes are assigned to 200-th centers.\n",
      "Caution. No codes are assigned to 206-th centers.\n",
      "Caution. No codes are assigned to 207-th centers.\n",
      "Caution. No codes are assigned to 209-th centers.\n",
      "Caution. No codes are assigned to 210-th centers.\n",
      "Caution. No codes are assigned to 214-th centers.\n",
      "Caution. No codes are assigned to 217-th centers.\n",
      "Caution. No codes are assigned to 224-th centers.\n",
      "Caution. No codes are assigned to 226-th centers.\n",
      "Caution. No codes are assigned to 234-th centers.\n",
      "Caution. No codes are assigned to 235-th centers.\n",
      "Caution. No codes are assigned to 240-th centers.\n",
      "Caution. No codes are assigned to 245-th centers.\n",
      "Caution. No codes are assigned to 246-th centers.\n",
      "Caution. No codes are assigned to 247-th centers.\n",
      "Caution. No codes are assigned to 253-th centers.\n",
      "Caution. No codes are assigned to 254-th centers.\n",
      "Caution. No codes are assigned to 271-th centers.\n",
      "Caution. No codes are assigned to 273-th centers.\n",
      "Caution. No codes are assigned to 274-th centers.\n",
      "Caution. No codes are assigned to 277-th centers.\n",
      "Caution. No codes are assigned to 279-th centers.\n",
      "Caution. No codes are assigned to 292-th centers.\n",
      "Caution. No codes are assigned to 297-th centers.\n",
      "Caution. No codes are assigned to 309-th centers.\n",
      "Caution. No codes are assigned to 310-th centers.\n",
      "Caution. No codes are assigned to 323-th centers.\n",
      "Caution. No codes are assigned to 324-th centers.\n",
      "Caution. No codes are assigned to 325-th centers.\n",
      "Caution. No codes are assigned to 333-th centers.\n",
      "Caution. No codes are assigned to 336-th centers.\n",
      "Caution. No codes are assigned to 337-th centers.\n",
      "Caution. No codes are assigned to 339-th centers.\n",
      "Caution. No codes are assigned to 343-th centers.\n",
      "Caution. No codes are assigned to 352-th centers.\n",
      "Caution. No codes are assigned to 356-th centers.\n",
      "Caution. No codes are assigned to 361-th centers.\n",
      "Caution. No codes are assigned to 367-th centers.\n",
      "Caution. No codes are assigned to 372-th centers.\n",
      "Caution. No codes are assigned to 377-th centers.\n",
      "Caution. No codes are assigned to 390-th centers.\n",
      "Caution. No codes are assigned to 396-th centers.\n",
      "Caution. No codes are assigned to 404-th centers.\n",
      "Caution. No codes are assigned to 406-th centers.\n",
      "Caution. No codes are assigned to 422-th centers.\n",
      "Caution. No codes are assigned to 424-th centers.\n",
      "Caution. No codes are assigned to 434-th centers.\n",
      "Caution. No codes are assigned to 438-th centers.\n",
      "Caution. No codes are assigned to 440-th centers.\n",
      "Caution. No codes are assigned to 447-th centers.\n",
      "Caution. No codes are assigned to 450-th centers.\n",
      "Caution. No codes are assigned to 454-th centers.\n",
      "Caution. No codes are assigned to 456-th centers.\n",
      "Caution. No codes are assigned to 464-th centers.\n",
      "Caution. No codes are assigned to 467-th centers.\n",
      "Caution. No codes are assigned to 471-th centers.\n",
      "Caution. No codes are assigned to 473-th centers.\n",
      "Caution. No codes are assigned to 475-th centers.\n",
      "Caution. No codes are assigned to 477-th centers.\n",
      "Caution. No codes are assigned to 480-th centers.\n",
      "Caution. No codes are assigned to 482-th centers.\n",
      "Caution. No codes are assigned to 483-th centers.\n",
      "Caution. No codes are assigned to 490-th centers.\n",
      "Caution. No codes are assigned to 493-th centers.\n",
      "Caution. No codes are assigned to 494-th centers.\n",
      "Caution. No codes are assigned to 497-th centers.\n",
      "Caution. No codes are assigned to 502-th centers.\n",
      "Caution. No codes are assigned to 508-th centers.\n",
      "Caution. No codes are assigned to 509-th centers.\n",
      "Caution. No codes are assigned to 511-th centers.\n",
      "Caution. No codes are assigned to 516-th centers.\n",
      "Caution. No codes are assigned to 518-th centers.\n",
      "Caution. No codes are assigned to 526-th centers.\n",
      "Caution. No codes are assigned to 527-th centers.\n",
      "Caution. No codes are assigned to 537-th centers.\n",
      "Caution. No codes are assigned to 538-th centers.\n",
      "Caution. No codes are assigned to 544-th centers.\n",
      "Caution. No codes are assigned to 547-th centers.\n",
      "Caution. No codes are assigned to 553-th centers.\n",
      "Caution. No codes are assigned to 554-th centers.\n",
      "Caution. No codes are assigned to 559-th centers.\n",
      "Caution. No codes are assigned to 562-th centers.\n",
      "Caution. No codes are assigned to 563-th centers.\n",
      "Caution. No codes are assigned to 566-th centers.\n",
      "Caution. No codes are assigned to 569-th centers.\n",
      "Caution. No codes are assigned to 572-th centers.\n",
      "Caution. No codes are assigned to 574-th centers.\n",
      "Caution. No codes are assigned to 581-th centers.\n",
      "Caution. No codes are assigned to 582-th centers.\n",
      "Caution. No codes are assigned to 592-th centers.\n",
      "Caution. No codes are assigned to 596-th centers.\n",
      "Caution. No codes are assigned to 599-th centers.\n",
      "Caution. No codes are assigned to 604-th centers.\n",
      "Caution. No codes are assigned to 607-th centers.\n",
      "Caution. No codes are assigned to 617-th centers.\n",
      "Caution. No codes are assigned to 619-th centers.\n",
      "Caution. No codes are assigned to 623-th centers.\n",
      "Caution. No codes are assigned to 625-th centers.\n",
      "Caution. No codes are assigned to 626-th centers.\n",
      "Caution. No codes are assigned to 629-th centers.\n",
      "Caution. No codes are assigned to 630-th centers.\n",
      "Caution. No codes are assigned to 634-th centers.\n",
      "Caution. No codes are assigned to 642-th centers.\n",
      "Caution. No codes are assigned to 644-th centers.\n",
      "Caution. No codes are assigned to 645-th centers.\n",
      "Caution. No codes are assigned to 646-th centers.\n",
      "Caution. No codes are assigned to 651-th centers.\n",
      "Caution. No codes are assigned to 652-th centers.\n",
      "Caution. No codes are assigned to 659-th centers.\n",
      "Caution. No codes are assigned to 660-th centers.\n",
      "Caution. No codes are assigned to 661-th centers.\n",
      "Caution. No codes are assigned to 662-th centers.\n",
      "Caution. No codes are assigned to 672-th centers.\n",
      "Caution. No codes are assigned to 673-th centers.\n",
      "Caution. No codes are assigned to 679-th centers.\n",
      "Caution. No codes are assigned to 680-th centers.\n",
      "Caution. No codes are assigned to 686-th centers.\n",
      "Caution. No codes are assigned to 687-th centers.\n",
      "Caution. No codes are assigned to 702-th centers.\n",
      "Caution. No codes are assigned to 705-th centers.\n",
      "Caution. No codes are assigned to 710-th centers.\n",
      "Caution. No codes are assigned to 712-th centers.\n",
      "Caution. No codes are assigned to 717-th centers.\n",
      "Caution. No codes are assigned to 718-th centers.\n",
      "Caution. No codes are assigned to 720-th centers.\n",
      "Caution. No codes are assigned to 722-th centers.\n",
      "Caution. No codes are assigned to 725-th centers.\n",
      "Caution. No codes are assigned to 726-th centers.\n",
      "Caution. No codes are assigned to 730-th centers.\n",
      "Caution. No codes are assigned to 740-th centers.\n",
      "Caution. No codes are assigned to 745-th centers.\n",
      "Caution. No codes are assigned to 749-th centers.\n",
      "Caution. No codes are assigned to 752-th centers.\n",
      "Caution. No codes are assigned to 754-th centers.\n",
      "Caution. No codes are assigned to 755-th centers.\n",
      "Caution. No codes are assigned to 761-th centers.\n",
      "Caution. No codes are assigned to 766-th centers.\n",
      "Caution. No codes are assigned to 771-th centers.\n",
      "Caution. No codes are assigned to 775-th centers.\n",
      "Caution. No codes are assigned to 778-th centers.\n",
      "Caution. No codes are assigned to 782-th centers.\n",
      "Caution. No codes are assigned to 789-th centers.\n",
      "Caution. No codes are assigned to 793-th centers.\n",
      "Caution. No codes are assigned to 794-th centers.\n",
      "Caution. No codes are assigned to 797-th centers.\n",
      "Caution. No codes are assigned to 799-th centers.\n",
      "Caution. No codes are assigned to 801-th centers.\n",
      "Caution. No codes are assigned to 803-th centers.\n",
      "Caution. No codes are assigned to 804-th centers.\n",
      "Caution. No codes are assigned to 805-th centers.\n",
      "Caution. No codes are assigned to 807-th centers.\n",
      "Caution. No codes are assigned to 815-th centers.\n",
      "Caution. No codes are assigned to 818-th centers.\n",
      "Caution. No codes are assigned to 822-th centers.\n",
      "Caution. No codes are assigned to 825-th centers.\n",
      "Caution. No codes are assigned to 826-th centers.\n",
      "Caution. No codes are assigned to 829-th centers.\n",
      "Caution. No codes are assigned to 832-th centers.\n",
      "Caution. No codes are assigned to 840-th centers.\n",
      "find_nn+update_center_time,6659\n",
      "Iteration start: 1 / 5\n",
      "find_nn finished. Error: 0.0934104\n",
      "find_nn_time,6524\n",
      "Caution. No codes are assigned to 27-th centers.\n",
      "Caution. No codes are assigned to 39-th centers.\n",
      "Caution. No codes are assigned to 41-th centers.\n",
      "Caution. No codes are assigned to 83-th centers.\n",
      "Caution. No codes are assigned to 122-th centers.\n",
      "Caution. No codes are assigned to 134-th centers.\n",
      "Caution. No codes are assigned to 143-th centers.\n",
      "Caution. No codes are assigned to 155-th centers.\n",
      "Caution. No codes are assigned to 156-th centers.\n",
      "Caution. No codes are assigned to 165-th centers.\n",
      "Caution. No codes are assigned to 182-th centers.\n",
      "Caution. No codes are assigned to 186-th centers.\n",
      "Caution. No codes are assigned to 191-th centers.\n",
      "Caution. No codes are assigned to 193-th centers.\n",
      "Caution. No codes are assigned to 200-th centers.\n",
      "Caution. No codes are assigned to 207-th centers.\n",
      "Caution. No codes are assigned to 209-th centers.\n",
      "Caution. No codes are assigned to 210-th centers.\n",
      "Caution. No codes are assigned to 214-th centers.\n",
      "Caution. No codes are assigned to 217-th centers.\n",
      "Caution. No codes are assigned to 224-th centers.\n",
      "Caution. No codes are assigned to 226-th centers.\n",
      "Caution. No codes are assigned to 234-th centers.\n",
      "Caution. No codes are assigned to 235-th centers.\n",
      "Caution. No codes are assigned to 240-th centers.\n",
      "Caution. No codes are assigned to 245-th centers.\n",
      "Caution. No codes are assigned to 246-th centers.\n",
      "Caution. No codes are assigned to 247-th centers.\n",
      "Caution. No codes are assigned to 253-th centers.\n",
      "Caution. No codes are assigned to 254-th centers.\n",
      "Caution. No codes are assigned to 271-th centers.\n",
      "Caution. No codes are assigned to 273-th centers.\n",
      "Caution. No codes are assigned to 274-th centers.\n",
      "Caution. No codes are assigned to 277-th centers.\n",
      "Caution. No codes are assigned to 279-th centers.\n",
      "Caution. No codes are assigned to 292-th centers.\n",
      "Caution. No codes are assigned to 297-th centers.\n",
      "Caution. No codes are assigned to 309-th centers.\n",
      "Caution. No codes are assigned to 310-th centers.\n",
      "Caution. No codes are assigned to 323-th centers.\n",
      "Caution. No codes are assigned to 324-th centers.\n",
      "Caution. No codes are assigned to 325-th centers.\n",
      "Caution. No codes are assigned to 333-th centers.\n",
      "Caution. No codes are assigned to 336-th centers.\n",
      "Caution. No codes are assigned to 337-th centers.\n",
      "Caution. No codes are assigned to 339-th centers.\n",
      "Caution. No codes are assigned to 343-th centers.\n",
      "Caution. No codes are assigned to 352-th centers.\n",
      "Caution. No codes are assigned to 356-th centers.\n",
      "Caution. No codes are assigned to 361-th centers.\n",
      "Caution. No codes are assigned to 367-th centers.\n",
      "Caution. No codes are assigned to 372-th centers.\n",
      "Caution. No codes are assigned to 377-th centers.\n",
      "Caution. No codes are assigned to 390-th centers.\n",
      "Caution. No codes are assigned to 396-th centers.\n",
      "Caution. No codes are assigned to 404-th centers.\n",
      "Caution. No codes are assigned to 406-th centers.\n",
      "Caution. No codes are assigned to 422-th centers.\n",
      "Caution. No codes are assigned to 424-th centers.\n",
      "Caution. No codes are assigned to 434-th centers.\n",
      "Caution. No codes are assigned to 438-th centers.\n",
      "Caution. No codes are assigned to 440-th centers.\n",
      "Caution. No codes are assigned to 447-th centers.\n",
      "Caution. No codes are assigned to 450-th centers.\n",
      "Caution. No codes are assigned to 454-th centers.\n",
      "Caution. No codes are assigned to 456-th centers.\n",
      "Caution. No codes are assigned to 464-th centers.\n",
      "Caution. No codes are assigned to 467-th centers.\n",
      "Caution. No codes are assigned to 471-th centers.\n",
      "Caution. No codes are assigned to 473-th centers.\n",
      "Caution. No codes are assigned to 475-th centers.\n",
      "Caution. No codes are assigned to 477-th centers.\n",
      "Caution. No codes are assigned to 480-th centers.\n",
      "Caution. No codes are assigned to 482-th centers.\n",
      "Caution. No codes are assigned to 483-th centers.\n",
      "Caution. No codes are assigned to 490-th centers.\n",
      "Caution. No codes are assigned to 493-th centers.\n",
      "Caution. No codes are assigned to 494-th centers.\n",
      "Caution. No codes are assigned to 497-th centers.\n",
      "Caution. No codes are assigned to 502-th centers.\n",
      "Caution. No codes are assigned to 508-th centers.\n",
      "Caution. No codes are assigned to 509-th centers.\n",
      "Caution. No codes are assigned to 511-th centers.\n",
      "Caution. No codes are assigned to 516-th centers.\n",
      "Caution. No codes are assigned to 518-th centers.\n",
      "Caution. No codes are assigned to 526-th centers.\n",
      "Caution. No codes are assigned to 527-th centers.\n",
      "Caution. No codes are assigned to 537-th centers.\n",
      "Caution. No codes are assigned to 538-th centers.\n",
      "Caution. No codes are assigned to 544-th centers.\n",
      "Caution. No codes are assigned to 547-th centers.\n",
      "Caution. No codes are assigned to 553-th centers.\n",
      "Caution. No codes are assigned to 554-th centers.\n",
      "Caution. No codes are assigned to 559-th centers.\n",
      "Caution. No codes are assigned to 562-th centers.\n",
      "Caution. No codes are assigned to 563-th centers.\n",
      "Caution. No codes are assigned to 566-th centers.\n",
      "Caution. No codes are assigned to 569-th centers.\n",
      "Caution. No codes are assigned to 572-th centers.\n",
      "Caution. No codes are assigned to 574-th centers.\n",
      "Caution. No codes are assigned to 582-th centers.\n",
      "Caution. No codes are assigned to 596-th centers.\n",
      "Caution. No codes are assigned to 599-th centers.\n",
      "Caution. No codes are assigned to 604-th centers.\n",
      "Caution. No codes are assigned to 607-th centers.\n",
      "Caution. No codes are assigned to 617-th centers.\n",
      "Caution. No codes are assigned to 619-th centers.\n",
      "Caution. No codes are assigned to 623-th centers.\n",
      "Caution. No codes are assigned to 625-th centers.\n",
      "Caution. No codes are assigned to 626-th centers.\n",
      "Caution. No codes are assigned to 630-th centers.\n",
      "Caution. No codes are assigned to 634-th centers.\n",
      "Caution. No codes are assigned to 642-th centers.\n",
      "Caution. No codes are assigned to 644-th centers.\n",
      "Caution. No codes are assigned to 645-th centers.\n",
      "Caution. No codes are assigned to 646-th centers.\n",
      "Caution. No codes are assigned to 651-th centers.\n",
      "Caution. No codes are assigned to 652-th centers.\n",
      "Caution. No codes are assigned to 659-th centers.\n",
      "Caution. No codes are assigned to 660-th centers.\n",
      "Caution. No codes are assigned to 661-th centers.\n",
      "Caution. No codes are assigned to 662-th centers.\n",
      "Caution. No codes are assigned to 672-th centers.\n",
      "Caution. No codes are assigned to 673-th centers.\n",
      "Caution. No codes are assigned to 679-th centers.\n",
      "Caution. No codes are assigned to 680-th centers.\n",
      "Caution. No codes are assigned to 686-th centers.\n",
      "Caution. No codes are assigned to 687-th centers.\n",
      "Caution. No codes are assigned to 702-th centers.\n",
      "Caution. No codes are assigned to 705-th centers.\n",
      "Caution. No codes are assigned to 710-th centers.\n",
      "Caution. No codes are assigned to 712-th centers.\n",
      "Caution. No codes are assigned to 717-th centers.\n",
      "Caution. No codes are assigned to 718-th centers.\n",
      "Caution. No codes are assigned to 720-th centers.\n",
      "Caution. No codes are assigned to 722-th centers.\n",
      "Caution. No codes are assigned to 725-th centers.\n",
      "Caution. No codes are assigned to 726-th centers.\n",
      "Caution. No codes are assigned to 730-th centers.\n",
      "Caution. No codes are assigned to 740-th centers.\n",
      "Caution. No codes are assigned to 745===== Threshold selection ====\n",
      "-th centers.\n",
      "Caution. No codes are assigned to 749-th centers.\n",
      "Caution. No codes are assigned to 752-th centers.\n",
      "Caution. No codes are assigned to 754-th centers.\n",
      "Caution. No codes are assigned to 755-th centers.\n",
      "Caution. No codes are assigned to 761-th centers.\n",
      "Caution. No codes are assigned to 766-th centers.\n",
      "Caution. No codes are assigned to 771-th centers.\n",
      "Caution. No codes are assigned to 775-th centers.\n",
      "Caution. No codes are assigned to 778-th centers.\n",
      "Caution. No codes are assigned to 782-th centers.\n",
      "Caution. No codes are assigned to 789-th centers.\n",
      "Caution. No codes are assigned to 793-th centers.\n",
      "Caution. No codes are assigned to 794-th centers.\n",
      "Caution. No codes are assigned to 797-th centers.\n",
      "Caution. No codes are assigned to 799-th centers.\n",
      "Caution. No codes are assigned to 801-th centers.\n",
      "Caution. No codes are assigned to 803-th centers.\n",
      "Caution. No codes are assigned to 804-th centers.\n",
      "Caution. No codes are assigned to 805-th centers.\n",
      "Caution. No codes are assigned to 807-th centers.\n",
      "Caution. No codes are assigned to 815-th centers.\n",
      "Caution. No codes are assigned to 818-th centers.\n",
      "Caution. No codes are assigned to 822-th centers.\n",
      "Caution. No codes are assigned to 825-th centers.\n",
      "Caution. No codes are assigned to 826-th centers.\n",
      "Caution. No codes are assigned to 829-th centers.\n",
      "Caution. No codes are assigned to 832-th centers.\n",
      "Caution. No codes are assigned to 840-th centers.\n",
      "find_nn+update_center_time,6534\n",
      "Iteration start: 2 / 5\n",
      "find_nn finished. Error: 0.0916448\n",
      "find_nn_time,6477\n",
      "Caution. No codes are assigned to 27-th centers.\n",
      "Caution. No codes are assigned to 39-th centers.\n",
      "Caution. No codes are assigned to 41-th centers.\n",
      "Caution. No codes are assigned to 83-th centers.\n",
      "Caution. No codes are assigned to 122-th centers.\n",
      "Caution. No codes are assigned to 134-th centers.\n",
      "Caution. No codes are assigned to 143-th centers.\n",
      "Caution. No codes are assigned to 155-th centers.\n",
      "Caution. No codes are assigned to 156-th centers.\n",
      "Caution. No codes are assigned to 165-th centers.\n",
      "Caution. No codes are assigned to 182-th centers.\n",
      "Caution. No codes are assigned to 186-th centers.\n",
      "Caution. No codes are assigned to 191-th centers.\n",
      "Caution. No codes are assigned to 193-th centers.\n",
      "Caution. No codes are assigned to 200-th centers.\n",
      "Caution. No codes are assigned to 207-th centers.\n",
      "Caution. No codes are assigned to 209-th centers.\n",
      "Caution. No codes are assigned to 210-th centers.\n",
      "Caution. No codes are assigned to 214-th centers.\n",
      "Caution. No codes are assigned to 217-th centers.\n",
      "Caution. No codes are assigned to 224-th centers.\n",
      "Caution. No codes are assigned to 226-th centers.\n",
      "Caution. No codes are assigned to 234-th centers.\n",
      "Caution. No codes are assigned to 235-th centers.\n",
      "Caution. No codes are assigned to 240-th centers.\n",
      "Caution. No codes are assigned to 245-th centers.\n",
      "Caution. No codes are assigned to 246-th centers.\n",
      "Caution. No codes are assigned to 247-th centers.\n",
      "Caution. No codes are assigned to 253-th centers.\n",
      "Caution. No codes are assigned to 254-th centers.\n",
      "Caution. No codes are assigned to 271-th centers.\n",
      "Caution. No codes are assigned to 273-th centers.\n",
      "Caution. No codes are assigned to 274-th centers.\n",
      "Caution. No codes are assigned to 277-th centers.\n",
      "Caution. No codes are assigned to 279-th centers.\n",
      "Caution. No codes are assigned to 292-th centers.\n",
      "Caution. No codes are assigned to 297-th centers.\n",
      "Caution. No codes are assigned to 309-th centers.\n",
      "Caution. No codes are assigned to 310-th centers.\n",
      "Caution. No codes are assigned to 323-th centers.\n",
      "Caution. No codes are assigned to 324-th centers.\n",
      "Caution. No codes are assigned to 325-th centers.\n",
      "Caution. No codes are assigned to 333-th centers.\n",
      "Caution. No codes are assigned to 336-th centers.\n",
      "Caution. No codes are assigned to 337-th centers.\n",
      "Caution. No codes are assigned to 339-th centers.\n",
      "Caution. No codes are assigned to 343-th centers.\n",
      "Caution. No codes are assigned to 352-th centers.\n",
      "Caution. No codes are assigned to 356-th centers.\n",
      "Caution. No codes are assigned to 361-th centers.\n",
      "Caution. No codes are assigned to 367-th centers.\n",
      "Caution. No codes are assigned to 372-th centers.\n",
      "Caution. No codes are assigned to 377-th centers.\n",
      "Caution. No codes are assigned to 390-th centers.\n",
      "Caution. No codes are assigned to 396-th centers.\n",
      "Caution. No codes are assigned to 404-th centers.\n",
      "Caution. No codes are assigned to 406-th centers.\n",
      "Caution. No codes are assigned to 422-th centers.\n",
      "Caution. No codes are assigned to 424-th centers.\n",
      "Caution. No codes are assigned to 434-th centers.\n",
      "Caution. No codes are assigned to 438-th centers.\n",
      "Caution. No codes are assigned to 440-th centers.\n",
      "Caution. No codes are assigned to 447-th centers.\n",
      "Caution. No codes are assigned to 450-th centers.\n",
      "Caution. No codes are assigned to 454-th centers.\n",
      "Caution. No codes are assigned to 456-th centers.\n",
      "Caution. No codes are assigned to 464-th centers.\n",
      "Caution. No codes are assigned to 467-th centers.\n",
      "Caution. No codes are assigned to 471-th centers.\n",
      "Caution. No codes are assigned to 473-th centers.\n",
      "Caution. No codes are assigned to 475-th centers.\n",
      "Caution. No codes are assigned to 477-th centers.\n",
      "Caution. No codes are assigned to 480-th centers.\n",
      "Caution. No codes are assigned to 482-th centers.\n",
      "Caution. No codes are assigned to 483-th centers.\n",
      "Caution. No codes are assigned to 490-th centers.\n",
      "Caution. No codes are assigned to 493-th centers.\n",
      "Caution. No codes are assigned to 494-th centers.\n",
      "Caution. No codes are assigned to 497-th centers.\n",
      "Caution. No codes are assigned to 502-th centers.\n",
      "Caution. No codes are assigned to 508-th centers.\n",
      "Caution. No codes are assigned to 509-th centers.\n",
      "Caution. No codes are assigned to 511-th centers.\n",
      "Caution. No codes are assigned to 518-th centers.\n",
      "Caution. No codes are assigned to 526-th centers.\n",
      "Caution. No codes are assigned to 527-th centers.\n",
      "Caution. No codes are assigned to 537-th centers.\n",
      "Caution. No codes are assigned to 538-th centers.\n",
      "Caution. No codes are assigned to 544-th centers.\n",
      "Caution. No codes are assigned to 547-th centers.\n",
      "Caution. No codes are assigned to 553-th centers.\n",
      "Caution. No codes are assigned to 554-th centers.\n",
      "Caution. No codes are assigned to 559-th centers.\n",
      "Caution. No codes are assigned to 562-th centers.\n",
      "Caution. No codes are assigned to 563-th centers.\n",
      "Caution. No codes are assigned to 566-th centers.\n",
      "Caution. No codes are assigned to 569-th centers.\n",
      "Caution. No codes are assigned to 572-th centers.\n",
      "Caution. No codes are assigned to 574-th centers.\n",
      "Caution. No codes are assigned to 596-th centers.\n",
      "Caution. No codes are assigned to 599-th centers.\n",
      "Caution. No codes are assigned to 604-th centers.\n",
      "Caution. No codes are assigned to 607-th centers.\n",
      "Caution. No codes are assigned to 617-th centers.\n",
      "Caution. No codes are assigned to 619-th centers.\n",
      "Caution. No codes are assigned to 623-th centers.\n",
      "Caution. No codes are assigned to 625-th centers.\n",
      "Caution. No codes are assigned to 626-th centers.\n",
      "Caution. No codes are assigned to 630-th centers.\n",
      "Caution. No codes are assigned to 634-th centers.\n",
      "Caution. No codes are assigned to 642-th centers.\n",
      "Caution. No codes are assigned to 644-th centers.\n",
      "Caution. No codes are assigned to 645-th centers.\n",
      "Caution. No codes are assigned to 646-th centers.\n",
      "Caution. No codes are assigned to 651-th centers.\n",
      "Caution. No codes are assigned to 652-th centers.\n",
      "Caution. No codes are assigned to 659-th centers.\n",
      "Caution. No codes are assigned to 660-th centers.\n",
      "Caution. No codes are assigned to 661-th centers.\n",
      "Caution. No codes are assigned to 662-th centers.\n",
      "Caution. No codes are assigned to 672-th centers.\n",
      "Caution. No codes are assigned to 673-th centers.\n",
      "Caution. No codes are assigned to 679-th centers.\n",
      "Caution. No codes are assigned to 680-th centers.\n",
      "Caution. No codes are assigned to 686-th centers.\n",
      "Caution. No codes are assigned to 687-th centers.\n",
      "Caution. No codes are assigned to 702-th centers.\n",
      "Caution. No codes are assigned to 705-th centers.\n",
      "Caution. No codes are assigned to 710-th centers.\n",
      "Caution. No codes are assigned to 712-th centers.\n",
      "Caution. No codes are assigned to 717-th centers.\n",
      "Caution. No codes are assigned to 718-th centers.\n",
      "Caution. No codes are assigned to 720-th centers.\n",
      "Caution. No codes are assigned to 722-th centers.\n",
      "Caution. No codes are assigned to 725-th centers.\n",
      "Caution. No codes are assigned to 726-th centers.\n",
      "Caution. No codes are assigned to 730-th centers.\n",
      "Caution. No codes are assigned to 740-th centers.\n",
      "Caution. No codes are assigned to 745-th centers.\n",
      "Caution. No codes are assigned to 749-th centers.\n",
      "Caution. No codes are assigned to 752-th centers.\n",
      "Caution. No codes are assigned to 754-th centers.\n",
      "Caution. No codes are assigned to 755-th centers.\n",
      "Caution. No codes are assigned to 761-th centers.\n",
      "Caution. No codes are assigned to 766-th centers.\n",
      "Caution. No codes are assigned to 771-th centers.\n",
      "Caution. No codes are assigned to 775-th centers.\n",
      "Caution. No codes are assigned to 778-th centers.\n",
      "Caution. No codes are assigned to 782-th centers.\n",
      "Caution. No codes are assigned to 789-th centers.\n",
      "Caution. No codes are assigned to 793-th centers.\n",
      "Caution. No codes are assigned to 794-th centers.\n",
      "Caution. No codes are assigned to 797-th centers.\n",
      "Caution. No codes are assigned to 799-th centers.\n",
      "Caution. No codes are assigned to 801-th centers.\n",
      "Caution. No codes are assigned to 803-th centers.\n",
      "Caution. No codes are assigned to 804-th centers.\n",
      "Caution. No codes are assigned to 805-th centers.\n",
      "Caution. No codes are assigned to 807-th centers.\n",
      "Caution. No codes are assigned to 815-th centers.\n",
      "Caution. No codes are assigned to 818-th centers.\n",
      "Caution. No codes are assigned to 822-th centers.\n",
      "Caution. No codes are assigned to 825-th centers.\n",
      "Caution. No codes are assigned to 826-th centers.\n",
      "Caution. No codes are assigned to 829-th centers.\n",
      "Caution. No codes are assigned to 832-th centers.\n",
      "Caution. No codes are assigned to 840-th centers.\n",
      "find_nn+update_center_time,6487\n",
      "Iteration start: 3 / 5\n",
      "find_nn finished. Error: 0.0911817\n",
      "find_nn_time,6477\n",
      "Caution. No codes are assigned to 27-th centers.\n",
      "Caution. No codes are assigned to 39-th centers.\n",
      "Caution. No codes are assigned to 41-th centers.\n",
      "Caution. No codes are assigned to 83-th centers.\n",
      "Caution. No codes are assigned to 122-th centers.\n",
      "Caution. No codes are assigned to 134-th centers.\n",
      "Caution. No codes are assigned to 143-th centers.\n",
      "Caution. No codes are assigned to 155-th centers.\n",
      "Caution. No codes are assigned to 156-th centers.\n",
      "Caution. No codes are assigned to 165-th centers.\n",
      "Caution. No codes are assigned to 182-th centers.\n",
      "Caution. No codes are assigned to 186-th centers.\n",
      "Caution. No codes are assigned to 191-th centers.\n",
      "Caution. No codes are assigned to 193-th centers.\n",
      "Caution. No codes are assigned to 200-th centers.\n",
      "Caution. No codes are assigned to 207-th centers.\n",
      "Caution. No codes are assigned to 209-th centers.\n",
      "Caution. No codes are assigned to 210-th centers.\n",
      "Caution. No codes are assigned to 214-th centers.\n",
      "Caution. No codes are assigned to 217-th centers.\n",
      "Caution. No codes are assigned to 224-th centers.\n",
      "Caution. No codes are assigned to 226-th centers.\n",
      "Caution. No codes are assigned to 234-th centers.\n",
      "Caution. No codes are assigned to 235-th centers.\n",
      "Caution. No codes are assigned to 240-th centers.\n",
      "Caution. No codes are assigned to 245-th centers.\n",
      "Caution. No codes are assigned to 246-th centers.\n",
      "Caution. No codes are assigned to 247-th centers.\n",
      "Caution. No codes are assigned to 253-th centers.\n",
      "Caution. No codes are assigned to 254-th centers.\n",
      "Caution. No codes are assigned to 271-th centers.\n",
      "Caution. No codes are assigned to 273-th centers.\n",
      "Caution. No codes are assigned to 274-th centers.\n",
      "Caution. No codes are assigned to 277-th centers.\n",
      "Caution. No codes are assigned to 279-th centers.\n",
      "Caution. No codes are assigned to 292-th centers.\n",
      "Caution. No codes are assigned to 297-th centers.\n",
      "Caution. No codes are assigned to 309-th centers.\n",
      "Caution. No codes are assigned to 310-th centers.\n",
      "Caution. No codes are assigned to 323-th centers.\n",
      "Caution. No codes are assigned to 324-th centers.\n",
      "Caution. No codes are assigned to 325-th centers.\n",
      "Caution. No codes are assigned to 333-th centers.\n",
      "Caution. No codes are assigned to 336-th centers.\n",
      "Caution. No codes are assigned to 337-th centers.\n",
      "Caution. No codes are assigned to 339-th centers.\n",
      "Caution. No codes are assigned to 343-th centers.\n",
      "Caution. No codes are assigned to 352-th centers.\n",
      "Caution. No codes are assigned to 356-th centers.\n",
      "Caution. No codes are assigned to 361-th centers.\n",
      "Caution. No codes are assigned to 367-th centers.\n",
      "Caution. No codes are assigned to 372-th centers.\n",
      "Caution. No codes are assigned to 377-th centers.\n",
      "Caution. No codes are assigned to 390-th centers.\n",
      "Caution. No codes are assigned to 396-th centers.\n",
      "Caution. No codes are assigned to 404-th centers.\n",
      "Caution. No codes are assigned to 406-th centers.\n",
      "Caution. No codes are assigned to 422-th centers.\n",
      "Caution. No codes are assigned to 424-th centers.\n",
      "Caution. No codes are assigned to 434-th centers.\n",
      "Caution. No codes are assigned to 438-th centers.\n",
      "Caution. No codes are assigned to 440-th centers.\n",
      "Caution. No codes are assigned to 447-th centers.\n",
      "Caution. No codes are assigned to 450-th centers.\n",
      "Caution. No codes are assigned to 454-th centers.\n",
      "Caution. No codes are assigned to 456-th centers.\n",
      "Caution. No codes are assigned to 464-th centers.\n",
      "Caution. No codes are assigned to 467-th centers.\n",
      "Caution. No codes are assigned to 471-th centers.\n",
      "Caution. No codes are assigned to 473-th centers.\n",
      "Caution. No codes are assigned to 475-th centers.\n",
      "Caution. No codes are assigned to 477-th centers.\n",
      "Caution. No codes are assigned to 480-th centers.\n",
      "Caution. No codes are assigned to 482-th centers.\n",
      "Caution. No codes are assigned to 483-th centers.\n",
      "Caution. No codes are assigned to 490-th centers.\n",
      "Caution. No codes are assigned to 493-th centers.\n",
      "Caution. No codes are assigned to 494-th centers.\n",
      "Caution. No codes are assigned to 497-th centers.\n",
      "Caution. No codes are assigned to 502-th centers.\n",
      "Caution. No codes are assigned to 508-th centers.\n",
      "Caution. No codes are assigned to 509-th centers.\n",
      "Caution. No codes are assigned to 511-th centers.\n",
      "Caution. No codes are assigned to 518-th centers.\n",
      "Caution. No codes are assigned to 526-th centers.\n",
      "Caution. No codes are assigned to 527-th centers.\n",
      "Caution. No codes are assigned to 537-th centers.\n",
      "Caution. No codes are assigned to 538-th centers.\n",
      "Caution. No codes are assigned to 544-th centers.\n",
      "Caution. No codes are assigned to 547-th centers.\n",
      "Caution. No codes are assigned to 553-th centers.\n",
      "Caution. No codes are assigned to 554-th centers.\n",
      "Caution. No codes are assigned to 559-th centers.\n",
      "Caution. No codes are assigned to 562-th centers.\n",
      "Caution. No codes are assigned to 563-th centers.\n",
      "Caution. No codes are assigned to 566-th centers.\n",
      "Caution. No codes are assigned to 569-th centers.\n",
      "Caution. No codes are assigned to 572-th centers.\n",
      "Caution. No codes are assigned to 574-th centers.\n",
      "Caution. No codes are assigned to 596-th centers.\n",
      "Caution. No codes are assigned to 599-th centers.\n",
      "Caution. No codes are assigned to 604-th centers.\n",
      "Caution. No codes are assigned to 607-th centers.\n",
      "Caution. No codes are assigned to 617-th centers.\n",
      "Caution. No codes are assigned to 619-th centers.\n",
      "Caution. No codes are assigned to 623-th centers.\n",
      "Caution. No codes are assigned to 625-th centers.\n",
      "Caution. No codes are assigned to 626-th centers.\n",
      "Caution. No codes are assigned to 630-th centers.\n",
      "Caution. No codes are assigned to 634-th centers.\n",
      "Caution. No codes are assigned to 642-th centers.\n",
      "Caution. No codes are assigned to 644-th centers.\n",
      "Caution. No codes are assigned to 645-th centers.\n",
      "Caution. No codes are assigned to 646-th centers.\n",
      "Caution. No codes are assigned to 651-th centers.\n",
      "Caution. No codes are assigned to 652-th centers.\n",
      "Caution. No codes are assigned to 659-th centers.\n",
      "Caution. No codes are assigned to 660-th centers.\n",
      "Caution. No codes are assigned to 661-th centers.\n",
      "Caution. No codes are assigned to 662-th centers.\n",
      "Caution. No codes are assigned to 672-th centers.\n",
      "Caution. No codes are assigned to 673-th centers.\n",
      "Caution. No codes are assigned to 679-th centers.\n",
      "Caution. No codes are assigned to 680-th centers.\n",
      "Caution. No codes are assigned to 686-th centers.\n",
      "Caution. No codes are assigned to 687-th centers.\n",
      "Caution. No codes are assigned to 702-th centers.\n",
      "Caution. No codes are assigned to 705-th centers.\n",
      "Caution. No codes are assigned to 710-th centers.\n",
      "Caution. No codes are assigned to 712-th centers.\n",
      "Caution. No codes are assigned to 717-th centers.\n",
      "Caution. No codes are assigned to 718-th centers.\n",
      "Caution. No codes are assigned to 720-th centers.\n",
      "Caution. No codes are assigned to 722-th centers.\n",
      "Caution. No codes are assigned to 725-th centers.\n",
      "Caution. No codes are assigned to 726-th centers.\n",
      "Caution. No codes are assigned to 730-th centers.\n",
      "Caution. No codes are assigned to 740-th centers.\n",
      "Caution. No codes are assigned to 745-th centers.\n",
      "Caution. No codes are assigned to 749-th centers.\n",
      "Caution. No codes are assigned to 752-th centers.\n",
      "Caution. No codes are assigned to 754-th centers.\n",
      "Caution. No codes are assigned to 755-th centers.\n",
      "Caution. No codes are assigned to 761-th centers.\n",
      "Caution. No codes are assigned to 766-th centers.\n",
      "Caution. No codes are assigned to 771-th centers.\n",
      "Caution. No codes are assigned to 775-th centers.\n",
      "Caution. No codes are assigned to 778-th centers.\n",
      "Caution. No codes are assigned to 782-th centers.\n",
      "Caution. No codes are assigned to 789-th centers.\n",
      "Caution. No codes are assigned to 793-th centers.\n",
      "Caution. No codes are assigned to 794-th centers.\n",
      "Caution. No codes are assigned to 797-th centers.\n",
      "Caution. No codes are assigned to 799-th centers.\n",
      "Caution. No codes are assigned to 801-th centers.\n",
      "Caution. No codes are assigned to 803-th centers.\n",
      "Caution. No codes are assigned to 804-th centers.\n",
      "Caution. No codes are assigned to 805-th centers.\n",
      "Caution. No codes are assigned to 807-th centers.\n",
      "Caution. No codes are assigned to 815-th centers.\n",
      "Caution. No codes are assigned to 818-th centers.\n",
      "Caution. No codes are assigned to 822-th centers.\n",
      "Caution. No codes are assigned to 825-th centers.\n",
      "Caution. No codes are assigned to 826-th centers.\n",
      "Caution. No codes are assigned to 829-th centers.\n",
      "Caution. No codes are assigned to 832-th centers.\n",
      "Caution. No codes are assigned to 840-th centers.\n",
      "find_nn+update_center_time,6488\n",
      "Iteration start: 4 / 5\n",
      "find_nn finished. Error: 0.0908089\n",
      "find_nn_time,6547\n",
      "find_nn+update_center_time,6547\n",
      "Start to update posting lists\n",
      "L: [845, 1690, 3380, 6760, 13520]\n",
      "threshold: [16128, 25088, 38912, 57344, 86016]\n",
      "polyfit coeff: [5.33923777e+00 1.67253333e+04]\n",
      "resultant func:  \n",
      "5.339 x + 1.673e+04\n"
     ]
    },
    {
     "data": {
      "text/plain": [
       "<rii.rii.Rii at 0x7fa72d0fafd0>"
      ]
     },
     "execution_count": 31,
     "metadata": {},
     "output_type": "execute_result"
    }
   ],
   "source": [
    "e = rii.Rii(fine_quantizer=nanopq.PQ(M=19).fit(vecs=item_embeddings))\n",
    "e.add_configure(vecs=user_embeddings)"
   ]
  },
  {
   "cell_type": "code",
   "execution_count": 43,
   "metadata": {},
   "outputs": [
    {
     "name": "stdout",
     "output_type": "stream",
     "text": [
      "Индексы ближайших элементов: [     4  47735 104593  54227 163929 174633 122817 146169  12746 143843]\n",
      "Расстояния: [1.5420351  1.5428884  1.54295492 1.55285871 1.55553508 1.55553508\n",
      " 1.55553508 1.5556016  1.5556016  1.56001651]\n"
     ]
    }
   ],
   "source": [
    "user_vector = user_embeddings[4]\n",
    "topk = 10\n",
    "ids, dists = e.query(q=user_vector, topk=topk)\n",
    "\n",
    "print(\"Индексы ближайших элементов:\", ids)\n",
    "print(\"Расстояния:\", dists)"
   ]
  },
  {
   "cell_type": "code",
   "execution_count": null,
   "metadata": {},
   "outputs": [],
   "source": []
  }
 ],
 "metadata": {
  "kernelspec": {
   "display_name": ".venv",
   "language": "python",
   "name": "python3"
  },
  "language_info": {
   "codemirror_mode": {
    "name": "ipython",
    "version": 3
   },
   "file_extension": ".py",
   "mimetype": "text/x-python",
   "name": "python",
   "nbconvert_exporter": "python",
   "pygments_lexer": "ipython3",
   "version": "3.9.10"
  },
  "orig_nbformat": 4
 },
 "nbformat": 4,
 "nbformat_minor": 2
}
