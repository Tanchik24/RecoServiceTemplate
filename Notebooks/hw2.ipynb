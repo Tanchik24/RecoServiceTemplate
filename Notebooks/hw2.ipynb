{
 "nbformat": 4,
 "nbformat_minor": 0,
 "metadata": {
  "colab": {
   "provenance": []
  },
  "kernelspec": {
   "name": "python3",
   "language": "python",
   "display_name": "Python 3 (ipykernel)"
  },
  "language_info": {
   "name": "python"
  }
 },
 "cells": [
  {
   "cell_type": "code",
   "execution_count": 1,
   "metadata": {
    "id": "J-_b_aPrQ_Wc",
    "ExecuteTime": {
     "end_time": "2023-11-28T23:29:49.353706Z",
     "start_time": "2023-11-28T23:29:31.347587Z"
    }
   },
   "outputs": [
    {
     "name": "stdout",
     "output_type": "stream",
     "text": [
      "Collecting rectools\r\n",
      "  Downloading rectools-0.4.1-py3-none-any.whl.metadata (6.8 kB)\r\n",
      "Requirement already satisfied: attrs<24.0.0,>=19.1.0 in /Users/tanchik/Desktop/Настоящее/учеба/RecSys/hw1/RecoServiceTemplate/.venv/lib/python3.10/site-packages (from rectools) (23.1.0)\r\n",
      "Collecting implicit<0.8.0,>=0.7.1 (from rectools)\r\n",
      "  Downloading implicit-0.7.2-cp310-cp310-macosx_10_9_x86_64.whl.metadata (6.1 kB)\r\n",
      "Requirement already satisfied: numpy<2.0.0,>=1.19.5 in /Users/tanchik/Desktop/Настоящее/учеба/RecSys/hw1/RecoServiceTemplate/.venv/lib/python3.10/site-packages (from rectools) (1.26.2)\r\n",
      "Collecting pandas<2.0.0,>=0.25.3 (from rectools)\r\n",
      "  Downloading pandas-1.5.3-cp310-cp310-macosx_10_9_x86_64.whl (12.0 MB)\r\n",
      "\u001B[2K     \u001B[90m━━━━━━━━━━━━━━━━━━━━━━━━━━━━━━━━━━━━━━━━\u001B[0m \u001B[32m12.0/12.0 MB\u001B[0m \u001B[31m2.0 MB/s\u001B[0m eta \u001B[36m0:00:00\u001B[0m00:01\u001B[0m00:01\u001B[0mm\r\n",
      "\u001B[?25hRequirement already satisfied: scipy<2.0.0,>=1.5.4 in /Users/tanchik/Desktop/Настоящее/учеба/RecSys/hw1/RecoServiceTemplate/.venv/lib/python3.10/site-packages (from rectools) (1.11.3)\r\n",
      "Collecting tqdm<5.0.0,>=4.27.0 (from rectools)\r\n",
      "  Using cached tqdm-4.66.1-py3-none-any.whl.metadata (57 kB)\r\n",
      "Collecting typeguard<3.0.0,>=2.0.1 (from rectools)\r\n",
      "  Downloading typeguard-2.13.3-py3-none-any.whl (17 kB)\r\n",
      "Requirement already satisfied: threadpoolctl in /Users/tanchik/Desktop/Настоящее/учеба/RecSys/hw1/RecoServiceTemplate/.venv/lib/python3.10/site-packages (from implicit<0.8.0,>=0.7.1->rectools) (3.2.0)\r\n",
      "Requirement already satisfied: python-dateutil>=2.8.1 in /Users/tanchik/Desktop/Настоящее/учеба/RecSys/hw1/RecoServiceTemplate/.venv/lib/python3.10/site-packages (from pandas<2.0.0,>=0.25.3->rectools) (2.8.2)\r\n",
      "Requirement already satisfied: pytz>=2020.1 in /Users/tanchik/Desktop/Настоящее/учеба/RecSys/hw1/RecoServiceTemplate/.venv/lib/python3.10/site-packages (from pandas<2.0.0,>=0.25.3->rectools) (2023.3.post1)\r\n",
      "Requirement already satisfied: six>=1.5 in /Users/tanchik/Desktop/Настоящее/учеба/RecSys/hw1/RecoServiceTemplate/.venv/lib/python3.10/site-packages (from python-dateutil>=2.8.1->pandas<2.0.0,>=0.25.3->rectools) (1.16.0)\r\n",
      "Downloading rectools-0.4.1-py3-none-any.whl (99 kB)\r\n",
      "\u001B[2K   \u001B[90m━━━━━━━━━━━━━━━━━━━━━━━━━━━━━━━━━━━━━━━━\u001B[0m \u001B[32m99.0/99.0 kB\u001B[0m \u001B[31m1.2 MB/s\u001B[0m eta \u001B[36m0:00:00\u001B[0ma \u001B[36m0:00:01\u001B[0m\r\n",
      "\u001B[?25hDownloading implicit-0.7.2-cp310-cp310-macosx_10_9_x86_64.whl (813 kB)\r\n",
      "\u001B[2K   \u001B[90m━━━━━━━━━━━━━━━━━━━━━━━━━━━━━━━━━━━━━━━━\u001B[0m \u001B[32m813.3/813.3 kB\u001B[0m \u001B[31m3.8 MB/s\u001B[0m eta \u001B[36m0:00:00\u001B[0ma \u001B[36m0:00:01\u001B[0m\r\n",
      "\u001B[?25hUsing cached tqdm-4.66.1-py3-none-any.whl (78 kB)\r\n",
      "Installing collected packages: typeguard, tqdm, pandas, implicit, rectools\r\n",
      "  Attempting uninstall: pandas\r\n",
      "    Found existing installation: pandas 2.1.3\r\n",
      "    Uninstalling pandas-2.1.3:\r\n",
      "      Successfully uninstalled pandas-2.1.3\r\n",
      "Successfully installed implicit-0.7.2 pandas-1.5.3 rectools-0.4.1 tqdm-4.66.1 typeguard-2.13.3\r\n"
     ]
    }
   ],
   "source": [
    "!pip install rectools"
   ]
  },
  {
   "cell_type": "code",
   "source": [
    "from pprint import pprint\n",
    "from typing import List, Dict, Any\n",
    "import time\n",
    "from IPython.display import display\n",
    "\n",
    "import pandas as pd\n",
    "import numpy as np\n",
    "\n",
    "from tqdm.auto import tqdm\n",
    "\n",
    "from rectools import Columns\n",
    "from rectools.dataset import Interactions, Dataset\n",
    "from rectools.models import RandomModel, PopularModel\n",
    "from rectools.metrics import calc_metrics\n",
    "from rectools.metrics.classification import Recall, MCC\n",
    "from rectools.metrics.ranking import MAP, NDCG\n",
    "from rectools.metrics.serendipity import Serendipity\n",
    "from rectools.metrics.novelty import MeanInvUserFreq\n",
    "from rectools.model_selection import TimeRangeSplitter"
   ],
   "metadata": {
    "id": "TnxH0EiTci64",
    "ExecuteTime": {
     "end_time": "2023-11-28T23:30:00.382109Z",
     "start_time": "2023-11-28T23:29:49.358075Z"
    }
   },
   "execution_count": 2,
   "outputs": []
  },
  {
   "cell_type": "code",
   "source": [
    "class CrossValScore():\n",
    "    def __init__(self, models:Dict, metrics:Dict, splitter:TimeRangeSplitter, interactions:Interactions):\n",
    "        self.models = models\n",
    "        self.metrics = metrics\n",
    "        self.splitter = splitter\n",
    "        self.interactions = interactions\n",
    "\n",
    "    def init(self, train_ids: List, test_ids:List):\n",
    "        df_train = self.interactions.df.iloc[train_ids]\n",
    "        dataset = Dataset.construct(df_train)\n",
    "\n",
    "        df_test = self.interactions.df.iloc[test_ids][Columns.UserItem]\n",
    "        test_users = np.unique(df_test[Columns.User])\n",
    "\n",
    "        catalog = df_train[Columns.Item].unique()\n",
    "        return dataset, df_train, df_test, test_users, catalog\n",
    "\n",
    "    def evaluate(self, k: int, n_splits: int = 3):\n",
    "        self.fold_iterator = self.splitter.split(self.interactions, collect_fold_stats=True)\n",
    "        results = []\n",
    "\n",
    "        for train_ids, test_ids, fold_info in tqdm(self.fold_iterator, total=n_splits):\n",
    "            print(f\"\\n==================== Fold {fold_info['i_split']}\")\n",
    "            pprint(fold_info)\n",
    "\n",
    "            dataset, df_train, df_test, test_users, catalog = self.init(train_ids, test_ids)\n",
    "\n",
    "            for model_name, model in self.models.items():\n",
    "                start_time = time.time()\n",
    "                model.fit(dataset)\n",
    "                fit_time = time.time() - start_time\n",
    "\n",
    "                recos = model.recommend(users=test_users, dataset=dataset, k=k, filter_viewed=True)\n",
    "\n",
    "                metric_values = calc_metrics(self.metrics, reco=recos, interactions=df_test, prev_interactions=df_train, catalog=catalog)\n",
    "\n",
    "                res = {\"fold\": fold_info[\"i_split\"], \"model\": model_name, \"training_time\": fit_time}\n",
    "                res.update(metric_values)\n",
    "                results.append(res)\n",
    "\n",
    "        df = pd.DataFrame(results).groupby(['model']).mean().reset_index()\n",
    "        df = df.drop(columns = 'fold')\n",
    "        return df"
   ],
   "metadata": {
    "id": "acS0K0cb4zPz",
    "ExecuteTime": {
     "end_time": "2023-11-28T23:30:00.403037Z",
     "start_time": "2023-11-28T23:30:00.390327Z"
    }
   },
   "execution_count": 3,
   "outputs": []
  },
  {
   "cell_type": "code",
   "source": [
    "class Visualizer():\n",
    "    def __init__(self, model:Any, dataset: Dataset, interactions:Interactions, items:pd.DataFrame):\n",
    "        self.model = model\n",
    "        self.dataset = dataset\n",
    "        self.interactions = interactions\n",
    "        self.items = items\n",
    "\n",
    "    def visualize(self, users:List, k:int):\n",
    "        recos = self.model.recommend(users=users, dataset=self.dataset, k=k, filter_viewed=True)\n",
    "        user_viewed = self.interactions.df[self.interactions.df['user_id'].isin(users)].merge(self.items[['title', 'genres', 'item_id']], on=\"item_id\", how='left')\n",
    "        recos = recos.merge(self.items[['title', 'genres', 'item_id']], on=\"item_id\")\n",
    "        return user_viewed, recos\n",
    "\n",
    "    def visualize_with_color(self, users:List, k:int):\n",
    "        user_viewed, recos = self.visualize(users, k)\n",
    "        common_titles = pd.merge(user_viewed[['title']], recos[['title']], on='title', how='inner')['title'].unique()\n",
    "\n",
    "        def highlight_common_movies(row):\n",
    "            if row['title'] in common_titles:\n",
    "                return ['background-color: blue'] * len(row)\n",
    "            else:\n",
    "                return [''] * len(row)\n",
    "\n",
    "        user_viewed_styled = user_viewed.style.apply(highlight_common_movies, axis=1)\n",
    "        recos_styled = recos.style.apply(highlight_common_movies, axis=1)\n",
    "\n",
    "        users_str = ', '.join(map(str, users))\n",
    "\n",
    "        print('*' * 20 + ' ' + f'Просмотры пользователей {users_str}' + ' ' + '*' * 20)\n",
    "        display(user_viewed_styled)\n",
    "\n",
    "        print('\\n' * 3)\n",
    "\n",
    "        print('*' * 20 + ' ' + f'Рекомендации для пользователей {users_str}' + ' ' + '*' * 20)\n",
    "        display(recos_styled)\n",
    "\n",
    "        return user_viewed_styled, recos_styled"
   ],
   "metadata": {
    "id": "dKNeqt8hOswr"
   },
   "execution_count": 4,
   "outputs": []
  },
  {
   "cell_type": "code",
   "source": [
    "!cp '/content/drive/MyDrive/RecSys/metrics-valid/kion_train.zip' ./\n",
    "!unzip /content/kion_train.zip"
   ],
   "metadata": {
    "id": "RxWiRJ3Ad7Ju"
   },
   "execution_count": null,
   "outputs": []
  },
  {
   "cell_type": "code",
   "source": [
    "interactions_df = pd.read_csv('/content/kion_train/interactions.csv')\n",
    "items = pd.read_csv('/content/kion_train/items.csv')\n",
    "users = pd.read_csv('/content/kion_train/users.csv')"
   ],
   "metadata": {
    "id": "SDLW14IAgsp_"
   },
   "execution_count": 6,
   "outputs": []
  },
  {
   "cell_type": "code",
   "source": [
    "interactions_df = interactions_df.drop(columns='total_dur')\n",
    "interactions_df['watched_pct'] = interactions_df['watched_pct'] / 100\n",
    "interactions_df.rename(columns={'user_id': Columns.User, 'item_id': Columns.Item,\n",
    "                             'last_watch_dt': Columns.Datetime, 'watched_pct': Columns.Weight}, inplace=True)"
   ],
   "metadata": {
    "id": "_bTU8BVIg-Qd"
   },
   "execution_count": 7,
   "outputs": []
  },
  {
   "cell_type": "code",
   "source": [
    "dataset = Dataset.construct(interactions_df)\n",
    "interactions = Interactions(interactions_df)\n",
    "del interactions_df"
   ],
   "metadata": {
    "id": "kHcAvvbH0_xR"
   },
   "execution_count": 8,
   "outputs": []
  },
  {
   "cell_type": "code",
   "source": [
    "models = {\n",
    "    'Popular': PopularModel(),\n",
    "    'Random': RandomModel(random_state=32)\n",
    "}\n",
    "\n",
    "metrics = {\n",
    "    'Recall@1': Recall(k=1),\n",
    "    'Recall@5': Recall(k=5),\n",
    "    'Recall@10': Recall(k=10),\n",
    "    'MCC1': MCC(k=1),\n",
    "    'MCC5': MCC(k=5),\n",
    "    'MCC10': MCC(k=10),\n",
    "    'MAP@1': MAP(k=1),\n",
    "    'MAP@5': MAP(k=5),\n",
    "    'MAP@10': MAP(k=10),\n",
    "    'NDCG@1': NDCG(k=1),\n",
    "    'NDCG@5': NDCG(k=5),\n",
    "    'NDCG@10': NDCG(k=10),\n",
    "    'Serendipity1': Serendipity(k=1),\n",
    "    'Serendipity5': Serendipity(k=5),\n",
    "    'Serendipity10': Serendipity(k=10),\n",
    "    'MeanInvUserFreq1': MeanInvUserFreq(k=1),\n",
    "    'MeanInvUserFreq5': MeanInvUserFreq(k=5),\n",
    "    'MeanInvUserFreq10': MeanInvUserFreq(k=10)\n",
    "}"
   ],
   "metadata": {
    "id": "Utioz8gTl9Eu"
   },
   "execution_count": 9,
   "outputs": []
  },
  {
   "cell_type": "code",
   "source": [
    "n_splits = 3\n",
    "\n",
    "cv = TimeRangeSplitter(\n",
    "    test_size=\"7D\",\n",
    "    n_splits=n_splits,\n",
    "    filter_already_seen=True,\n",
    "    filter_cold_items=True,\n",
    "    filter_cold_users=True,\n",
    ")\n",
    "\n",
    "cv.get_test_fold_borders(dataset.interactions)"
   ],
   "metadata": {
    "id": "ItOL4qeyoKTz"
   },
   "execution_count": null,
   "outputs": []
  },
  {
   "cell_type": "code",
   "source": [
    "cross_val = CrossValScore(models, metrics, cv, interactions)\n",
    "cross_val.evaluate(k = 10, n_splits = 3)"
   ],
   "metadata": {
    "id": "jLPkd8PsD7Yx"
   },
   "execution_count": null,
   "outputs": []
  },
  {
   "cell_type": "code",
   "source": [
    "users = [666262, 672861, 955527, 161176]\n",
    "model = PopularModel()\n",
    "model.fit(dataset)"
   ],
   "metadata": {
    "id": "zjaFxFwWRJTB"
   },
   "execution_count": null,
   "outputs": []
  },
  {
   "cell_type": "code",
   "source": [
    "vz = Visualizer(model, dataset, interactions, items)\n",
    "user_viewed, recos = vz.visualize_with_color(users, 10)"
   ],
   "metadata": {
    "id": "kwZjzXGuep9w"
   },
   "execution_count": null,
   "outputs": []
  },
  {
   "cell_type": "code",
   "source": [],
   "metadata": {
    "id": "rzDpx7NI__6N"
   },
   "execution_count": null,
   "outputs": []
  }
 ]
}
