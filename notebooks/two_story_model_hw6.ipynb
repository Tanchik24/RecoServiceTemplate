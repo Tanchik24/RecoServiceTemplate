{
 "cells": [
  {
   "cell_type": "code",
   "execution_count": 198,
   "outputs": [],
   "source": [
    "import pandas as pd\n",
    "from typing import Dict, Any, Tuple\n",
    "from pathlib import Path\n",
    "from rectools import Columns\n",
    "import numpy as np\n",
    "from sklearn.model_selection import train_test_split\n",
    "from sklearn.preprocessing import MultiLabelBinarizer\n",
    "from rectools.dataset import Dataset as data\n",
    "import dill\n",
    "import warnings\n",
    "from tqdm.auto import tqdm\n",
    "from lightfm import LightFM\n",
    "from xgboost import XGBRanker\n",
    "from rectools.metrics import calc_metrics, NDCG, MAP, Precision, Recall, MeanInvUserFreq\n",
    "from tools import generate_lightfm_recs_mapper\n",
    "from rectools.models import PopularModel\n",
    "from lightfm.data import Dataset\n",
    "from lightgbm import LGBMRanker\n",
    "from catboost import CatBoostRanker, Pool\n",
    "import pickle\n",
    "warnings.filterwarnings('ignore')"
   ],
   "metadata": {
    "collapsed": false,
    "ExecuteTime": {
     "end_time": "2024-03-03T22:54:06.395629Z",
     "start_time": "2024-03-03T22:54:06.299555Z"
    }
   }
  },
  {
   "cell_type": "markdown",
   "source": [
    "### Подготовка данных"
   ],
   "metadata": {
    "collapsed": false
   }
  },
  {
   "cell_type": "code",
   "execution_count": 99,
   "metadata": {
    "collapsed": true,
    "ExecuteTime": {
     "end_time": "2024-03-03T10:36:40.251814Z",
     "start_time": "2024-03-03T10:36:36.247518Z"
    }
   },
   "outputs": [],
   "source": [
    "DATA_PATH = Path(\"/Users/tanchik/Desktop/Настоящее/учеба/RecSys/RecoServiceTemplate/kion_train\")\n",
    "users = pd.read_csv(DATA_PATH / 'users.csv')\n",
    "items = pd.read_csv(DATA_PATH / 'items.csv')\n",
    "interactions = pd.read_csv(DATA_PATH / 'interactions.csv')"
   ]
  },
  {
   "cell_type": "code",
   "execution_count": 100,
   "outputs": [],
   "source": [
    "interactions.rename(columns={'user_id': Columns.User, 'item_id': Columns.Item,\n",
    "                                'last_watch_dt': Columns.Datetime, 'watched_pct': Columns.Weight}, inplace=True)"
   ],
   "metadata": {
    "collapsed": false,
    "ExecuteTime": {
     "end_time": "2024-03-03T10:36:40.259741Z",
     "start_time": "2024-03-03T10:36:40.255620Z"
    }
   }
  },
  {
   "cell_type": "code",
   "execution_count": null,
   "outputs": [],
   "source": [
    "interactions[Columns.Datetime] = interactions[Columns.Datetime].astype(np.datetime64)\n",
    "interactions_default_values: Dict[str, Any] = {\n",
    "   Columns.Datetime: interactions[Columns.Datetime].median(),\n",
    "    Columns.Weight: 0.,\n",
    "    'total_dur': 0,\n",
    "}\n",
    "interactions.fillna(interactions_default_values, inplace=True)\n",
    "\n",
    "interactions.head(10)"
   ],
   "metadata": {
    "collapsed": false
   }
  },
  {
   "cell_type": "code",
   "execution_count": null,
   "outputs": [],
   "source": [
    "interactions.describe(datetime_is_numeric=True)"
   ],
   "metadata": {
    "collapsed": false
   }
  },
  {
   "cell_type": "code",
   "execution_count": 103,
   "outputs": [],
   "source": [
    "def encode_cat_cols(df: pd.DataFrame, cat_cols) -> Tuple[pd.DataFrame, Dict]:\n",
    "    cat_col_encoding = {}\n",
    "    for col in cat_cols:\n",
    "        cat_col = df[col].astype('category').cat\n",
    "        cat_col_encoding[col] = cat_col.categories\n",
    "        df[col] = cat_col.codes.astype('category')\n",
    "    return df, cat_col_encoding\n"
   ],
   "metadata": {
    "collapsed": false,
    "ExecuteTime": {
     "end_time": "2024-03-03T10:36:42.165608Z",
     "start_time": "2024-03-03T10:36:42.134656Z"
    }
   }
  },
  {
   "cell_type": "markdown",
   "source": [
    "### Данные о пользователе"
   ],
   "metadata": {
    "collapsed": false
   }
  },
  {
   "cell_type": "code",
   "execution_count": null,
   "outputs": [],
   "source": [
    "users.isnull().mean()"
   ],
   "metadata": {
    "collapsed": false
   }
  },
  {
   "cell_type": "code",
   "execution_count": 105,
   "outputs": [],
   "source": [
    "def fill_na(df, cols):\n",
    "    for col in cols:\n",
    "        df[col] = df[col].fillna(df[col].mode().iloc[0])\n",
    "    return df"
   ],
   "metadata": {
    "collapsed": false,
    "ExecuteTime": {
     "end_time": "2024-03-03T10:36:42.932565Z",
     "start_time": "2024-03-03T10:36:42.864112Z"
    }
   }
  },
  {
   "cell_type": "code",
   "execution_count": 106,
   "outputs": [],
   "source": [
    "cols_with_null = ['age', 'income', 'sex']\n",
    "users = fill_na(users, cols_with_null)"
   ],
   "metadata": {
    "collapsed": false,
    "ExecuteTime": {
     "end_time": "2024-03-03T10:36:42.932705Z",
     "start_time": "2024-03-03T10:36:42.864484Z"
    }
   }
  },
  {
   "cell_type": "code",
   "execution_count": null,
   "outputs": [],
   "source": [
    "users.isnull().mean()"
   ],
   "metadata": {
    "collapsed": false
   }
  },
  {
   "cell_type": "code",
   "execution_count": null,
   "outputs": [],
   "source": [
    "print(users.shape)\n",
    "users.head(3)"
   ],
   "metadata": {
    "collapsed": false
   }
  },
  {
   "cell_type": "code",
   "execution_count": 109,
   "outputs": [
    {
     "data": {
      "text/plain": "   user_id  age_age_18_24  age_age_25_34  age_age_35_44  age_age_45_54  \\\n0   973171              0              1              0              0   \n1   962099              1              0              0              0   \n2  1047345              0              0              0              1   \n3   721985              0              0              0              1   \n4   704055              0              0              1              0   \n\n   age_age_55_64  age_age_65_inf  income_income_0_20  income_income_150_inf  \\\n0              0               0                   0                      0   \n1              0               0                   0                      0   \n2              0               0                   0                      0   \n3              0               0                   0                      0   \n4              0               0                   0                      0   \n\n   income_income_20_40  income_income_40_60  income_income_60_90  \\\n0                    0                    0                    1   \n1                    1                    0                    0   \n2                    0                    1                    0   \n3                    1                    0                    0   \n4                    0                    0                    1   \n\n   income_income_90_150  sex_Ж  sex_М  kids_flg_0  kids_flg_1  \n0                     0      0      1           0           1  \n1                     0      0      1           1           0  \n2                     0      1      0           1           0  \n3                     0      1      0           1           0  \n4                     0      1      0           1           0  ",
      "text/html": "<div>\n<style scoped>\n    .dataframe tbody tr th:only-of-type {\n        vertical-align: middle;\n    }\n\n    .dataframe tbody tr th {\n        vertical-align: top;\n    }\n\n    .dataframe thead th {\n        text-align: right;\n    }\n</style>\n<table border=\"1\" class=\"dataframe\">\n  <thead>\n    <tr style=\"text-align: right;\">\n      <th></th>\n      <th>user_id</th>\n      <th>age_age_18_24</th>\n      <th>age_age_25_34</th>\n      <th>age_age_35_44</th>\n      <th>age_age_45_54</th>\n      <th>age_age_55_64</th>\n      <th>age_age_65_inf</th>\n      <th>income_income_0_20</th>\n      <th>income_income_150_inf</th>\n      <th>income_income_20_40</th>\n      <th>income_income_40_60</th>\n      <th>income_income_60_90</th>\n      <th>income_income_90_150</th>\n      <th>sex_Ж</th>\n      <th>sex_М</th>\n      <th>kids_flg_0</th>\n      <th>kids_flg_1</th>\n    </tr>\n  </thead>\n  <tbody>\n    <tr>\n      <th>0</th>\n      <td>973171</td>\n      <td>0</td>\n      <td>1</td>\n      <td>0</td>\n      <td>0</td>\n      <td>0</td>\n      <td>0</td>\n      <td>0</td>\n      <td>0</td>\n      <td>0</td>\n      <td>0</td>\n      <td>1</td>\n      <td>0</td>\n      <td>0</td>\n      <td>1</td>\n      <td>0</td>\n      <td>1</td>\n    </tr>\n    <tr>\n      <th>1</th>\n      <td>962099</td>\n      <td>1</td>\n      <td>0</td>\n      <td>0</td>\n      <td>0</td>\n      <td>0</td>\n      <td>0</td>\n      <td>0</td>\n      <td>0</td>\n      <td>1</td>\n      <td>0</td>\n      <td>0</td>\n      <td>0</td>\n      <td>0</td>\n      <td>1</td>\n      <td>1</td>\n      <td>0</td>\n    </tr>\n    <tr>\n      <th>2</th>\n      <td>1047345</td>\n      <td>0</td>\n      <td>0</td>\n      <td>0</td>\n      <td>1</td>\n      <td>0</td>\n      <td>0</td>\n      <td>0</td>\n      <td>0</td>\n      <td>0</td>\n      <td>1</td>\n      <td>0</td>\n      <td>0</td>\n      <td>1</td>\n      <td>0</td>\n      <td>1</td>\n      <td>0</td>\n    </tr>\n    <tr>\n      <th>3</th>\n      <td>721985</td>\n      <td>0</td>\n      <td>0</td>\n      <td>0</td>\n      <td>1</td>\n      <td>0</td>\n      <td>0</td>\n      <td>0</td>\n      <td>0</td>\n      <td>1</td>\n      <td>0</td>\n      <td>0</td>\n      <td>0</td>\n      <td>1</td>\n      <td>0</td>\n      <td>1</td>\n      <td>0</td>\n    </tr>\n    <tr>\n      <th>4</th>\n      <td>704055</td>\n      <td>0</td>\n      <td>0</td>\n      <td>1</td>\n      <td>0</td>\n      <td>0</td>\n      <td>0</td>\n      <td>0</td>\n      <td>0</td>\n      <td>0</td>\n      <td>0</td>\n      <td>1</td>\n      <td>0</td>\n      <td>1</td>\n      <td>0</td>\n      <td>1</td>\n      <td>0</td>\n    </tr>\n  </tbody>\n</table>\n</div>"
     },
     "execution_count": 109,
     "metadata": {},
     "output_type": "execute_result"
    }
   ],
   "source": [
    "user_cat_feats = [\"age\", \"income\", \"sex\", \"kids_flg\"]\n",
    "users_ohe_df = users.user_id\n",
    "for feat in user_cat_feats:\n",
    "    ohe_feat_df = pd.get_dummies(users[feat], prefix=feat)\n",
    "    users_ohe_df = pd.concat([users_ohe_df, ohe_feat_df], axis=1)\n",
    "\n",
    "users_ohe_df.head()"
   ],
   "metadata": {
    "collapsed": false,
    "ExecuteTime": {
     "end_time": "2024-03-03T10:36:43.959272Z",
     "start_time": "2024-03-03T10:36:43.206486Z"
    }
   }
  },
  {
   "cell_type": "code",
   "execution_count": 110,
   "outputs": [
    {
     "data": {
      "text/plain": "{'age': Index(['age_18_24', 'age_25_34', 'age_35_44', 'age_45_54', 'age_55_64',\n        'age_65_inf'],\n       dtype='object'),\n 'income': Index(['income_0_20', 'income_150_inf', 'income_20_40', 'income_40_60',\n        'income_60_90', 'income_90_150'],\n       dtype='object'),\n 'sex': Index(['Ж', 'М'], dtype='object'),\n 'kids_flg': Int64Index([0, 1], dtype='int64')}"
     },
     "execution_count": 110,
     "metadata": {},
     "output_type": "execute_result"
    }
   ],
   "source": [
    "users_cat_cols = [\n",
    "     'age', 'income', 'sex', 'kids_flg'\n",
    "]\n",
    "users, users_cat_col_encoding = encode_cat_cols(users, users_cat_cols)\n",
    "users_cat_col_encoding"
   ],
   "metadata": {
    "collapsed": false,
    "ExecuteTime": {
     "end_time": "2024-03-03T10:36:43.959899Z",
     "start_time": "2024-03-03T10:36:43.882249Z"
    }
   }
  },
  {
   "cell_type": "code",
   "execution_count": null,
   "outputs": [],
   "source": [
    "users"
   ],
   "metadata": {
    "collapsed": false
   }
  },
  {
   "cell_type": "code",
   "execution_count": 112,
   "outputs": [
    {
     "data": {
      "text/plain": "(840197, 5)"
     },
     "execution_count": 112,
     "metadata": {},
     "output_type": "execute_result"
    }
   ],
   "source": [
    "users.shape"
   ],
   "metadata": {
    "collapsed": false,
    "ExecuteTime": {
     "end_time": "2024-03-03T10:36:43.960413Z",
     "start_time": "2024-03-03T10:36:43.882882Z"
    }
   }
  },
  {
   "cell_type": "markdown",
   "source": [
    "### Обработка данных для items"
   ],
   "metadata": {
    "collapsed": false
   }
  },
  {
   "cell_type": "code",
   "execution_count": 113,
   "outputs": [
    {
     "name": "stdout",
     "output_type": "stream",
     "text": [
      "(15963, 14)\n"
     ]
    },
    {
     "data": {
      "text/plain": "   item_id content_type             title      title_orig  release_year  \\\n0    10711         film    Поговори с ней  Hable con ella        2002.0   \n1     2508         film       Голые перцы    Search Party        2014.0   \n2    10716         film  Тактическая сила  Tactical Force        2011.0   \n\n                                             genres countries  for_kids  \\\n0           драмы, зарубежные, детективы, мелодрамы   Испания       NaN   \n1                  зарубежные, приключения, комедии       США       NaN   \n2  криминал, зарубежные, триллеры, боевики, комедии    Канада       NaN   \n\n   age_rating studios         directors  \\\n0        16.0     NaN  Педро Альмодовар   \n1        16.0     NaN    Скот Армстронг   \n2        16.0     NaN  Адам П. Калтраро   \n\n                                              actors  \\\n0  Адольфо Фернандес, Ана Фернандес, Дарио Гранди...   \n1  Адам Палли, Брайан Хаски, Дж.Б. Смув, Джейсон ...   \n2  Адриан Холмс, Даррен Шалави, Джерри Вассерман,...   \n\n                                         description  \\\n0  Мелодрама легендарного Педро Альмодовара «Пого...   \n1  Уморительная современная комедия на популярную...   \n2  Профессиональный рестлер Стив Остин («Все или ...   \n\n                                            keywords  \n0  Поговори, ней, 2002, Испания, друзья, любовь, ...  \n1  Голые, перцы, 2014, США, друзья, свадьбы, прео...  \n2  Тактическая, сила, 2011, Канада, бандиты, ганг...  ",
      "text/html": "<div>\n<style scoped>\n    .dataframe tbody tr th:only-of-type {\n        vertical-align: middle;\n    }\n\n    .dataframe tbody tr th {\n        vertical-align: top;\n    }\n\n    .dataframe thead th {\n        text-align: right;\n    }\n</style>\n<table border=\"1\" class=\"dataframe\">\n  <thead>\n    <tr style=\"text-align: right;\">\n      <th></th>\n      <th>item_id</th>\n      <th>content_type</th>\n      <th>title</th>\n      <th>title_orig</th>\n      <th>release_year</th>\n      <th>genres</th>\n      <th>countries</th>\n      <th>for_kids</th>\n      <th>age_rating</th>\n      <th>studios</th>\n      <th>directors</th>\n      <th>actors</th>\n      <th>description</th>\n      <th>keywords</th>\n    </tr>\n  </thead>\n  <tbody>\n    <tr>\n      <th>0</th>\n      <td>10711</td>\n      <td>film</td>\n      <td>Поговори с ней</td>\n      <td>Hable con ella</td>\n      <td>2002.0</td>\n      <td>драмы, зарубежные, детективы, мелодрамы</td>\n      <td>Испания</td>\n      <td>NaN</td>\n      <td>16.0</td>\n      <td>NaN</td>\n      <td>Педро Альмодовар</td>\n      <td>Адольфо Фернандес, Ана Фернандес, Дарио Гранди...</td>\n      <td>Мелодрама легендарного Педро Альмодовара «Пого...</td>\n      <td>Поговори, ней, 2002, Испания, друзья, любовь, ...</td>\n    </tr>\n    <tr>\n      <th>1</th>\n      <td>2508</td>\n      <td>film</td>\n      <td>Голые перцы</td>\n      <td>Search Party</td>\n      <td>2014.0</td>\n      <td>зарубежные, приключения, комедии</td>\n      <td>США</td>\n      <td>NaN</td>\n      <td>16.0</td>\n      <td>NaN</td>\n      <td>Скот Армстронг</td>\n      <td>Адам Палли, Брайан Хаски, Дж.Б. Смув, Джейсон ...</td>\n      <td>Уморительная современная комедия на популярную...</td>\n      <td>Голые, перцы, 2014, США, друзья, свадьбы, прео...</td>\n    </tr>\n    <tr>\n      <th>2</th>\n      <td>10716</td>\n      <td>film</td>\n      <td>Тактическая сила</td>\n      <td>Tactical Force</td>\n      <td>2011.0</td>\n      <td>криминал, зарубежные, триллеры, боевики, комедии</td>\n      <td>Канада</td>\n      <td>NaN</td>\n      <td>16.0</td>\n      <td>NaN</td>\n      <td>Адам П. Калтраро</td>\n      <td>Адриан Холмс, Даррен Шалави, Джерри Вассерман,...</td>\n      <td>Профессиональный рестлер Стив Остин («Все или ...</td>\n      <td>Тактическая, сила, 2011, Канада, бандиты, ганг...</td>\n    </tr>\n  </tbody>\n</table>\n</div>"
     },
     "execution_count": 113,
     "metadata": {},
     "output_type": "execute_result"
    }
   ],
   "source": [
    "print(items.shape)\n",
    "items.head(3)"
   ],
   "metadata": {
    "collapsed": false,
    "ExecuteTime": {
     "end_time": "2024-03-03T10:36:43.961914Z",
     "start_time": "2024-03-03T10:36:43.883037Z"
    }
   }
  },
  {
   "cell_type": "code",
   "execution_count": 114,
   "outputs": [
    {
     "data": {
      "text/plain": "item_id         0.000000\ncontent_type    0.000000\ntitle           0.000000\ntitle_orig      0.297250\nrelease_year    0.006139\ngenres          0.000000\ncountries       0.002318\nfor_kids        0.964543\nage_rating      0.000125\nstudios         0.933283\ndirectors       0.094531\nactors          0.164067\ndescription     0.000125\nkeywords        0.026499\ndtype: float64"
     },
     "execution_count": 114,
     "metadata": {},
     "output_type": "execute_result"
    }
   ],
   "source": [
    "items.isnull().mean()"
   ],
   "metadata": {
    "collapsed": false,
    "ExecuteTime": {
     "end_time": "2024-03-03T10:36:43.962204Z",
     "start_time": "2024-03-03T10:36:43.883398Z"
    }
   }
  },
  {
   "cell_type": "code",
   "execution_count": 115,
   "outputs": [
    {
     "name": "stdout",
     "output_type": "stream",
     "text": [
      "(14451, 9)\n"
     ]
    }
   ],
   "source": [
    "item_cols_with_null = ['release_year', 'age_rating']\n",
    "items = fill_na(items, item_cols_with_null)\n",
    "items = items.drop(columns=['title_orig', 'for_kids', 'studios', 'keywords', 'actors'])\n",
    "items = items.dropna(axis=0)\n",
    "print(items.shape)"
   ],
   "metadata": {
    "collapsed": false,
    "ExecuteTime": {
     "end_time": "2024-03-03T10:36:43.962422Z",
     "start_time": "2024-03-03T10:36:43.883613Z"
    }
   }
  },
  {
   "cell_type": "code",
   "execution_count": 116,
   "outputs": [],
   "source": [
    "items = items.reset_index(drop=True)"
   ],
   "metadata": {
    "collapsed": false,
    "ExecuteTime": {
     "end_time": "2024-03-03T10:36:43.962591Z",
     "start_time": "2024-03-03T10:36:43.883915Z"
    }
   }
  },
  {
   "cell_type": "code",
   "execution_count": 117,
   "outputs": [],
   "source": [
    "def categorize_popularity(popularity):\n",
    "    if popularity >= 0.75:\n",
    "        return 'High Popularity'\n",
    "    elif popularity >= 0.4:\n",
    "        return 'Medium Popularity'\n",
    "    else:\n",
    "        return 'Low Popularity'\n",
    "\n",
    "items['directors'] = items['directors'].str.split(', ')\n",
    "items_df_exploded = items.explode('directors')\n",
    "interactions_directors = interactions.merge(items_df_exploded, on='item_id')\n",
    "director_popularity = interactions_directors.groupby('directors')['weight'].mean().reset_index()\n",
    "director_popularity['director_category'] = director_popularity['weight'].apply(categorize_popularity)\n",
    "items_df_exploded = items_df_exploded.merge(director_popularity, on='directors', how='left')\n",
    "grouped = items_df_exploded.groupby(items_df_exploded.index)\n",
    "items['directors_cat'] = grouped['director_category'].agg(lambda x: ', '.join(x.dropna().unique()))"
   ],
   "metadata": {
    "collapsed": false,
    "ExecuteTime": {
     "end_time": "2024-03-03T10:36:49.823393Z",
     "start_time": "2024-03-03T10:36:43.884222Z"
    }
   }
  },
  {
   "cell_type": "code",
   "execution_count": null,
   "outputs": [],
   "source": [
    "item_cat_feats = ['age_rating', 'directors_cat']\n",
    "\n",
    "items_ohe_df = items.item_id\n",
    "\n",
    "for feat in item_cat_feats:\n",
    "    ohe_feat_df = pd.get_dummies(items[feat], prefix=feat)\n",
    "    items_ohe_df = pd.concat([items_ohe_df, ohe_feat_df], axis=1)\n",
    "\n",
    "\n",
    "min_year = items['release_year'].min()\n",
    "max_year = items['release_year'].max()\n",
    "items['release_year'] = (items['release_year'] - min_year) / (max_year - min_year)\n",
    "\n",
    "\n",
    "items_ohe_df.head()"
   ],
   "metadata": {
    "collapsed": false
   }
  },
  {
   "cell_type": "code",
   "execution_count": null,
   "outputs": [],
   "source": [
    "items['countries'] = items.countries.str.split(',')\n",
    "mlb = MultiLabelBinarizer()\n",
    "one_hot_encoded = pd.DataFrame(mlb.fit_transform(items['countries']), columns=mlb.classes_)\n",
    "items_ohe_df = pd.concat([items_ohe_df, one_hot_encoded], axis=1)\n",
    "items_ohe_df.head()"
   ],
   "metadata": {
    "collapsed": false
   }
  },
  {
   "cell_type": "code",
   "execution_count": 120,
   "outputs": [
    {
     "data": {
      "text/plain": "2596"
     },
     "execution_count": 120,
     "metadata": {},
     "output_type": "execute_result"
    }
   ],
   "source": [
    "items.explode('genres')['genres'].nunique()"
   ],
   "metadata": {
    "collapsed": false,
    "ExecuteTime": {
     "end_time": "2024-03-03T10:36:50.618383Z",
     "start_time": "2024-03-03T10:36:49.903657Z"
    }
   }
  },
  {
   "cell_type": "code",
   "execution_count": 121,
   "outputs": [],
   "source": [
    "items['genres'] = items['genres'].apply(lambda x: ', '.join(x))"
   ],
   "metadata": {
    "collapsed": false,
    "ExecuteTime": {
     "end_time": "2024-03-03T10:36:50.620437Z",
     "start_time": "2024-03-03T10:36:50.531149Z"
    }
   }
  },
  {
   "cell_type": "code",
   "execution_count": 122,
   "outputs": [],
   "source": [
    "pd.DataFrame({'genres': list(items['genres'].unique())}).to_csv('genres.csv')"
   ],
   "metadata": {
    "collapsed": false,
    "ExecuteTime": {
     "end_time": "2024-03-03T10:36:50.620686Z",
     "start_time": "2024-03-03T10:36:50.531618Z"
    }
   }
  },
  {
   "cell_type": "code",
   "execution_count": 123,
   "outputs": [],
   "source": [
    "def assign_region(x):\n",
    "    regions = {\n",
    "        'Северная Америка': ['США', 'Канада', 'Мексика'],\n",
    "        'Южная Америка': ['Аргентина', 'Бразилия', 'Чили', 'Перу', 'Колумбия', 'Уругвай'],\n",
    "        'Европа': ['Испания', 'Франция', 'Германия', 'Италия', 'Великобритания', 'Швеция', 'Норвегия', 'Дания', 'Финляндия', 'Польша', 'Чехия', 'Венгрия', 'Румыния', 'Бельгия', 'Нидерланды', 'Люксембург', 'Австрия', 'Швейцария', 'Португалия', 'Греция', 'Болгария', 'Ирландия'],\n",
    "        'СНГ': ['Россия', 'Украина', 'Беларусь', 'Казахстан', 'Узбекистан', 'Армения', 'Киргизия'],\n",
    "        'Азия': ['Китай', 'Япония', 'Южная Корея', 'Индия', 'Таиланд', 'Малайзия'],\n",
    "        'Ближний Восток и Северная Африка': ['Иран', 'Израиль', 'Египет', 'Турция'],\n",
    "        'Субсахарская Африка': ['ЮАР', 'Нигерия', 'Кения'],\n",
    "        'Австралия и Океания': ['Австралия', 'Новая Зеландия'],\n",
    "        'Латинская Америка': ['Мексика', 'Куба', 'Пуэрто-Рико']\n",
    "    }\n",
    "    for region, country_list in regions.items():\n",
    "        for elem in x:\n",
    "            if elem.strip() in country_list:\n",
    "                return region\n",
    "\n",
    "    return 'Другой'\n",
    "\n",
    "items['countries'] = items['countries'].apply(lambda x: assign_region(x))"
   ],
   "metadata": {
    "collapsed": false,
    "ExecuteTime": {
     "end_time": "2024-03-03T10:36:50.620828Z",
     "start_time": "2024-03-03T10:36:50.531819Z"
    }
   }
  },
  {
   "cell_type": "code",
   "execution_count": null,
   "outputs": [],
   "source": [
    "items_cat_cols = ['content_type', 'age_rating', 'countries', 'directors_cat']\n",
    "items_text_cols = ['title', 'description', 'genres', 'directors']\n",
    "items_num_cols = ['release_year']\n",
    "default_values_items = {\n",
    "    'release_year': items['release_year'].median(),\n",
    "    'age_rating': items['age_rating'].mode(),\n",
    "}\n",
    "\n",
    "\n",
    "items, items_cat_col_encoding = encode_cat_cols(items, items_cat_cols)\n",
    "items = items.drop(items_text_cols, axis=1)\n",
    "items.fillna(default_values_items, inplace=True)\n",
    "\n",
    "items"
   ],
   "metadata": {
    "collapsed": false
   }
  },
  {
   "cell_type": "markdown",
   "source": [
    "###  Трэйн-вал-тест сплит"
   ],
   "metadata": {
    "collapsed": false
   }
  },
  {
   "cell_type": "code",
   "execution_count": 125,
   "outputs": [
    {
     "name": "stdout",
     "output_type": "stream",
     "text": [
      "min дата в interactions: 2021-03-13 00:00:00\n",
      "max дата в interactions: 2021-08-22 00:00:00\n",
      "Продолжительность: 162 days 00:00:00\n"
     ]
    }
   ],
   "source": [
    "max_date = interactions[Columns.Datetime].max()\n",
    "min_date = interactions[Columns.Datetime].min()\n",
    "\n",
    "print(f'min дата в interactions: {min_date}')\n",
    "print(f'max дата в interactions: {max_date}')\n",
    "print(f'Продолжительность: {max_date - min_date}')\n"
   ],
   "metadata": {
    "collapsed": false,
    "ExecuteTime": {
     "end_time": "2024-03-03T10:36:50.621456Z",
     "start_time": "2024-03-03T10:36:50.532243Z"
    }
   }
  },
  {
   "cell_type": "code",
   "execution_count": 126,
   "outputs": [],
   "source": [
    "ranker_days_count = 30\n",
    "\n",
    "ranker_data = interactions[\n",
    "    (interactions[Columns.Datetime] >= max_date - pd.Timedelta(days=ranker_days_count))\n",
    "]\n",
    "\n",
    "train_size = 0.7\n",
    "val_size = 0.15\n",
    "test_size = 0.15\n",
    "\n",
    "\n",
    "train_val_users, test_users = train_test_split(\n",
    "    ranker_data['user_id'].unique(), random_state=42, test_size=test_size\n",
    ")\n",
    "\n",
    "train_users, val_users = train_test_split(\n",
    "    train_val_users, random_state=42, test_size=val_size / (train_size + val_size)\n",
    ")\n"
   ],
   "metadata": {
    "collapsed": false,
    "ExecuteTime": {
     "end_time": "2024-03-03T10:36:50.621614Z",
     "start_time": "2024-03-03T10:36:50.532374Z"
    }
   }
  },
  {
   "cell_type": "code",
   "execution_count": 127,
   "outputs": [],
   "source": [
    "base_models_data = interactions[\n",
    "    (interactions[Columns.Datetime] < max_date - pd.Timedelta(days=ranker_days_count))\n",
    "]"
   ],
   "metadata": {
    "collapsed": false,
    "ExecuteTime": {
     "end_time": "2024-03-03T10:36:50.621784Z",
     "start_time": "2024-03-03T10:36:50.532494Z"
    }
   }
  },
  {
   "cell_type": "markdown",
   "source": [
    "### Обучим модель первого уровня"
   ],
   "metadata": {
    "collapsed": false
   }
  },
  {
   "cell_type": "code",
   "execution_count": 128,
   "outputs": [],
   "source": [
    "users_list = list(base_models_data[Columns.User].unique())\n",
    "users_features = users_ohe_df[users_ohe_df['user_id'].isin(users_list)].copy()"
   ],
   "metadata": {
    "collapsed": false,
    "ExecuteTime": {
     "end_time": "2024-03-03T10:36:51.493835Z",
     "start_time": "2024-03-03T10:36:50.550577Z"
    }
   }
  },
  {
   "cell_type": "code",
   "execution_count": 129,
   "outputs": [],
   "source": [
    "items_list = list(base_models_data[Columns.Item].unique())\n",
    "items_features = items_ohe_df[items_ohe_df['item_id'].isin(items_list)].copy()"
   ],
   "metadata": {
    "collapsed": false,
    "ExecuteTime": {
     "end_time": "2024-03-03T10:36:51.515443Z",
     "start_time": "2024-03-03T10:36:51.448890Z"
    }
   }
  },
  {
   "cell_type": "code",
   "execution_count": 130,
   "outputs": [
    {
     "name": "stdout",
     "output_type": "stream",
     "text": [
      "<class 'pandas.core.frame.DataFrame'>\n",
      "Int64Index: 13650 entries, 0 to 14450\n",
      "Columns: 165 entries, item_id to Япония\n",
      "dtypes: int64(155), uint8(10)\n",
      "memory usage: 16.4 MB\n"
     ]
    }
   ],
   "source": [
    "items_features.info()"
   ],
   "metadata": {
    "collapsed": false,
    "ExecuteTime": {
     "end_time": "2024-03-03T10:36:51.515822Z",
     "start_time": "2024-03-03T10:36:51.449336Z"
    }
   }
  },
  {
   "cell_type": "code",
   "execution_count": 131,
   "outputs": [],
   "source": [
    "lightfm_dataset = Dataset()\n",
    "lightfm_user_ids = base_models_data['user_id'].unique()\n",
    "lightfm_item_ids = base_models_data['item_id'].unique()"
   ],
   "metadata": {
    "collapsed": false,
    "ExecuteTime": {
     "end_time": "2024-03-03T10:36:51.515985Z",
     "start_time": "2024-03-03T10:36:51.449607Z"
    }
   }
  },
  {
   "cell_type": "code",
   "execution_count": 132,
   "outputs": [],
   "source": [
    "lightfm_dataset.fit(\n",
    "    users=lightfm_user_ids,\n",
    "    items=lightfm_item_ids,\n",
    "    user_features=[str(f) for f in users_features.columns[1:]],\n",
    "    item_features=[str(f) for f in items_features.columns[1:]]\n",
    ")\n",
    "\n",
    "interactions_matrix, weights_matrix = lightfm_dataset.build_interactions(\n",
    "    zip(*base_models_data[['user_id', 'item_id', 'weight']].values.T)\n",
    ")\n",
    "\n",
    "user_features_matrix = lightfm_dataset.build_user_features(\n",
    "    (row[0], dict(zip(users_features.columns[1:], row[1:]))) for row in users_features.itertuples(index=False)\n",
    ")\n",
    "item_features_matrix = lightfm_dataset.build_item_features(\n",
    "    (row[0], dict(zip(items_features.columns[1:], row[1:]))) for row in items_features.itertuples(index=False)\n",
    ")"
   ],
   "metadata": {
    "collapsed": false,
    "ExecuteTime": {
     "end_time": "2024-03-03T10:37:18.697330Z",
     "start_time": "2024-03-03T10:36:51.449834Z"
    }
   }
  },
  {
   "cell_type": "code",
   "execution_count": 133,
   "outputs": [
    {
     "data": {
      "text/plain": "  0%|          | 0/20 [00:00<?, ?it/s]",
      "application/vnd.jupyter.widget-view+json": {
       "version_major": 2,
       "version_minor": 0,
       "model_id": "6f48166cc94f425785046aa17308de21"
      }
     },
     "metadata": {},
     "output_type": "display_data"
    }
   ],
   "source": [
    "lfm_model = LightFM(\n",
    "    no_components=64,\n",
    "    learning_rate=0.1,\n",
    "    loss='warp',\n",
    "    max_sampled=5,\n",
    "    random_state=104,\n",
    ")\n",
    "\n",
    "num_epochs = 20\n",
    "for _ in tqdm(range(num_epochs)):\n",
    "    lfm_model.fit_partial(\n",
    "        interactions=weights_matrix,\n",
    "        user_features=user_features_matrix,\n",
    "        item_features=item_features_matrix,\n",
    "        epochs=1\n",
    "    )\n"
   ],
   "metadata": {
    "collapsed": false,
    "ExecuteTime": {
     "end_time": "2024-03-03T12:28:14.843184Z",
     "start_time": "2024-03-03T10:37:18.695973Z"
    }
   }
  },
  {
   "cell_type": "code",
   "execution_count": 134,
   "outputs": [],
   "source": [
    "with open(f'/Users/tanchik/Desktop/Настоящее/учеба/RecSys/RecoServiceTemplate/service/api/recsys/models/lfm_model.dill', 'wb') as f:\n",
    "    dill.dump(lfm_model, f)\n"
   ],
   "metadata": {
    "collapsed": false,
    "ExecuteTime": {
     "end_time": "2024-03-03T12:38:55.030775Z",
     "start_time": "2024-03-03T12:38:53.868418Z"
    }
   }
  },
  {
   "cell_type": "markdown",
   "source": [
    "### Дополню популярными"
   ],
   "metadata": {
    "collapsed": false
   }
  },
  {
   "cell_type": "code",
   "execution_count": 135,
   "outputs": [],
   "source": [
    "dataset = data.construct(\n",
    "    interactions_df=base_models_data,\n",
    ")"
   ],
   "metadata": {
    "collapsed": false,
    "ExecuteTime": {
     "end_time": "2024-03-03T12:38:58.455062Z",
     "start_time": "2024-03-03T12:38:57.280416Z"
    }
   }
  },
  {
   "cell_type": "code",
   "execution_count": 136,
   "outputs": [
    {
     "data": {
      "text/plain": "<rectools.models.popular.PopularModel at 0x7fb77276c2b0>"
     },
     "execution_count": 136,
     "metadata": {},
     "output_type": "execute_result"
    }
   ],
   "source": [
    "pop_model = PopularModel()\n",
    "pop_model.fit(dataset)"
   ],
   "metadata": {
    "collapsed": false,
    "ExecuteTime": {
     "end_time": "2024-03-03T12:39:02.407723Z",
     "start_time": "2024-03-03T12:38:58.405333Z"
    }
   }
  },
  {
   "cell_type": "markdown",
   "source": [
    "### Генерим кандидатов для датасета ранкера\n"
   ],
   "metadata": {
    "collapsed": false,
    "ExecuteTime": {
     "end_time": "2024-02-29T14:53:04.884321Z",
     "start_time": "2024-02-29T14:52:59.622351Z"
    }
   },
   "outputs": [
    {
     "data": {
      "text/plain": "<rectools.models.popular.PopularModel at 0x7faa11f47ac0>"
     },
     "execution_count": 122,
     "metadata": {},
     "output_type": "execute_result"
    }
   ],
   "execution_count": 122
  },
  {
   "cell_type": "code",
   "execution_count": 137,
   "outputs": [],
   "source": [
    "def calc_metrics_(candidates_df, rank_col: str) -> Dict[str, float]:\n",
    "    metrics = {\n",
    "        'ndcg@10': NDCG(k = 10),\n",
    "        'map@10': MAP(k = 10),\n",
    "        'Precision@10': Precision(k = 10),\n",
    "        'recall@10': Recall(k = 10),\n",
    "        'novelty@10': MeanInvUserFreq(k = 10),\n",
    "    }\n",
    "    return calc_metrics(\n",
    "        metrics=metrics,\n",
    "        reco=(\n",
    "            candidates_df\n",
    "            .rename(columns={rank_col: Columns.Rank})\n",
    "            [[Columns.User, Columns.Item, Columns.Rank]]\n",
    "            [candidates_df[Columns.User].isin(test_users)]\n",
    "        ),\n",
    "        interactions=(\n",
    "            ranker_data\n",
    "            [[Columns.User, Columns.Item, Columns.Datetime, Columns.Weight]]\n",
    "            [ranker_data[Columns.User].isin(test_users)]\n",
    "        ),\n",
    "        prev_interactions=(\n",
    "            base_models_data\n",
    "            [[Columns.User, Columns.Item, Columns.Datetime, Columns.Weight]]\n",
    "            [base_models_data[Columns.User].isin(test_users)]\n",
    "        ),\n",
    "        catalog=items['item_id'].unique()\n",
    "    )"
   ],
   "metadata": {
    "collapsed": false,
    "ExecuteTime": {
     "end_time": "2024-03-03T12:39:02.417062Z",
     "start_time": "2024-03-03T12:39:02.413540Z"
    }
   }
  },
  {
   "cell_type": "code",
   "execution_count": 138,
   "outputs": [],
   "source": [
    "lightfm_mapping = lightfm_dataset.mapping()\n",
    "lightfm_mapping = {\n",
    "    'user_id_to_iid': lightfm_mapping[0],\n",
    "    'item_id_to_iid': lightfm_mapping[2],\n",
    "}\n",
    "lightfm_mapping['user_iid_to_id'] = {v: k for k, v in lightfm_mapping['user_id_to_iid'].items()}\n",
    "lightfm_mapping['item_iid_to_id'] = {v: k for k, v in lightfm_mapping['item_id_to_iid'].items()}\n"
   ],
   "metadata": {
    "collapsed": false,
    "ExecuteTime": {
     "end_time": "2024-03-03T12:39:03.860207Z",
     "start_time": "2024-03-03T12:39:03.789487Z"
    }
   }
  },
  {
   "cell_type": "code",
   "execution_count": 139,
   "outputs": [],
   "source": [
    "top_N = 100\n",
    "\n",
    "user_lfm_index = np.array(list(lightfm_mapping['user_id_to_iid'].values()))\n",
    "item_lfm_index = np.array(list(lightfm_mapping['item_id_to_iid'].values()))\n",
    "\n",
    "mapper = generate_lightfm_recs_mapper(\n",
    "    model=lfm_model,\n",
    "    N=top_N,\n",
    "    item_iids=item_lfm_index,\n",
    "    user_id_to_iid=lightfm_mapping['user_id_to_iid'],\n",
    "    item_iid_to_id=lightfm_mapping['item_iid_to_id'],\n",
    "    known_item_ids=dict(),\n",
    "    num_threads=4,\n",
    "    user_features = user_features_matrix,\n",
    "    item_features = item_features_matrix\n",
    ")\n"
   ],
   "metadata": {
    "collapsed": false,
    "ExecuteTime": {
     "end_time": "2024-03-03T12:39:08.927350Z",
     "start_time": "2024-03-03T12:39:08.895097Z"
    }
   }
  },
  {
   "cell_type": "code",
   "execution_count": null,
   "outputs": [],
   "source": [
    "candidates = pd.DataFrame({'user_id': lightfm_user_ids})\n",
    "candidates['item_id'], candidates['lfm_score'] = zip(*candidates['user_id'].map(mapper))\n",
    "candidates = candidates.explode(['item_id', 'lfm_score'], ignore_index=True)\n",
    "candidates['lfm_rank'] = candidates.groupby('user_id').cumcount() + 1\n",
    "\n",
    "candidates.head(3)"
   ],
   "metadata": {
    "collapsed": false
   }
  },
  {
   "cell_type": "code",
   "execution_count": 141,
   "outputs": [],
   "source": [
    "candidates.to_csv('/Users/tanchik/Desktop/Настоящее/учеба/RecSys/RecoServiceTemplate/kion_train/lfm.csv', index=False)"
   ],
   "metadata": {
    "collapsed": false,
    "ExecuteTime": {
     "end_time": "2024-03-03T21:17:47.953997Z",
     "start_time": "2024-03-03T21:15:04.696845Z"
    }
   }
  },
  {
   "cell_type": "code",
   "execution_count": 142,
   "outputs": [
    {
     "data": {
      "text/plain": "(72087500, 4)"
     },
     "execution_count": 142,
     "metadata": {},
     "output_type": "execute_result"
    }
   ],
   "source": [
    "candidates.shape"
   ],
   "metadata": {
    "collapsed": false,
    "ExecuteTime": {
     "end_time": "2024-03-03T21:17:48.157527Z",
     "start_time": "2024-03-03T21:17:48.064306Z"
    }
   }
  },
  {
   "cell_type": "code",
   "execution_count": 143,
   "outputs": [
    {
     "data": {
      "text/plain": "          user_id  item_id  pop_score  pop_rank\n0          176549    10440   141889.0         1\n1          176549    15297   137128.0         2\n2          176549    13865    93403.0         3\n3          176549     9728    76978.0         4\n4          176549     4151    69641.0         5\n...           ...      ...        ...       ...\n72087495   805174    14526     4402.0        96\n72087496   805174     7582     4348.0        97\n72087497   805174    10436     4327.0        98\n72087498   805174     5803     4318.0        99\n72087499   805174     1053     4304.0       100\n\n[72087500 rows x 4 columns]",
      "text/html": "<div>\n<style scoped>\n    .dataframe tbody tr th:only-of-type {\n        vertical-align: middle;\n    }\n\n    .dataframe tbody tr th {\n        vertical-align: top;\n    }\n\n    .dataframe thead th {\n        text-align: right;\n    }\n</style>\n<table border=\"1\" class=\"dataframe\">\n  <thead>\n    <tr style=\"text-align: right;\">\n      <th></th>\n      <th>user_id</th>\n      <th>item_id</th>\n      <th>pop_score</th>\n      <th>pop_rank</th>\n    </tr>\n  </thead>\n  <tbody>\n    <tr>\n      <th>0</th>\n      <td>176549</td>\n      <td>10440</td>\n      <td>141889.0</td>\n      <td>1</td>\n    </tr>\n    <tr>\n      <th>1</th>\n      <td>176549</td>\n      <td>15297</td>\n      <td>137128.0</td>\n      <td>2</td>\n    </tr>\n    <tr>\n      <th>2</th>\n      <td>176549</td>\n      <td>13865</td>\n      <td>93403.0</td>\n      <td>3</td>\n    </tr>\n    <tr>\n      <th>3</th>\n      <td>176549</td>\n      <td>9728</td>\n      <td>76978.0</td>\n      <td>4</td>\n    </tr>\n    <tr>\n      <th>4</th>\n      <td>176549</td>\n      <td>4151</td>\n      <td>69641.0</td>\n      <td>5</td>\n    </tr>\n    <tr>\n      <th>...</th>\n      <td>...</td>\n      <td>...</td>\n      <td>...</td>\n      <td>...</td>\n    </tr>\n    <tr>\n      <th>72087495</th>\n      <td>805174</td>\n      <td>14526</td>\n      <td>4402.0</td>\n      <td>96</td>\n    </tr>\n    <tr>\n      <th>72087496</th>\n      <td>805174</td>\n      <td>7582</td>\n      <td>4348.0</td>\n      <td>97</td>\n    </tr>\n    <tr>\n      <th>72087497</th>\n      <td>805174</td>\n      <td>10436</td>\n      <td>4327.0</td>\n      <td>98</td>\n    </tr>\n    <tr>\n      <th>72087498</th>\n      <td>805174</td>\n      <td>5803</td>\n      <td>4318.0</td>\n      <td>99</td>\n    </tr>\n    <tr>\n      <th>72087499</th>\n      <td>805174</td>\n      <td>1053</td>\n      <td>4304.0</td>\n      <td>100</td>\n    </tr>\n  </tbody>\n</table>\n<p>72087500 rows × 4 columns</p>\n</div>"
     },
     "execution_count": 143,
     "metadata": {},
     "output_type": "execute_result"
    }
   ],
   "source": [
    "pop_candidates = pop_model.recommend(lightfm_user_ids,\n",
    "                                         dataset=dataset,\n",
    "                                         k=100,\n",
    "                                         filter_viewed=False)\n",
    "\n",
    "pop_candidates.rename(columns={'score': 'pop_score',\n",
    "                                   'rank': 'pop_rank',},\n",
    "                      inplace=True,)\n",
    "\n",
    "pop_candidates"
   ],
   "metadata": {
    "collapsed": false,
    "ExecuteTime": {
     "end_time": "2024-03-03T21:22:50.651889Z",
     "start_time": "2024-03-03T21:17:48.064887Z"
    }
   }
  },
  {
   "cell_type": "code",
   "execution_count": 144,
   "outputs": [],
   "source": [
    "pop_candidates.to_csv('/Users/tanchik/Desktop/Настоящее/учеба/RecSys/RecoServiceTemplate/kion_train/pop.csv', index=False)"
   ],
   "metadata": {
    "collapsed": false,
    "ExecuteTime": {
     "end_time": "2024-03-03T21:24:51.134680Z",
     "start_time": "2024-03-03T21:22:50.623743Z"
    }
   }
  },
  {
   "cell_type": "code",
   "execution_count": 145,
   "outputs": [],
   "source": [
    "candidates = pd.merge(candidates, pop_candidates,\n",
    "                      on=['user_id', 'item_id'],\n",
    "                      how='outer')"
   ],
   "metadata": {
    "collapsed": false,
    "ExecuteTime": {
     "end_time": "2024-03-03T21:30:31.923763Z",
     "start_time": "2024-03-03T21:24:51.144626Z"
    }
   }
  },
  {
   "cell_type": "code",
   "execution_count": 146,
   "outputs": [
    {
     "data": {
      "text/plain": "   user_id  item_id   lfm_score  lfm_rank  pop_score  pop_rank\n0   176549   9728.0 -400.707123       1.0    76978.0       4.0\n1   176549  11310.0 -400.916046       2.0     7990.0      44.0\n2   176549    849.0 -400.941833       3.0    13304.0      27.0\n3   176549  13018.0 -400.945129       4.0    11850.0      28.0\n4   176549  16361.0 -401.025757       5.0     7401.0      52.0",
      "text/html": "<div>\n<style scoped>\n    .dataframe tbody tr th:only-of-type {\n        vertical-align: middle;\n    }\n\n    .dataframe tbody tr th {\n        vertical-align: top;\n    }\n\n    .dataframe thead th {\n        text-align: right;\n    }\n</style>\n<table border=\"1\" class=\"dataframe\">\n  <thead>\n    <tr style=\"text-align: right;\">\n      <th></th>\n      <th>user_id</th>\n      <th>item_id</th>\n      <th>lfm_score</th>\n      <th>lfm_rank</th>\n      <th>pop_score</th>\n      <th>pop_rank</th>\n    </tr>\n  </thead>\n  <tbody>\n    <tr>\n      <th>0</th>\n      <td>176549</td>\n      <td>9728.0</td>\n      <td>-400.707123</td>\n      <td>1.0</td>\n      <td>76978.0</td>\n      <td>4.0</td>\n    </tr>\n    <tr>\n      <th>1</th>\n      <td>176549</td>\n      <td>11310.0</td>\n      <td>-400.916046</td>\n      <td>2.0</td>\n      <td>7990.0</td>\n      <td>44.0</td>\n    </tr>\n    <tr>\n      <th>2</th>\n      <td>176549</td>\n      <td>849.0</td>\n      <td>-400.941833</td>\n      <td>3.0</td>\n      <td>13304.0</td>\n      <td>27.0</td>\n    </tr>\n    <tr>\n      <th>3</th>\n      <td>176549</td>\n      <td>13018.0</td>\n      <td>-400.945129</td>\n      <td>4.0</td>\n      <td>11850.0</td>\n      <td>28.0</td>\n    </tr>\n    <tr>\n      <th>4</th>\n      <td>176549</td>\n      <td>16361.0</td>\n      <td>-401.025757</td>\n      <td>5.0</td>\n      <td>7401.0</td>\n      <td>52.0</td>\n    </tr>\n  </tbody>\n</table>\n</div>"
     },
     "execution_count": 146,
     "metadata": {},
     "output_type": "execute_result"
    }
   ],
   "source": [
    "candidates.head()"
   ],
   "metadata": {
    "collapsed": false,
    "ExecuteTime": {
     "end_time": "2024-03-03T21:30:32.003570Z",
     "start_time": "2024-03-03T21:30:31.984976Z"
    }
   }
  },
  {
   "cell_type": "code",
   "execution_count": 147,
   "outputs": [],
   "source": [
    "def normalize_column(column):\n",
    "    max_value = column.max()\n",
    "    min_value = column.min()\n",
    "    normalized_column = (column - min_value) / (max_value - min_value)\n",
    "    return normalized_column"
   ],
   "metadata": {
    "collapsed": false,
    "ExecuteTime": {
     "end_time": "2024-03-03T21:30:32.158823Z",
     "start_time": "2024-03-03T21:30:32.000879Z"
    }
   }
  },
  {
   "cell_type": "code",
   "execution_count": 148,
   "outputs": [],
   "source": [
    "normalize_columns = ['lfm_score', 'lfm_rank', 'pop_score', 'pop_rank']\n",
    "for column in normalize_columns:\n",
    "    candidates[column] = normalize_column(candidates[column])"
   ],
   "metadata": {
    "collapsed": false,
    "ExecuteTime": {
     "end_time": "2024-03-03T21:36:19.905505Z",
     "start_time": "2024-03-03T21:30:43.177519Z"
    }
   }
  },
  {
   "cell_type": "code",
   "execution_count": 149,
   "outputs": [
    {
     "data": {
      "text/plain": "   user_id  item_id lfm_score  lfm_rank  pop_score  pop_rank\n0   176549   9728.0  0.085822  0.000000   0.528212  0.030303\n1   176549  11310.0  0.085381  0.010101   0.026791  0.434343\n2   176549    849.0  0.085327  0.020202   0.065414  0.262626",
      "text/html": "<div>\n<style scoped>\n    .dataframe tbody tr th:only-of-type {\n        vertical-align: middle;\n    }\n\n    .dataframe tbody tr th {\n        vertical-align: top;\n    }\n\n    .dataframe thead th {\n        text-align: right;\n    }\n</style>\n<table border=\"1\" class=\"dataframe\">\n  <thead>\n    <tr style=\"text-align: right;\">\n      <th></th>\n      <th>user_id</th>\n      <th>item_id</th>\n      <th>lfm_score</th>\n      <th>lfm_rank</th>\n      <th>pop_score</th>\n      <th>pop_rank</th>\n    </tr>\n  </thead>\n  <tbody>\n    <tr>\n      <th>0</th>\n      <td>176549</td>\n      <td>9728.0</td>\n      <td>0.085822</td>\n      <td>0.000000</td>\n      <td>0.528212</td>\n      <td>0.030303</td>\n    </tr>\n    <tr>\n      <th>1</th>\n      <td>176549</td>\n      <td>11310.0</td>\n      <td>0.085381</td>\n      <td>0.010101</td>\n      <td>0.026791</td>\n      <td>0.434343</td>\n    </tr>\n    <tr>\n      <th>2</th>\n      <td>176549</td>\n      <td>849.0</td>\n      <td>0.085327</td>\n      <td>0.020202</td>\n      <td>0.065414</td>\n      <td>0.262626</td>\n    </tr>\n  </tbody>\n</table>\n</div>"
     },
     "execution_count": 149,
     "metadata": {},
     "output_type": "execute_result"
    }
   ],
   "source": [
    "candidates.head(3)"
   ],
   "metadata": {
    "collapsed": false,
    "ExecuteTime": {
     "end_time": "2024-03-03T21:36:20.022207Z",
     "start_time": "2024-03-03T21:36:19.919806Z"
    }
   }
  },
  {
   "cell_type": "code",
   "execution_count": null,
   "outputs": [],
   "source": [
    "candidates.isnull().mean()"
   ],
   "metadata": {
    "collapsed": false
   }
  },
  {
   "cell_type": "code",
   "execution_count": 151,
   "outputs": [],
   "source": [
    "values_fill_nan = {\n",
    "    'lfm_score': candidates['lfm_score'].min() - 1e-5,\n",
    "    'lfm_rank': candidates['lfm_rank'].max() + 1e-5,\n",
    "    'pop_score': candidates['pop_score'].min() - 1e-5,\n",
    "    'pop_rank': candidates['pop_rank'].max() + 1e-5,\n",
    "}\n",
    "\n",
    "candidates = candidates.fillna(values_fill_nan )"
   ],
   "metadata": {
    "collapsed": false,
    "ExecuteTime": {
     "end_time": "2024-03-03T21:40:58.368899Z",
     "start_time": "2024-03-03T21:37:56.823660Z"
    }
   }
  },
  {
   "cell_type": "code",
   "execution_count": null,
   "outputs": [],
   "source": [
    "candidates.isnull().mean()"
   ],
   "metadata": {
    "collapsed": false
   }
  },
  {
   "cell_type": "code",
   "execution_count": 153,
   "outputs": [],
   "source": [
    "candidates.to_csv('/Users/tanchik/Desktop/Настоящее/учеба/RecSys/RecoServiceTemplate/kion_train/candidates.csv', index=False)"
   ],
   "metadata": {
    "collapsed": false,
    "ExecuteTime": {
     "end_time": "2024-03-03T21:52:22.282054Z",
     "start_time": "2024-03-03T21:41:42.736955Z"
    }
   }
  },
  {
   "cell_type": "code",
   "execution_count": 154,
   "outputs": [],
   "source": [
    "candidates = pd.read_csv('/Users/tanchik/Desktop/Настоящее/учеба/RecSys/RecoServiceTemplate/kion_train/candidates.csv')"
   ],
   "metadata": {
    "collapsed": false,
    "ExecuteTime": {
     "end_time": "2024-03-03T21:53:49.077432Z",
     "start_time": "2024-03-03T21:52:20.330703Z"
    }
   }
  },
  {
   "cell_type": "code",
   "execution_count": 155,
   "outputs": [
    {
     "data": {
      "text/plain": "   user_id  item_id  lfm_score  lfm_rank  pop_score  pop_rank\n0   176549   9728.0   0.085822  0.000000   0.528212  0.030303\n1   176549  11310.0   0.085381  0.010101   0.026791  0.434343",
      "text/html": "<div>\n<style scoped>\n    .dataframe tbody tr th:only-of-type {\n        vertical-align: middle;\n    }\n\n    .dataframe tbody tr th {\n        vertical-align: top;\n    }\n\n    .dataframe thead th {\n        text-align: right;\n    }\n</style>\n<table border=\"1\" class=\"dataframe\">\n  <thead>\n    <tr style=\"text-align: right;\">\n      <th></th>\n      <th>user_id</th>\n      <th>item_id</th>\n      <th>lfm_score</th>\n      <th>lfm_rank</th>\n      <th>pop_score</th>\n      <th>pop_rank</th>\n    </tr>\n  </thead>\n  <tbody>\n    <tr>\n      <th>0</th>\n      <td>176549</td>\n      <td>9728.0</td>\n      <td>0.085822</td>\n      <td>0.000000</td>\n      <td>0.528212</td>\n      <td>0.030303</td>\n    </tr>\n    <tr>\n      <th>1</th>\n      <td>176549</td>\n      <td>11310.0</td>\n      <td>0.085381</td>\n      <td>0.010101</td>\n      <td>0.026791</td>\n      <td>0.434343</td>\n    </tr>\n  </tbody>\n</table>\n</div>"
     },
     "execution_count": 155,
     "metadata": {},
     "output_type": "execute_result"
    }
   ],
   "source": [
    "candidates.head(2)"
   ],
   "metadata": {
    "collapsed": false,
    "ExecuteTime": {
     "end_time": "2024-03-03T21:53:49.488093Z",
     "start_time": "2024-03-03T21:53:49.027304Z"
    }
   }
  },
  {
   "cell_type": "markdown",
   "source": [
    "### Метрики для моделей первого уровня"
   ],
   "metadata": {
    "collapsed": false
   }
  },
  {
   "cell_type": "code",
   "execution_count": 156,
   "outputs": [],
   "source": [
    "lfm = pd.read_csv('/Users/tanchik/Desktop/Настоящее/учеба/RecSys/RecoServiceTemplate/kion_train/lfm.csv')\n",
    "pop = pd.read_csv('/Users/tanchik/Desktop/Настоящее/учеба/RecSys/RecoServiceTemplate/kion_train/pop.csv')"
   ],
   "metadata": {
    "collapsed": false,
    "ExecuteTime": {
     "end_time": "2024-03-03T21:54:42.778048Z",
     "start_time": "2024-03-03T21:53:49.089154Z"
    }
   }
  },
  {
   "cell_type": "code",
   "execution_count": 157,
   "outputs": [
    {
     "data": {
      "text/plain": "{'Precision@10': 0.022376559790032693,\n 'recall@10': 0.07446109567159644,\n 'ndcg@10': 0.026532352781983133,\n 'map@10': 0.03348267891059996,\n 'novelty@10': 3.594834322035065}"
     },
     "execution_count": 157,
     "metadata": {},
     "output_type": "execute_result"
    }
   ],
   "source": [
    "models_metrics: Dict[str, Dict[str, float]] = dict()\n",
    "models_metrics['lfm'] = calc_metrics_(lfm, 'lfm_rank')\n",
    "models_metrics['lfm']"
   ],
   "metadata": {
    "collapsed": false,
    "ExecuteTime": {
     "end_time": "2024-03-03T21:54:50.334206Z",
     "start_time": "2024-03-03T21:54:41.129216Z"
    }
   }
  },
  {
   "cell_type": "code",
   "execution_count": 158,
   "outputs": [
    {
     "data": {
      "text/plain": "{'Precision@10': 0.02376406305158627,\n 'recall@10': 0.08024655639757222,\n 'ndcg@10': 0.027791460074538817,\n 'map@10': 0.034996094471142325,\n 'novelty@10': 2.8580652138942435}"
     },
     "execution_count": 158,
     "metadata": {},
     "output_type": "execute_result"
    }
   ],
   "source": [
    "models_metrics: Dict[str, Dict[str, float]] = dict()\n",
    "models_metrics['pop'] = calc_metrics_(pop, 'pop_rank')\n",
    "models_metrics['pop']"
   ],
   "metadata": {
    "collapsed": false,
    "ExecuteTime": {
     "end_time": "2024-03-03T21:54:57.481025Z",
     "start_time": "2024-03-03T21:54:50.328407Z"
    }
   }
  },
  {
   "cell_type": "markdown",
   "source": [
    "### Формирование датасета для ранкера"
   ],
   "metadata": {
    "collapsed": false
   }
  },
  {
   "cell_type": "markdown",
   "source": [
    "### Генерация фичей"
   ],
   "metadata": {
    "collapsed": false
   }
  },
  {
   "cell_type": "code",
   "execution_count": null,
   "outputs": [],
   "source": [
    "# Получаем длину истории юзера\n",
    "base_models_data['user_hist'] = (\n",
    "    base_models_data.groupby('user_id')\n",
    "    ['item_id'].transform('count')\n",
    ")\n",
    "# Получаем популярность контента\n",
    "base_models_data['item_pop'] = (\n",
    "    base_models_data.groupby('item_id')\n",
    "    ['user_id'].transform('count')\n",
    ")\n",
    "# Получаем среднюю популярность контента, просматриваемого этим юзером\n",
    "base_models_data['user_avg_pop'] = (\n",
    "    base_models_data.groupby('user_id')\n",
    "    ['item_pop'].transform('mean')\n",
    ")\n",
    "# Получаем среднюю длину истории пользователя, которые смотрит этот контент\n",
    "base_models_data['item_avg_hist'] = (\n",
    "    base_models_data.groupby('item_id')\n",
    "    ['user_hist'].transform('mean')\n",
    ")\n",
    "# Получаем популярность последнего просмотренного контента\n",
    "base_models_data.sort_values(\n",
    "    by=[Columns.User, Columns.Datetime],\n",
    "    ascending=[True, False],\n",
    "    ignore_index=True,\n",
    "    inplace=True,\n",
    ")\n",
    "base_models_data['user_last_pop'] = (\n",
    "    base_models_data.groupby('user_id')\n",
    "    ['item_pop'].transform('first')\n",
    ")\n",
    "base_models_data.head(3)\n"
   ],
   "metadata": {
    "collapsed": false
   }
  },
  {
   "cell_type": "code",
   "execution_count": null,
   "outputs": [],
   "source": [
    "# Добавляем новые фичи в соответствующие таблички\n",
    "items = pd.merge(\n",
    "    left=items,\n",
    "    right=(\n",
    "        base_models_data\n",
    "        [['item_id', 'item_pop', 'item_avg_hist']]\n",
    "        .drop_duplicates()\n",
    "    ),\n",
    "    how='left',\n",
    "    on='item_id',\n",
    ")\n",
    "\n",
    "users = pd.merge(\n",
    "    left=users,\n",
    "    right=(\n",
    "        base_models_data\n",
    "        [['user_id', 'user_hist', 'user_avg_pop', 'user_last_pop']]\n",
    "        .drop_duplicates()\n",
    "    ),\n",
    "    how='left',\n",
    "    on='user_id',\n",
    ")\n",
    "users.head(3)"
   ],
   "metadata": {
    "collapsed": false
   }
  },
  {
   "cell_type": "code",
   "execution_count": null,
   "outputs": [],
   "source": [
    "items.head(3)"
   ],
   "metadata": {
    "collapsed": false
   }
  },
  {
   "cell_type": "code",
   "execution_count": 163,
   "outputs": [],
   "source": [
    "default_values_items['item_pop'] = base_models_data['item_pop'].median()\n",
    "default_values_items['item_avg_hist'] = base_models_data['item_avg_hist'].median()\n",
    "\n",
    "default_values_users = {\n",
    "    'user_hist': 0,\n",
    "    'user_avg_pop': base_models_data['user_avg_pop'].median(),\n",
    "    'user_last_pop': base_models_data['user_last_pop'].median(),\n",
    "}"
   ],
   "metadata": {
    "collapsed": false,
    "ExecuteTime": {
     "end_time": "2024-03-03T21:55:52.128676Z",
     "start_time": "2024-03-03T21:55:51.840519Z"
    }
   }
  },
  {
   "cell_type": "markdown",
   "source": [
    "### Джойним кандидатов"
   ],
   "metadata": {
    "collapsed": false
   }
  },
  {
   "cell_type": "code",
   "execution_count": null,
   "outputs": [],
   "source": [
    "candidates"
   ],
   "metadata": {
    "collapsed": false
   }
  },
  {
   "cell_type": "code",
   "execution_count": null,
   "outputs": [],
   "source": [
    "def users_filter(\n",
    "    user_list: np.ndarray,\n",
    "    candidates_df: pd.DataFrame,\n",
    "    df: pd.DataFrame,\n",
    ") -> pd.DataFrame:\n",
    "    df = pd.merge(\n",
    "        df[df['user_id'].isin(user_list)],\n",
    "        candidates_df[candidates_df['user_id'].isin(user_list)],\n",
    "        how='right',\n",
    "        on=['user_id', 'item_id']\n",
    "    )\n",
    "    min_score: float =  df['lfm_score'].min() - 1e-5\n",
    "    max_rank: int = df['lfm_rank'].max() + 1e-5\n",
    "\n",
    "    default_values = {\n",
    "        'lfm_score': min_score, 'lfm_rank': max_rank,\n",
    "        **interactions_default_values,\n",
    "    }\n",
    "    df.fillna(default_values, inplace=True)\n",
    "\n",
    "    df.sort_values(\n",
    "        by=['user_id', 'item_id'],\n",
    "        inplace=True,\n",
    "    )\n",
    "    return df\n",
    "\n",
    "ranker_train = users_filter(train_users, candidates, ranker_data)\n",
    "ranker_val = users_filter(val_users, candidates, ranker_data)\n",
    "ranker_test = users_filter(test_users, candidates, ranker_data)\n",
    "\n",
    "ranker_train.head(3)"
   ],
   "metadata": {
    "collapsed": false
   }
  },
  {
   "cell_type": "code",
   "execution_count": 165,
   "outputs": [],
   "source": [
    "default_values_items['age_rating'] = items['age_rating'].mode().iloc[0]"
   ],
   "metadata": {
    "collapsed": false,
    "ExecuteTime": {
     "end_time": "2024-03-03T21:57:06.051274Z",
     "start_time": "2024-03-03T21:57:05.980649Z"
    }
   }
  },
  {
   "cell_type": "code",
   "execution_count": null,
   "outputs": [],
   "source": [
    "def add_features(df: pd.DataFrame) -> pd.DataFrame:\n",
    "    df = pd.merge(\n",
    "        df,\n",
    "        users,\n",
    "        how='left',\n",
    "        on=['user_id']\n",
    "    )\n",
    "    df = pd.merge(\n",
    "        df,\n",
    "        items,\n",
    "        how='left',\n",
    "        on=['item_id']\n",
    "    )\n",
    "    df.fillna(default_values_items, inplace=True)\n",
    "    df.fillna(default_values_users, inplace=True)\n",
    "\n",
    "    for col in df.columns:\n",
    "        if pd.api.types.is_categorical_dtype(df[col]):\n",
    "            if -1 not in df[col].cat.categories:\n",
    "                df[col].cat.add_categories(-1, inplace=True)\n",
    "            df[col].fillna(-1, inplace=True)\n",
    "\n",
    "    return df\n",
    "\n",
    "ranker_train = add_features(ranker_train)\n",
    "ranker_val = add_features(ranker_val)\n",
    "ranker_test = add_features(ranker_test)\n",
    "\n",
    "ranker_train.head(3)"
   ],
   "metadata": {
    "collapsed": false
   }
  },
  {
   "cell_type": "markdown",
   "source": [
    "### Обучаем ранкер"
   ],
   "metadata": {
    "collapsed": false
   }
  },
  {
   "cell_type": "code",
   "execution_count": 167,
   "outputs": [],
   "source": [
    "def filter_group(df: pd.DataFrame) -> pd.DataFrame:\n",
    "    df.sort_values(\n",
    "        by=['user_id', 'item_id'],\n",
    "        inplace=True,\n",
    "    )\n",
    "    groups_df = (\n",
    "        df[['user_id', 'item_id']]\n",
    "        .groupby(by=['user_id']).count()\n",
    "        .rename(columns={'item_id': 'group_size'})\n",
    "    )\n",
    "    df = pd.merge(\n",
    "        df,\n",
    "        groups_df,\n",
    "        how='left',\n",
    "        on=['user_id']\n",
    "    )\n",
    "    df = df[df['group_size'] >= 100]\n",
    "\n",
    "    df.drop(columns=['group_size'], inplace=True)\n",
    "    return df\n",
    "\n",
    "ranker_train_copy = filter_group(ranker_train)\n",
    "ranker_val_copy = filter_group(ranker_val)\n",
    "ranker_test_copy = filter_group(ranker_test)"
   ],
   "metadata": {
    "collapsed": false,
    "ExecuteTime": {
     "end_time": "2024-03-03T21:58:30.378543Z",
     "start_time": "2024-03-03T21:57:47.177657Z"
    }
   }
  },
  {
   "cell_type": "code",
   "execution_count": 168,
   "outputs": [],
   "source": [
    "cols = [\n",
    "    'lfm_score', 'lfm_rank',\n",
    "    'pop_score', 'pop_rank',\n",
    "    'age', 'income', 'sex', 'kids_flg', 'user_hist', 'user_avg_pop', 'user_last_pop',\n",
    "    'content_type', 'release_year', 'countries', 'age_rating', 'directors_cat', 'item_pop', 'item_avg_hist',\n",
    "]\n",
    "\n",
    "cat_cols = [\n",
    "    'age', 'income', 'sex', 'kids_flg',\n",
    "    'content_type', 'countries', 'age_rating', 'directors_cat'\n",
    "]"
   ],
   "metadata": {
    "collapsed": false,
    "ExecuteTime": {
     "end_time": "2024-03-03T21:58:30.381404Z",
     "start_time": "2024-03-03T21:58:30.329862Z"
    }
   }
  },
  {
   "cell_type": "code",
   "execution_count": null,
   "outputs": [],
   "source": [
    "def add_target(df: pd.DataFrame) -> pd.DataFrame:\n",
    "    \"\"\"\n",
    "    0 - доля досмотра < 0.15\n",
    "    1 - 0.15 <= доля досмотра < 0.75\n",
    "    2 - 0.75 <= доля досмотра\n",
    "    \"\"\"\n",
    "    df['target_ranker'] = (df[Columns.Weight] >= 15).astype(int)\n",
    "    df['target_ranker'] += (df[Columns.Weight] >= 75).astype(int)\n",
    "    return df\n",
    "\n",
    "ranker_train = add_target(ranker_train)\n",
    "ranker_val = add_target(ranker_val)\n",
    "ranker_test = add_target(ranker_test)\n",
    "\n",
    "ranker_train.head(3)"
   ],
   "metadata": {
    "collapsed": false
   }
  },
  {
   "cell_type": "code",
   "execution_count": 170,
   "outputs": [],
   "source": [
    "def add_score_and_rank(df: pd.DataFrame, y_pred_scores: np.ndarray, name: str) -> pd.DataFrame:\n",
    "    df[f'{name}_score'] = y_pred_scores\n",
    "    df.sort_values(\n",
    "        by=['user_id', f'{name}_score'],\n",
    "        ascending=[True, False],\n",
    "        inplace=True,\n",
    "    )\n",
    "    df[f'{name}_rank'] = df.groupby('user_id').cumcount() + 1\n",
    "\n",
    "    mask = (df['lfm_rank'] < 101).to_numpy()\n",
    "    eps: float = 0.001\n",
    "    min_score: float = min(y_pred_scores) - eps\n",
    "    df[f'{name}_hybrid_score'] = df[f'{name}_score'] * mask\n",
    "    df[f'{name}_hybrid_score'].replace(\n",
    "        0,\n",
    "        min_score,\n",
    "        inplace=True,\n",
    "    )\n",
    "    df[f'{name}_hybrid_rank'] = df[f'{name}_rank'] * mask\n",
    "    max_rank: int = 101\n",
    "    df[f'{name}_hybrid_rank'].replace(\n",
    "        0,\n",
    "        max_rank,\n",
    "        inplace=True,\n",
    "    )\n",
    "    return df"
   ],
   "metadata": {
    "collapsed": false,
    "ExecuteTime": {
     "end_time": "2024-03-03T21:58:31.074114Z",
     "start_time": "2024-03-03T21:58:31.032861Z"
    }
   }
  },
  {
   "cell_type": "code",
   "execution_count": 171,
   "outputs": [],
   "source": [
    "columns_for_norm = ['user_avg_pop', 'user_last_pop', 'countries', 'age_rating', 'item_pop', 'item_avg_hist']\n",
    "for column in columns_for_norm:\n",
    "    if pd.api.types.is_categorical_dtype(ranker_train[column]):\n",
    "        ranker_train[column] = ranker_train[column].cat.codes\n",
    "    if pd.api.types.is_categorical_dtype(ranker_val[column]):\n",
    "        ranker_val[column] = ranker_val[column].cat.codes\n",
    "    if pd.api.types.is_categorical_dtype(ranker_test[column]):\n",
    "        ranker_test[column] = ranker_test[column].cat.codes\n",
    "    ranker_train[column] = normalize_column(ranker_train[column])\n",
    "    ranker_val[column] = normalize_column(ranker_val[column])\n",
    "    ranker_test[column] = normalize_column(ranker_test[column])"
   ],
   "metadata": {
    "collapsed": false,
    "ExecuteTime": {
     "end_time": "2024-03-03T21:58:50.050839Z",
     "start_time": "2024-03-03T21:58:31.076056Z"
    }
   }
  },
  {
   "cell_type": "markdown",
   "source": [
    "### XGBRanker"
   ],
   "metadata": {
    "collapsed": false
   }
  },
  {
   "cell_type": "code",
   "execution_count": 53,
   "outputs": [],
   "source": [
    "def get_group_xgb(df):\n",
    "    return np.array(df['user_id'].value_counts())"
   ],
   "metadata": {
    "collapsed": false,
    "ExecuteTime": {
     "end_time": "2024-02-18T13:05:22.963581Z",
     "start_time": "2024-02-18T13:05:02.053049Z"
    }
   }
  },
  {
   "cell_type": "code",
   "execution_count": 62,
   "outputs": [],
   "source": [
    "params = {\n",
    "    'learning_rate': 0.25,\n",
    "    'max_depth': 4,\n",
    "    'min_child_samples': 100,\n",
    "    'n_estimators': 100,\n",
    "    'num_leaves': 10,\n",
    "    'objective': 'rank:ndcg',\n",
    "    'random_state': 42,\n",
    "    'reg_lambda': 1,\n",
    "    'colsample_bytree': 0.9,\n",
    "    'enable_categorical': True\n",
    "}\n",
    "\n",
    "fit_params = {\n",
    "    'verbose': 4,\n",
    "    'eval_metric': 'ndcg',\n",
    "    'group': get_group_xgb(ranker_train),\n",
    "    'X': ranker_train[cols],\n",
    "    'y': ranker_train['target_ranker'],\n",
    "    'eval_set': [(ranker_val[cols], ranker_val['target_ranker'])],\n",
    "    'eval_group': [get_group_xgb(ranker_val)],\n",
    "}\n",
    "XGBRanker_model = XGBRanker(**params)"
   ],
   "metadata": {
    "collapsed": false,
    "ExecuteTime": {
     "end_time": "2024-02-18T13:13:24.189075Z",
     "start_time": "2024-02-18T13:13:20.095072Z"
    }
   }
  },
  {
   "cell_type": "code",
   "execution_count": 63,
   "outputs": [
    {
     "name": "stdout",
     "output_type": "stream",
     "text": [
      "[0]\tvalidation_0-ndcg:0.64075\n",
      "[4]\tvalidation_0-ndcg:0.65002\n",
      "[8]\tvalidation_0-ndcg:0.65124\n",
      "[12]\tvalidation_0-ndcg:0.65284\n",
      "[16]\tvalidation_0-ndcg:0.65429\n",
      "[20]\tvalidation_0-ndcg:0.65476\n",
      "[24]\tvalidation_0-ndcg:0.65619\n",
      "[28]\tvalidation_0-ndcg:0.65618\n",
      "[32]\tvalidation_0-ndcg:0.65709\n",
      "[36]\tvalidation_0-ndcg:0.65838\n",
      "[40]\tvalidation_0-ndcg:0.65825\n",
      "[44]\tvalidation_0-ndcg:0.65879\n",
      "[48]\tvalidation_0-ndcg:0.65929\n",
      "[52]\tvalidation_0-ndcg:0.65977\n",
      "[56]\tvalidation_0-ndcg:0.66048\n",
      "[60]\tvalidation_0-ndcg:0.66085\n",
      "[64]\tvalidation_0-ndcg:0.66124\n",
      "[68]\tvalidation_0-ndcg:0.66167\n",
      "[72]\tvalidation_0-ndcg:0.66173\n",
      "[76]\tvalidation_0-ndcg:0.66200\n",
      "[80]\tvalidation_0-ndcg:0.66239\n",
      "[84]\tvalidation_0-ndcg:0.66262\n",
      "[88]\tvalidation_0-ndcg:0.66298\n",
      "[92]\tvalidation_0-ndcg:0.66314\n",
      "[96]\tvalidation_0-ndcg:0.66342\n",
      "[99]\tvalidation_0-ndcg:0.66357\n",
      "CPU times: user 35min 45s, sys: 2min 52s, total: 38min 38s\n",
      "Wall time: 4min 3s\n"
     ]
    },
    {
     "data": {
      "text/plain": "XGBRanker(base_score=None, booster=None, callbacks=None, colsample_bylevel=None,\n          colsample_bynode=None, colsample_bytree=0.9, device=None,\n          early_stopping_rounds=None, enable_categorical=True, eval_metric=None,\n          feature_types=None, gamma=None, grow_policy=None,\n          importance_type=None, interaction_constraints=None,\n          learning_rate=0.25, max_bin=None, max_cat_threshold=None,\n          max_cat_to_onehot=None, max_delta_step=None, max_depth=4,\n          max_leaves=None, min_child_samples=100, min_child_weight=None,\n          missing=nan, monotone_constraints=None, multi_strategy=None,\n          n_estimators=100, n_jobs=None, num_leaves=10, ...)",
      "text/html": "<style>#sk-container-id-2 {color: black;}#sk-container-id-2 pre{padding: 0;}#sk-container-id-2 div.sk-toggleable {background-color: white;}#sk-container-id-2 label.sk-toggleable__label {cursor: pointer;display: block;width: 100%;margin-bottom: 0;padding: 0.3em;box-sizing: border-box;text-align: center;}#sk-container-id-2 label.sk-toggleable__label-arrow:before {content: \"▸\";float: left;margin-right: 0.25em;color: #696969;}#sk-container-id-2 label.sk-toggleable__label-arrow:hover:before {color: black;}#sk-container-id-2 div.sk-estimator:hover label.sk-toggleable__label-arrow:before {color: black;}#sk-container-id-2 div.sk-toggleable__content {max-height: 0;max-width: 0;overflow: hidden;text-align: left;background-color: #f0f8ff;}#sk-container-id-2 div.sk-toggleable__content pre {margin: 0.2em;color: black;border-radius: 0.25em;background-color: #f0f8ff;}#sk-container-id-2 input.sk-toggleable__control:checked~div.sk-toggleable__content {max-height: 200px;max-width: 100%;overflow: auto;}#sk-container-id-2 input.sk-toggleable__control:checked~label.sk-toggleable__label-arrow:before {content: \"▾\";}#sk-container-id-2 div.sk-estimator input.sk-toggleable__control:checked~label.sk-toggleable__label {background-color: #d4ebff;}#sk-container-id-2 div.sk-label input.sk-toggleable__control:checked~label.sk-toggleable__label {background-color: #d4ebff;}#sk-container-id-2 input.sk-hidden--visually {border: 0;clip: rect(1px 1px 1px 1px);clip: rect(1px, 1px, 1px, 1px);height: 1px;margin: -1px;overflow: hidden;padding: 0;position: absolute;width: 1px;}#sk-container-id-2 div.sk-estimator {font-family: monospace;background-color: #f0f8ff;border: 1px dotted black;border-radius: 0.25em;box-sizing: border-box;margin-bottom: 0.5em;}#sk-container-id-2 div.sk-estimator:hover {background-color: #d4ebff;}#sk-container-id-2 div.sk-parallel-item::after {content: \"\";width: 100%;border-bottom: 1px solid gray;flex-grow: 1;}#sk-container-id-2 div.sk-label:hover label.sk-toggleable__label {background-color: #d4ebff;}#sk-container-id-2 div.sk-serial::before {content: \"\";position: absolute;border-left: 1px solid gray;box-sizing: border-box;top: 0;bottom: 0;left: 50%;z-index: 0;}#sk-container-id-2 div.sk-serial {display: flex;flex-direction: column;align-items: center;background-color: white;padding-right: 0.2em;padding-left: 0.2em;position: relative;}#sk-container-id-2 div.sk-item {position: relative;z-index: 1;}#sk-container-id-2 div.sk-parallel {display: flex;align-items: stretch;justify-content: center;background-color: white;position: relative;}#sk-container-id-2 div.sk-item::before, #sk-container-id-2 div.sk-parallel-item::before {content: \"\";position: absolute;border-left: 1px solid gray;box-sizing: border-box;top: 0;bottom: 0;left: 50%;z-index: -1;}#sk-container-id-2 div.sk-parallel-item {display: flex;flex-direction: column;z-index: 1;position: relative;background-color: white;}#sk-container-id-2 div.sk-parallel-item:first-child::after {align-self: flex-end;width: 50%;}#sk-container-id-2 div.sk-parallel-item:last-child::after {align-self: flex-start;width: 50%;}#sk-container-id-2 div.sk-parallel-item:only-child::after {width: 0;}#sk-container-id-2 div.sk-dashed-wrapped {border: 1px dashed gray;margin: 0 0.4em 0.5em 0.4em;box-sizing: border-box;padding-bottom: 0.4em;background-color: white;}#sk-container-id-2 div.sk-label label {font-family: monospace;font-weight: bold;display: inline-block;line-height: 1.2em;}#sk-container-id-2 div.sk-label-container {text-align: center;}#sk-container-id-2 div.sk-container {/* jupyter's `normalize.less` sets `[hidden] { display: none; }` but bootstrap.min.css set `[hidden] { display: none !important; }` so we also need the `!important` here to be able to override the default hidden behavior on the sphinx rendered scikit-learn.org. See: https://github.com/scikit-learn/scikit-learn/issues/21755 */display: inline-block !important;position: relative;}#sk-container-id-2 div.sk-text-repr-fallback {display: none;}</style><div id=\"sk-container-id-2\" class=\"sk-top-container\"><div class=\"sk-text-repr-fallback\"><pre>XGBRanker(base_score=None, booster=None, callbacks=None, colsample_bylevel=None,\n          colsample_bynode=None, colsample_bytree=0.9, device=None,\n          early_stopping_rounds=None, enable_categorical=True, eval_metric=None,\n          feature_types=None, gamma=None, grow_policy=None,\n          importance_type=None, interaction_constraints=None,\n          learning_rate=0.25, max_bin=None, max_cat_threshold=None,\n          max_cat_to_onehot=None, max_delta_step=None, max_depth=4,\n          max_leaves=None, min_child_samples=100, min_child_weight=None,\n          missing=nan, monotone_constraints=None, multi_strategy=None,\n          n_estimators=100, n_jobs=None, num_leaves=10, ...)</pre><b>In a Jupyter environment, please rerun this cell to show the HTML representation or trust the notebook. <br />On GitHub, the HTML representation is unable to render, please try loading this page with nbviewer.org.</b></div><div class=\"sk-container\" hidden><div class=\"sk-item\"><div class=\"sk-estimator sk-toggleable\"><input class=\"sk-toggleable__control sk-hidden--visually\" id=\"sk-estimator-id-2\" type=\"checkbox\" checked><label for=\"sk-estimator-id-2\" class=\"sk-toggleable__label sk-toggleable__label-arrow\">XGBRanker</label><div class=\"sk-toggleable__content\"><pre>XGBRanker(base_score=None, booster=None, callbacks=None, colsample_bylevel=None,\n          colsample_bynode=None, colsample_bytree=0.9, device=None,\n          early_stopping_rounds=None, enable_categorical=True, eval_metric=None,\n          feature_types=None, gamma=None, grow_policy=None,\n          importance_type=None, interaction_constraints=None,\n          learning_rate=0.25, max_bin=None, max_cat_threshold=None,\n          max_cat_to_onehot=None, max_delta_step=None, max_depth=4,\n          max_leaves=None, min_child_samples=100, min_child_weight=None,\n          missing=nan, monotone_constraints=None, multi_strategy=None,\n          n_estimators=100, n_jobs=None, num_leaves=10, ...)</pre></div></div></div></div></div>"
     },
     "execution_count": 63,
     "metadata": {},
     "output_type": "execute_result"
    }
   ],
   "source": [
    "%%time\n",
    "XGBRanker_model.fit(**fit_params)"
   ],
   "metadata": {
    "collapsed": false,
    "ExecuteTime": {
     "end_time": "2024-02-18T13:17:57.962459Z",
     "start_time": "2024-02-18T13:13:54.900919Z"
    }
   }
  },
  {
   "cell_type": "code",
   "execution_count": 64,
   "outputs": [],
   "source": [
    "y_pred = XGBRanker_model.predict(ranker_test[cols])"
   ],
   "metadata": {
    "collapsed": false,
    "ExecuteTime": {
     "end_time": "2024-02-18T13:18:03.597939Z",
     "start_time": "2024-02-18T13:18:00.387163Z"
    }
   }
  },
  {
   "cell_type": "code",
   "execution_count": null,
   "outputs": [],
   "source": [
    "ranker_test = add_score_and_rank(ranker_test, y_pred, 'XGBRanker')\n",
    "ranker_test.head(3)"
   ],
   "metadata": {
    "collapsed": false
   }
  },
  {
   "cell_type": "code",
   "execution_count": 69,
   "outputs": [
    {
     "data": {
      "text/plain": "              XGBRanker\nPrecision@10   0.027652\nrecall@10      0.094043\nndcg@10        0.033191\nmap@10         0.043666\nnovelty@10     3.438390",
      "text/html": "<div>\n<style scoped>\n    .dataframe tbody tr th:only-of-type {\n        vertical-align: middle;\n    }\n\n    .dataframe tbody tr th {\n        vertical-align: top;\n    }\n\n    .dataframe thead th {\n        text-align: right;\n    }\n</style>\n<table border=\"1\" class=\"dataframe\">\n  <thead>\n    <tr style=\"text-align: right;\">\n      <th></th>\n      <th>XGBRanker</th>\n    </tr>\n  </thead>\n  <tbody>\n    <tr>\n      <th>Precision@10</th>\n      <td>0.027652</td>\n    </tr>\n    <tr>\n      <th>recall@10</th>\n      <td>0.094043</td>\n    </tr>\n    <tr>\n      <th>ndcg@10</th>\n      <td>0.033191</td>\n    </tr>\n    <tr>\n      <th>map@10</th>\n      <td>0.043666</td>\n    </tr>\n    <tr>\n      <th>novelty@10</th>\n      <td>3.438390</td>\n    </tr>\n  </tbody>\n</table>\n</div>"
     },
     "execution_count": 69,
     "metadata": {},
     "output_type": "execute_result"
    }
   ],
   "source": [
    "models_metrics['XGBRanker'] = calc_metrics_(ranker_test, 'XGBRanker_rank')\n",
    "pd.DataFrame(models_metrics)[['XGBRanker']]"
   ],
   "metadata": {
    "collapsed": false,
    "ExecuteTime": {
     "end_time": "2024-02-18T13:24:24.951899Z",
     "start_time": "2024-02-18T13:24:20.300361Z"
    }
   }
  },
  {
   "cell_type": "markdown",
   "source": [
    "### LGBMRanker"
   ],
   "metadata": {
    "collapsed": false
   }
  },
  {
   "cell_type": "code",
   "execution_count": 172,
   "outputs": [],
   "source": [
    "def get_group_lgbm(df: pd.DataFrame) -> np.ndarray:\n",
    "    return np.array(\n",
    "        df[['user_id', 'item_id']]\n",
    "        .groupby(by=['user_id']).count()\n",
    "        ['item_id']\n",
    "    )"
   ],
   "metadata": {
    "collapsed": false,
    "ExecuteTime": {
     "end_time": "2024-03-03T21:58:50.051233Z",
     "start_time": "2024-03-03T21:58:42.673337Z"
    }
   }
  },
  {
   "cell_type": "code",
   "execution_count": 173,
   "outputs": [],
   "source": [
    "params = {\n",
    "    'objective': 'lambdarank',\n",
    "    'n_estimators': 100,\n",
    "    'max_depth': 4,\n",
    "    'num_leaves': 10,\n",
    "    'min_child_samples': 100,\n",
    "    'learning_rate': 0.25,\n",
    "    'reg_lambda': 1,\n",
    "    'colsample_bytree': 0.9,\n",
    "    'random_state': 42,\n",
    "}\n",
    "early_stopping_rounds = 32\n",
    "fit_params = {\n",
    "    'X': ranker_train[cols],\n",
    "    'y': ranker_train['target_ranker'],\n",
    "    'group': get_group_lgbm(ranker_train),\n",
    "    'eval_set': [(ranker_val[cols], ranker_val['target_ranker'])],\n",
    "    'eval_group': [get_group_lgbm(ranker_val)],\n",
    "    'eval_metric': 'ndcg',\n",
    "    'eval_at': (3, 5, 10),\n",
    "    'feature_name': cols,\n",
    "}\n",
    "LGBMRanker_model = LGBMRanker(**params)"
   ],
   "metadata": {
    "collapsed": false,
    "ExecuteTime": {
     "end_time": "2024-03-03T21:59:22.634517Z",
     "start_time": "2024-03-03T21:58:42.674701Z"
    }
   }
  },
  {
   "cell_type": "code",
   "execution_count": 174,
   "outputs": [
    {
     "name": "stdout",
     "output_type": "stream",
     "text": [
      "[LightGBM] [Info] Auto-choosing row-wise multi-threading, the overhead of testing was 0.402720 seconds.\n",
      "You can set `force_row_wise=true` to remove the overhead.\n",
      "And if memory is not enough, you can set `force_col_wise=true`.\n",
      "[LightGBM] [Info] Total Bins 1836\n",
      "[LightGBM] [Info] Number of data points in the train set: 19263522, number of used features: 18\n",
      "CPU times: user 8min 13s, sys: 21.1 s, total: 8min 34s\n",
      "Wall time: 1min 44s\n"
     ]
    },
    {
     "data": {
      "text/plain": "LGBMRanker(colsample_bytree=0.9, learning_rate=0.25, max_depth=4,\n           min_child_samples=100, num_leaves=10, objective='lambdarank',\n           random_state=42, reg_lambda=1)",
      "text/html": "<style>#sk-container-id-2 {color: black;}#sk-container-id-2 pre{padding: 0;}#sk-container-id-2 div.sk-toggleable {background-color: white;}#sk-container-id-2 label.sk-toggleable__label {cursor: pointer;display: block;width: 100%;margin-bottom: 0;padding: 0.3em;box-sizing: border-box;text-align: center;}#sk-container-id-2 label.sk-toggleable__label-arrow:before {content: \"▸\";float: left;margin-right: 0.25em;color: #696969;}#sk-container-id-2 label.sk-toggleable__label-arrow:hover:before {color: black;}#sk-container-id-2 div.sk-estimator:hover label.sk-toggleable__label-arrow:before {color: black;}#sk-container-id-2 div.sk-toggleable__content {max-height: 0;max-width: 0;overflow: hidden;text-align: left;background-color: #f0f8ff;}#sk-container-id-2 div.sk-toggleable__content pre {margin: 0.2em;color: black;border-radius: 0.25em;background-color: #f0f8ff;}#sk-container-id-2 input.sk-toggleable__control:checked~div.sk-toggleable__content {max-height: 200px;max-width: 100%;overflow: auto;}#sk-container-id-2 input.sk-toggleable__control:checked~label.sk-toggleable__label-arrow:before {content: \"▾\";}#sk-container-id-2 div.sk-estimator input.sk-toggleable__control:checked~label.sk-toggleable__label {background-color: #d4ebff;}#sk-container-id-2 div.sk-label input.sk-toggleable__control:checked~label.sk-toggleable__label {background-color: #d4ebff;}#sk-container-id-2 input.sk-hidden--visually {border: 0;clip: rect(1px 1px 1px 1px);clip: rect(1px, 1px, 1px, 1px);height: 1px;margin: -1px;overflow: hidden;padding: 0;position: absolute;width: 1px;}#sk-container-id-2 div.sk-estimator {font-family: monospace;background-color: #f0f8ff;border: 1px dotted black;border-radius: 0.25em;box-sizing: border-box;margin-bottom: 0.5em;}#sk-container-id-2 div.sk-estimator:hover {background-color: #d4ebff;}#sk-container-id-2 div.sk-parallel-item::after {content: \"\";width: 100%;border-bottom: 1px solid gray;flex-grow: 1;}#sk-container-id-2 div.sk-label:hover label.sk-toggleable__label {background-color: #d4ebff;}#sk-container-id-2 div.sk-serial::before {content: \"\";position: absolute;border-left: 1px solid gray;box-sizing: border-box;top: 0;bottom: 0;left: 50%;z-index: 0;}#sk-container-id-2 div.sk-serial {display: flex;flex-direction: column;align-items: center;background-color: white;padding-right: 0.2em;padding-left: 0.2em;position: relative;}#sk-container-id-2 div.sk-item {position: relative;z-index: 1;}#sk-container-id-2 div.sk-parallel {display: flex;align-items: stretch;justify-content: center;background-color: white;position: relative;}#sk-container-id-2 div.sk-item::before, #sk-container-id-2 div.sk-parallel-item::before {content: \"\";position: absolute;border-left: 1px solid gray;box-sizing: border-box;top: 0;bottom: 0;left: 50%;z-index: -1;}#sk-container-id-2 div.sk-parallel-item {display: flex;flex-direction: column;z-index: 1;position: relative;background-color: white;}#sk-container-id-2 div.sk-parallel-item:first-child::after {align-self: flex-end;width: 50%;}#sk-container-id-2 div.sk-parallel-item:last-child::after {align-self: flex-start;width: 50%;}#sk-container-id-2 div.sk-parallel-item:only-child::after {width: 0;}#sk-container-id-2 div.sk-dashed-wrapped {border: 1px dashed gray;margin: 0 0.4em 0.5em 0.4em;box-sizing: border-box;padding-bottom: 0.4em;background-color: white;}#sk-container-id-2 div.sk-label label {font-family: monospace;font-weight: bold;display: inline-block;line-height: 1.2em;}#sk-container-id-2 div.sk-label-container {text-align: center;}#sk-container-id-2 div.sk-container {/* jupyter's `normalize.less` sets `[hidden] { display: none; }` but bootstrap.min.css set `[hidden] { display: none !important; }` so we also need the `!important` here to be able to override the default hidden behavior on the sphinx rendered scikit-learn.org. See: https://github.com/scikit-learn/scikit-learn/issues/21755 */display: inline-block !important;position: relative;}#sk-container-id-2 div.sk-text-repr-fallback {display: none;}</style><div id=\"sk-container-id-2\" class=\"sk-top-container\"><div class=\"sk-text-repr-fallback\"><pre>LGBMRanker(colsample_bytree=0.9, learning_rate=0.25, max_depth=4,\n           min_child_samples=100, num_leaves=10, objective=&#x27;lambdarank&#x27;,\n           random_state=42, reg_lambda=1)</pre><b>In a Jupyter environment, please rerun this cell to show the HTML representation or trust the notebook. <br />On GitHub, the HTML representation is unable to render, please try loading this page with nbviewer.org.</b></div><div class=\"sk-container\" hidden><div class=\"sk-item\"><div class=\"sk-estimator sk-toggleable\"><input class=\"sk-toggleable__control sk-hidden--visually\" id=\"sk-estimator-id-2\" type=\"checkbox\" checked><label for=\"sk-estimator-id-2\" class=\"sk-toggleable__label sk-toggleable__label-arrow\">LGBMRanker</label><div class=\"sk-toggleable__content\"><pre>LGBMRanker(colsample_bytree=0.9, learning_rate=0.25, max_depth=4,\n           min_child_samples=100, num_leaves=10, objective=&#x27;lambdarank&#x27;,\n           random_state=42, reg_lambda=1)</pre></div></div></div></div></div>"
     },
     "execution_count": 174,
     "metadata": {},
     "output_type": "execute_result"
    }
   ],
   "source": [
    "%%time\n",
    "LGBMRanker_model.fit(**fit_params)"
   ],
   "metadata": {
    "collapsed": false,
    "ExecuteTime": {
     "end_time": "2024-03-03T22:00:39.182636Z",
     "start_time": "2024-03-03T21:59:22.560265Z"
    }
   }
  },
  {
   "cell_type": "code",
   "execution_count": 175,
   "outputs": [],
   "source": [
    "y_pred = LGBMRanker_model.predict(ranker_test[cols])"
   ],
   "metadata": {
    "collapsed": false,
    "ExecuteTime": {
     "end_time": "2024-03-03T22:00:49.322969Z",
     "start_time": "2024-03-03T22:00:39.181014Z"
    }
   }
  },
  {
   "cell_type": "code",
   "execution_count": null,
   "outputs": [],
   "source": [
    "ranker_test = add_score_and_rank(ranker_test, y_pred, 'LGBMRanker')\n",
    "ranker_test.head(3)\n"
   ],
   "metadata": {
    "collapsed": false
   }
  },
  {
   "cell_type": "code",
   "execution_count": 177,
   "outputs": [
    {
     "data": {
      "text/plain": "              LGBMRanker\nPrecision@10    0.028525\nrecall@10       0.095505\nndcg@10         0.034336\nmap@10          0.045088\nnovelty@10      3.429369",
      "text/html": "<div>\n<style scoped>\n    .dataframe tbody tr th:only-of-type {\n        vertical-align: middle;\n    }\n\n    .dataframe tbody tr th {\n        vertical-align: top;\n    }\n\n    .dataframe thead th {\n        text-align: right;\n    }\n</style>\n<table border=\"1\" class=\"dataframe\">\n  <thead>\n    <tr style=\"text-align: right;\">\n      <th></th>\n      <th>LGBMRanker</th>\n    </tr>\n  </thead>\n  <tbody>\n    <tr>\n      <th>Precision@10</th>\n      <td>0.028525</td>\n    </tr>\n    <tr>\n      <th>recall@10</th>\n      <td>0.095505</td>\n    </tr>\n    <tr>\n      <th>ndcg@10</th>\n      <td>0.034336</td>\n    </tr>\n    <tr>\n      <th>map@10</th>\n      <td>0.045088</td>\n    </tr>\n    <tr>\n      <th>novelty@10</th>\n      <td>3.429369</td>\n    </tr>\n  </tbody>\n</table>\n</div>"
     },
     "execution_count": 177,
     "metadata": {},
     "output_type": "execute_result"
    }
   ],
   "source": [
    "models_metrics['LGBMRanker'] = calc_metrics_(ranker_test, 'LGBMRanker_rank')\n",
    "pd.DataFrame(models_metrics)[['LGBMRanker']]"
   ],
   "metadata": {
    "collapsed": false,
    "ExecuteTime": {
     "end_time": "2024-03-03T22:01:02.185907Z",
     "start_time": "2024-03-03T22:00:55.073978Z"
    }
   }
  },
  {
   "cell_type": "markdown",
   "source": [
    "### CatBoostRanker"
   ],
   "metadata": {
    "collapsed": false
   }
  },
  {
   "cell_type": "code",
   "execution_count": 82,
   "outputs": [],
   "source": [
    "cat_cols = [\n",
    "    'age', 'income', 'sex', 'kids_flg',\n",
    "    'content_type', 'directors_cat'\n",
    "]"
   ],
   "metadata": {
    "collapsed": false,
    "ExecuteTime": {
     "end_time": "2024-02-18T13:59:20.296442Z",
     "start_time": "2024-02-18T13:59:20.287754Z"
    }
   }
  },
  {
   "cell_type": "code",
   "execution_count": 83,
   "outputs": [],
   "source": [
    "params = {\n",
    "    'learning_rate': 0.25,\n",
    "    'n_estimators': 50,\n",
    "    'depth': 4,\n",
    "    'reg_lambda': 1,\n",
    "    'verbose': 1,\n",
    "    'random_seed': 42,\n",
    "    'custom_metric': 'NDCG:top=10',\n",
    "    'early_stopping_rounds': early_stopping_rounds,\n",
    "}\n",
    "\n",
    "fit_params = {\n",
    "    'X': Pool(data=ranker_train[cols],\n",
    "              label=ranker_train['target_ranker'],\n",
    "              group_id=ranker_train['user_id'].values,\n",
    "              cat_features=cat_cols),\n",
    "    'plot': 1,\n",
    "    'early_stopping_rounds': early_stopping_rounds,\n",
    "    'eval_set': Pool(data=ranker_val[cols],\n",
    "                     label=ranker_val['target_ranker'],\n",
    "                     group_id=ranker_val['user_id'].values,\n",
    "                     cat_features=cat_cols),\n",
    "}\n",
    "CatBoostRanker_model = CatBoostRanker(**params)"
   ],
   "metadata": {
    "collapsed": false,
    "ExecuteTime": {
     "end_time": "2024-02-18T14:00:19.682806Z",
     "start_time": "2024-02-18T13:59:56.617704Z"
    }
   }
  },
  {
   "cell_type": "code",
   "execution_count": 84,
   "outputs": [
    {
     "data": {
      "text/plain": "MetricVisualizer(layout=Layout(align_self='stretch', height='500px'))",
      "application/vnd.jupyter.widget-view+json": {
       "version_major": 2,
       "version_minor": 0,
       "model_id": "d02c8de75c49439eaa08345cf8c90600"
      }
     },
     "metadata": {},
     "output_type": "display_data"
    },
    {
     "name": "stdout",
     "output_type": "stream",
     "text": [
      "Groupwise loss function. OneHotMaxSize set to 10\n",
      "0:\ttest: 0.6351296\tbest: 0.6351296 (0)\ttotal: 13.9s\tremaining: 11m 19s\n",
      "1:\ttest: 0.6697635\tbest: 0.6697635 (1)\ttotal: 23.5s\tremaining: 9m 24s\n",
      "2:\ttest: 0.6796049\tbest: 0.6796049 (2)\ttotal: 32.7s\tremaining: 8m 33s\n",
      "3:\ttest: 0.6898546\tbest: 0.6898546 (3)\ttotal: 44.8s\tremaining: 8m 35s\n",
      "4:\ttest: 0.6902335\tbest: 0.6902335 (4)\ttotal: 53s\tremaining: 7m 57s\n",
      "5:\ttest: 0.6907766\tbest: 0.6907766 (5)\ttotal: 1m 2s\tremaining: 7m 34s\n",
      "6:\ttest: 0.6913762\tbest: 0.6913762 (6)\ttotal: 1m 14s\tremaining: 7m 38s\n",
      "7:\ttest: 0.6919620\tbest: 0.6919620 (7)\ttotal: 1m 24s\tremaining: 7m 23s\n",
      "8:\ttest: 0.6920047\tbest: 0.6920047 (8)\ttotal: 1m 35s\tremaining: 7m 13s\n",
      "9:\ttest: 0.6930784\tbest: 0.6930784 (9)\ttotal: 1m 45s\tremaining: 7m 1s\n",
      "10:\ttest: 0.6932288\tbest: 0.6932288 (10)\ttotal: 1m 54s\tremaining: 6m 45s\n",
      "11:\ttest: 0.6933261\tbest: 0.6933261 (11)\ttotal: 2m 3s\tremaining: 6m 31s\n",
      "12:\ttest: 0.7034360\tbest: 0.7034360 (12)\ttotal: 2m 13s\tremaining: 6m 20s\n",
      "13:\ttest: 0.7035218\tbest: 0.7035218 (13)\ttotal: 2m 25s\tremaining: 6m 13s\n",
      "14:\ttest: 0.7035808\tbest: 0.7035808 (14)\ttotal: 2m 34s\tremaining: 5m 59s\n",
      "15:\ttest: 0.7037156\tbest: 0.7037156 (15)\ttotal: 2m 42s\tremaining: 5m 45s\n",
      "16:\ttest: 0.7039546\tbest: 0.7039546 (16)\ttotal: 2m 52s\tremaining: 5m 33s\n",
      "17:\ttest: 0.7039943\tbest: 0.7039943 (17)\ttotal: 3m 1s\tremaining: 5m 22s\n",
      "18:\ttest: 0.7042282\tbest: 0.7042282 (18)\ttotal: 3m 11s\tremaining: 5m 12s\n",
      "19:\ttest: 0.7043431\tbest: 0.7043431 (19)\ttotal: 3m 21s\tremaining: 5m 2s\n",
      "20:\ttest: 0.7043913\tbest: 0.7043913 (20)\ttotal: 3m 32s\tremaining: 4m 52s\n",
      "21:\ttest: 0.7044265\tbest: 0.7044265 (21)\ttotal: 3m 42s\tremaining: 4m 43s\n",
      "22:\ttest: 0.7058255\tbest: 0.7058255 (22)\ttotal: 3m 54s\tremaining: 4m 34s\n",
      "23:\ttest: 0.7059504\tbest: 0.7059504 (23)\ttotal: 4m 5s\tremaining: 4m 25s\n",
      "24:\ttest: 0.7060347\tbest: 0.7060347 (24)\ttotal: 4m 17s\tremaining: 4m 17s\n",
      "25:\ttest: 0.7061230\tbest: 0.7061230 (25)\ttotal: 4m 26s\tremaining: 4m 6s\n",
      "26:\ttest: 0.7064276\tbest: 0.7064276 (26)\ttotal: 4m 35s\tremaining: 3m 54s\n",
      "27:\ttest: 0.7065225\tbest: 0.7065225 (27)\ttotal: 4m 44s\tremaining: 3m 43s\n",
      "28:\ttest: 0.7066474\tbest: 0.7066474 (28)\ttotal: 4m 53s\tremaining: 3m 32s\n",
      "29:\ttest: 0.7066850\tbest: 0.7066850 (29)\ttotal: 5m 2s\tremaining: 3m 21s\n",
      "30:\ttest: 0.7067201\tbest: 0.7067201 (30)\ttotal: 5m 10s\tremaining: 3m 10s\n",
      "31:\ttest: 0.7068331\tbest: 0.7068331 (31)\ttotal: 5m 19s\tremaining: 2m 59s\n",
      "32:\ttest: 0.7068632\tbest: 0.7068632 (32)\ttotal: 5m 28s\tremaining: 2m 49s\n",
      "33:\ttest: 0.7069405\tbest: 0.7069405 (33)\ttotal: 5m 37s\tremaining: 2m 38s\n",
      "34:\ttest: 0.7069177\tbest: 0.7069405 (33)\ttotal: 5m 46s\tremaining: 2m 28s\n",
      "35:\ttest: 0.7068970\tbest: 0.7069405 (33)\ttotal: 5m 55s\tremaining: 2m 18s\n",
      "36:\ttest: 0.7069798\tbest: 0.7069798 (36)\ttotal: 6m 4s\tremaining: 2m 8s\n",
      "37:\ttest: 0.7069877\tbest: 0.7069877 (37)\ttotal: 6m 14s\tremaining: 1m 58s\n",
      "38:\ttest: 0.7070540\tbest: 0.7070540 (38)\ttotal: 6m 26s\tremaining: 1m 48s\n",
      "39:\ttest: 0.7071015\tbest: 0.7071015 (39)\ttotal: 6m 37s\tremaining: 1m 39s\n",
      "40:\ttest: 0.7072370\tbest: 0.7072370 (40)\ttotal: 6m 48s\tremaining: 1m 29s\n",
      "41:\ttest: 0.7072455\tbest: 0.7072455 (41)\ttotal: 6m 59s\tremaining: 1m 19s\n",
      "42:\ttest: 0.7072964\tbest: 0.7072964 (42)\ttotal: 7m 9s\tremaining: 1m 9s\n",
      "43:\ttest: 0.7074190\tbest: 0.7074190 (43)\ttotal: 7m 19s\tremaining: 59.9s\n",
      "44:\ttest: 0.7074636\tbest: 0.7074636 (44)\ttotal: 7m 29s\tremaining: 50s\n",
      "45:\ttest: 0.7074777\tbest: 0.7074777 (45)\ttotal: 7m 39s\tremaining: 40s\n",
      "46:\ttest: 0.7075949\tbest: 0.7075949 (46)\ttotal: 7m 49s\tremaining: 30s\n",
      "47:\ttest: 0.7079844\tbest: 0.7079844 (47)\ttotal: 7m 59s\tremaining: 20s\n",
      "48:\ttest: 0.7078636\tbest: 0.7079844 (47)\ttotal: 8m 9s\tremaining: 10s\n",
      "49:\ttest: 0.7079365\tbest: 0.7079844 (47)\ttotal: 8m 20s\tremaining: 0us\n",
      "\n",
      "bestTest = 0.7079844193\n",
      "bestIteration = 47\n",
      "\n",
      "Shrink model to first 48 iterations.\n",
      "CPU times: user 1h 11min 40s, sys: 3min 50s, total: 1h 15min 31s\n",
      "Wall time: 8min 32s\n"
     ]
    },
    {
     "data": {
      "text/plain": "<catboost.core.CatBoostRanker at 0x7f7ceedbbdc0>"
     },
     "execution_count": 84,
     "metadata": {},
     "output_type": "execute_result"
    }
   ],
   "source": [
    "%%time\n",
    "CatBoostRanker_model.fit(**fit_params)\n"
   ],
   "metadata": {
    "collapsed": false,
    "ExecuteTime": {
     "end_time": "2024-02-18T14:09:35.321441Z",
     "start_time": "2024-02-18T14:01:02.892092Z"
    }
   }
  },
  {
   "cell_type": "code",
   "execution_count": 85,
   "outputs": [],
   "source": [
    "y_pred = CatBoostRanker_model.predict(ranker_test[cols])"
   ],
   "metadata": {
    "collapsed": false,
    "ExecuteTime": {
     "end_time": "2024-02-18T14:15:15.055934Z",
     "start_time": "2024-02-18T14:15:08.118891Z"
    }
   }
  },
  {
   "cell_type": "code",
   "execution_count": null,
   "outputs": [],
   "source": [
    "ranker_test = add_score_and_rank(ranker_test, y_pred, 'CatBoostRanker')\n",
    "ranker_test.head(3)\n"
   ],
   "metadata": {
    "collapsed": false
   }
  },
  {
   "cell_type": "code",
   "execution_count": 87,
   "outputs": [
    {
     "data": {
      "text/plain": "              CatBoostRanker\nPrecision@10        0.027508\nrecall@10           0.092927\nndcg@10             0.032566\nmap@10              0.042256\nnovelty@10          3.331839",
      "text/html": "<div>\n<style scoped>\n    .dataframe tbody tr th:only-of-type {\n        vertical-align: middle;\n    }\n\n    .dataframe tbody tr th {\n        vertical-align: top;\n    }\n\n    .dataframe thead th {\n        text-align: right;\n    }\n</style>\n<table border=\"1\" class=\"dataframe\">\n  <thead>\n    <tr style=\"text-align: right;\">\n      <th></th>\n      <th>CatBoostRanker</th>\n    </tr>\n  </thead>\n  <tbody>\n    <tr>\n      <th>Precision@10</th>\n      <td>0.027508</td>\n    </tr>\n    <tr>\n      <th>recall@10</th>\n      <td>0.092927</td>\n    </tr>\n    <tr>\n      <th>ndcg@10</th>\n      <td>0.032566</td>\n    </tr>\n    <tr>\n      <th>map@10</th>\n      <td>0.042256</td>\n    </tr>\n    <tr>\n      <th>novelty@10</th>\n      <td>3.331839</td>\n    </tr>\n  </tbody>\n</table>\n</div>"
     },
     "execution_count": 87,
     "metadata": {},
     "output_type": "execute_result"
    }
   ],
   "source": [
    "models_metrics['CatBoostRanker'] = calc_metrics_(ranker_test, 'CatBoostRanker_rank')\n",
    "pd.DataFrame(models_metrics)[['CatBoostRanker']]\n"
   ],
   "metadata": {
    "collapsed": false,
    "ExecuteTime": {
     "end_time": "2024-02-18T14:16:04.251108Z",
     "start_time": "2024-02-18T14:15:55.643048Z"
    }
   }
  },
  {
   "cell_type": "markdown",
   "source": [
    "### Результирующий датафрейм"
   ],
   "metadata": {
    "collapsed": false
   }
  },
  {
   "cell_type": "code",
   "execution_count": 178,
   "outputs": [],
   "source": [
    "res_df = pd.DataFrame({'recall@10': [0.094, 0.095, 0.093], 'ndcg@10': [0.0331, 0.034, 0.0325],\n",
    "                       'map@10': [0.0437, 0.045, 0.0422], 'time, s': [243, 104, 512]}, index=['XGBRanker', 'LBMRanker', 'CatBoostRanker'])\n"
   ],
   "metadata": {
    "collapsed": false,
    "ExecuteTime": {
     "end_time": "2024-03-03T22:05:51.276088Z",
     "start_time": "2024-03-03T22:05:51.212810Z"
    }
   }
  },
  {
   "cell_type": "code",
   "execution_count": 90,
   "outputs": [
    {
     "data": {
      "text/plain": "                recall@10  ndcg@10  map@10  time, s\nXGBRanker          0.0940   0.0331  0.0437      243\nLBMRanker          0.0942   0.0335  0.0446      104\nCatBoostRanker     0.0930   0.0325  0.0422      512",
      "text/html": "<div>\n<style scoped>\n    .dataframe tbody tr th:only-of-type {\n        vertical-align: middle;\n    }\n\n    .dataframe tbody tr th {\n        vertical-align: top;\n    }\n\n    .dataframe thead th {\n        text-align: right;\n    }\n</style>\n<table border=\"1\" class=\"dataframe\">\n  <thead>\n    <tr style=\"text-align: right;\">\n      <th></th>\n      <th>recall@10</th>\n      <th>ndcg@10</th>\n      <th>map@10</th>\n      <th>time, s</th>\n    </tr>\n  </thead>\n  <tbody>\n    <tr>\n      <th>XGBRanker</th>\n      <td>0.0940</td>\n      <td>0.0331</td>\n      <td>0.0437</td>\n      <td>243</td>\n    </tr>\n    <tr>\n      <th>LBMRanker</th>\n      <td>0.0942</td>\n      <td>0.0335</td>\n      <td>0.0446</td>\n      <td>104</td>\n    </tr>\n    <tr>\n      <th>CatBoostRanker</th>\n      <td>0.0930</td>\n      <td>0.0325</td>\n      <td>0.0422</td>\n      <td>512</td>\n    </tr>\n  </tbody>\n</table>\n</div>"
     },
     "execution_count": 90,
     "metadata": {},
     "output_type": "execute_result"
    }
   ],
   "source": [
    "res_df\n"
   ],
   "metadata": {
    "collapsed": false,
    "ExecuteTime": {
     "end_time": "2024-02-18T14:29:40.976655Z",
     "start_time": "2024-02-18T14:29:40.928384Z"
    }
   }
  },
  {
   "cell_type": "markdown",
   "source": [
    "### Инференс плюс сравнение моделей первого и второго уровней, для этого выберем модель второго уровня LBMRanker, так как он показал лучшие результаты"
   ],
   "metadata": {
    "collapsed": false
   }
  },
  {
   "cell_type": "code",
   "execution_count": 181,
   "outputs": [
    {
     "data": {
      "text/plain": "                recall@10  ndcg@10  map@10\nLightFM             0.074    0.026   0.033\nLBMRanker           0.080    0.027   0.035\nCatBoostRanker      0.095    0.034   0.045",
      "text/html": "<div>\n<style scoped>\n    .dataframe tbody tr th:only-of-type {\n        vertical-align: middle;\n    }\n\n    .dataframe tbody tr th {\n        vertical-align: top;\n    }\n\n    .dataframe thead th {\n        text-align: right;\n    }\n</style>\n<table border=\"1\" class=\"dataframe\">\n  <thead>\n    <tr style=\"text-align: right;\">\n      <th></th>\n      <th>recall@10</th>\n      <th>ndcg@10</th>\n      <th>map@10</th>\n    </tr>\n  </thead>\n  <tbody>\n    <tr>\n      <th>LightFM</th>\n      <td>0.074</td>\n      <td>0.026</td>\n      <td>0.033</td>\n    </tr>\n    <tr>\n      <th>LBMRanker</th>\n      <td>0.080</td>\n      <td>0.027</td>\n      <td>0.035</td>\n    </tr>\n    <tr>\n      <th>CatBoostRanker</th>\n      <td>0.095</td>\n      <td>0.034</td>\n      <td>0.045</td>\n    </tr>\n  </tbody>\n</table>\n</div>"
     },
     "execution_count": 181,
     "metadata": {},
     "output_type": "execute_result"
    }
   ],
   "source": [
    "comp_df = pd.DataFrame({'recall@10': [0.074, 0.080, 0.095], 'ndcg@10': [0.026, 0.027, 0.034], 'map@10': [0.033, 0.035, 0.045]},\n",
    "                       index=['LightFM', 'LBMRanker', 'CatBoostRanker'])\n",
    "comp_df"
   ],
   "metadata": {
    "collapsed": false,
    "ExecuteTime": {
     "end_time": "2024-03-03T22:20:33.386004Z",
     "start_time": "2024-03-03T22:20:33.317913Z"
    }
   }
  },
  {
   "cell_type": "code",
   "execution_count": 184,
   "outputs": [],
   "source": [
    "ranker_train = ranker_train.reset_index(drop=True)\n",
    "ranker_val = ranker_val.reset_index(drop=True)\n",
    "ranker_test = ranker_test.reset_index(drop=True)"
   ],
   "metadata": {
    "collapsed": false,
    "ExecuteTime": {
     "end_time": "2024-03-03T22:32:45.784045Z",
     "start_time": "2024-03-03T22:32:32.123266Z"
    }
   }
  },
  {
   "cell_type": "code",
   "execution_count": 185,
   "outputs": [
    {
     "data": {
      "text/plain": "(19263522, 24)"
     },
     "execution_count": 185,
     "metadata": {},
     "output_type": "execute_result"
    }
   ],
   "source": [
    "ranker_train.shape"
   ],
   "metadata": {
    "collapsed": false,
    "ExecuteTime": {
     "end_time": "2024-03-03T22:33:26.659425Z",
     "start_time": "2024-03-03T22:33:26.618464Z"
    }
   }
  },
  {
   "cell_type": "code",
   "execution_count": 186,
   "outputs": [
    {
     "data": {
      "text/plain": "(4138671, 24)"
     },
     "execution_count": 186,
     "metadata": {},
     "output_type": "execute_result"
    }
   ],
   "source": [
    "ranker_val.shape"
   ],
   "metadata": {
    "collapsed": false,
    "ExecuteTime": {
     "end_time": "2024-03-03T22:33:26.662715Z",
     "start_time": "2024-03-03T22:33:26.629598Z"
    }
   }
  },
  {
   "cell_type": "code",
   "execution_count": 189,
   "outputs": [],
   "source": [
    "ranker_df = pd.concat([ranker_train, ranker_val])\n",
    "ranker_df = pd.concat([ranker_df, ranker_test])"
   ],
   "metadata": {
    "collapsed": false,
    "ExecuteTime": {
     "end_time": "2024-03-03T22:40:28.100837Z",
     "start_time": "2024-03-03T22:39:58.574326Z"
    }
   }
  },
  {
   "cell_type": "code",
   "execution_count": 190,
   "outputs": [],
   "source": [
    "y_pred = LGBMRanker_model.predict(ranker_df[cols])\n",
    "ranker_df = add_score_and_rank(ranker_df, y_pred, 'LGBMRanker')"
   ],
   "metadata": {
    "collapsed": false,
    "ExecuteTime": {
     "end_time": "2024-03-03T22:43:38.292988Z",
     "start_time": "2024-03-03T22:40:28.160998Z"
    }
   }
  },
  {
   "cell_type": "code",
   "execution_count": 191,
   "outputs": [],
   "source": [
    "ranker_df = ranker_df.sort_values(by='LGBMRanker_rank', ascending=True)"
   ],
   "metadata": {
    "collapsed": false,
    "ExecuteTime": {
     "end_time": "2024-03-03T22:45:34.335917Z",
     "start_time": "2024-03-03T22:44:57.016868Z"
    }
   }
  },
  {
   "cell_type": "code",
   "execution_count": 196,
   "outputs": [],
   "source": [
    "recos = ranker_df.groupby('user_id').head(10)\n",
    "recos['item_id'] = recos['item_id'].astype('int')"
   ],
   "metadata": {
    "collapsed": false,
    "ExecuteTime": {
     "end_time": "2024-03-03T22:53:51.439143Z",
     "start_time": "2024-03-03T22:53:40.061341Z"
    }
   }
  },
  {
   "cell_type": "code",
   "execution_count": 197,
   "outputs": [
    {
     "data": {
      "text/plain": "   user_id                                            item_id\n0        3  [15297, 10440, 9728, 12192, 3734, 13865, 4151,...\n1       11  [15297, 9728, 10440, 12192, 13865, 3734, 7829,...\n2       14  [15297, 10440, 9728, 3734, 16228, 13865, 4151,...",
      "text/html": "<div>\n<style scoped>\n    .dataframe tbody tr th:only-of-type {\n        vertical-align: middle;\n    }\n\n    .dataframe tbody tr th {\n        vertical-align: top;\n    }\n\n    .dataframe thead th {\n        text-align: right;\n    }\n</style>\n<table border=\"1\" class=\"dataframe\">\n  <thead>\n    <tr style=\"text-align: right;\">\n      <th></th>\n      <th>user_id</th>\n      <th>item_id</th>\n    </tr>\n  </thead>\n  <tbody>\n    <tr>\n      <th>0</th>\n      <td>3</td>\n      <td>[15297, 10440, 9728, 12192, 3734, 13865, 4151,...</td>\n    </tr>\n    <tr>\n      <th>1</th>\n      <td>11</td>\n      <td>[15297, 9728, 10440, 12192, 13865, 3734, 7829,...</td>\n    </tr>\n    <tr>\n      <th>2</th>\n      <td>14</td>\n      <td>[15297, 10440, 9728, 3734, 16228, 13865, 4151,...</td>\n    </tr>\n  </tbody>\n</table>\n</div>"
     },
     "execution_count": 197,
     "metadata": {},
     "output_type": "execute_result"
    }
   ],
   "source": [
    "recos = recos.groupby('user_id')['item_id'].agg(list).reset_index()\n",
    "recos.head(3)"
   ],
   "metadata": {
    "collapsed": false,
    "ExecuteTime": {
     "end_time": "2024-03-03T22:54:06.283034Z",
     "start_time": "2024-03-03T22:53:51.444691Z"
    }
   }
  },
  {
   "cell_type": "code",
   "execution_count": 199,
   "outputs": [],
   "source": [
    "pickle.dump(recos, open(\"/Users/tanchik/Desktop/Настоящее/учеба/RecSys/RecoServiceTemplate/service/api/recsys/models/ranker_recos.pickle\", \"wb\"))"
   ],
   "metadata": {
    "collapsed": false,
    "ExecuteTime": {
     "end_time": "2024-03-03T22:54:07.953336Z",
     "start_time": "2024-03-03T22:54:06.328972Z"
    }
   }
  },
  {
   "cell_type": "code",
   "execution_count": null,
   "outputs": [],
   "source": [],
   "metadata": {
    "collapsed": false
   }
  }
 ],
 "metadata": {
  "kernelspec": {
   "display_name": "Python 3",
   "language": "python",
   "name": "python3"
  },
  "language_info": {
   "codemirror_mode": {
    "name": "ipython",
    "version": 2
   },
   "file_extension": ".py",
   "mimetype": "text/x-python",
   "name": "python",
   "nbconvert_exporter": "python",
   "pygments_lexer": "ipython2",
   "version": "2.7.6"
  }
 },
 "nbformat": 4,
 "nbformat_minor": 0
}
