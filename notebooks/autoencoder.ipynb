{
 "cells": [
  {
   "cell_type": "code",
   "execution_count": 145,
   "metadata": {
    "collapsed": true,
    "ExecuteTime": {
     "end_time": "2024-02-09T10:12:53.893375Z",
     "start_time": "2024-02-09T10:12:53.825754Z"
    }
   },
   "outputs": [],
   "source": [
    "import pandas as pd\n",
    "from IPython.display import display, clear_output\n",
    "from typing import List, Dict, Union\n",
    "from pathlib import Path\n",
    "from rectools import Columns\n",
    "import math\n",
    "from sklearn.model_selection import train_test_split\n",
    "import torch\n",
    "from scipy.sparse import csr_matrix\n",
    "import numpy as np\n",
    "from torch.utils.data import Dataset, DataLoader\n",
    "import torch.nn as nn\n",
    "import json"
   ]
  },
  {
   "cell_type": "code",
   "execution_count": 146,
   "outputs": [],
   "source": [
    "DATA_PATH = Path(\"/Users/tanchik/Desktop/Настоящее/учеба/RecSys/RecoServiceTemplate/kion_train\")\n",
    "users_df = pd.read_csv(DATA_PATH / 'users.csv')\n",
    "items_df = pd.read_csv(DATA_PATH / 'items.csv')\n",
    "interactions = pd.read_csv(DATA_PATH / 'interactions.csv')"
   ],
   "metadata": {
    "collapsed": false,
    "ExecuteTime": {
     "end_time": "2024-02-09T10:12:58.072796Z",
     "start_time": "2024-02-09T10:12:53.842433Z"
    }
   }
  },
  {
   "cell_type": "code",
   "execution_count": 147,
   "outputs": [],
   "source": [
    "interactions_df = interactions.drop(columns='total_dur')\n",
    "interactions_df['watched_pct'] = interactions_df['watched_pct'] / 100\n",
    "interactions_df.rename(columns={'user_id': Columns.User, 'item_id': Columns.Item,\n",
    "                                'last_watch_dt': Columns.Datetime, 'watched_pct': Columns.Weight}, inplace=True)\n",
    "interactions_df.dropna(inplace=True)"
   ],
   "metadata": {
    "collapsed": false,
    "ExecuteTime": {
     "end_time": "2024-02-09T10:12:59.202042Z",
     "start_time": "2024-02-09T10:12:58.073274Z"
    }
   }
  },
  {
   "cell_type": "code",
   "execution_count": 148,
   "outputs": [
    {
     "data": {
      "text/plain": "         user_id  item_id    datetime  weight\n0         176549     9506  2021-05-11    0.72\n1         699317     1659  2021-05-29    1.00\n2         656683     7107  2021-05-09    0.00\n3         864613     7638  2021-07-05    1.00\n4         964868     9506  2021-04-30    1.00\n...          ...      ...         ...     ...\n5476246   648596    12225  2021-08-13    0.00\n5476247   546862     9673  2021-04-13    0.49\n5476248   697262    15297  2021-08-20    0.63\n5476249   384202    16197  2021-04-19    1.00\n5476250   319709     4436  2021-08-15    0.45\n\n[5475423 rows x 4 columns]",
      "text/html": "<div>\n<style scoped>\n    .dataframe tbody tr th:only-of-type {\n        vertical-align: middle;\n    }\n\n    .dataframe tbody tr th {\n        vertical-align: top;\n    }\n\n    .dataframe thead th {\n        text-align: right;\n    }\n</style>\n<table border=\"1\" class=\"dataframe\">\n  <thead>\n    <tr style=\"text-align: right;\">\n      <th></th>\n      <th>user_id</th>\n      <th>item_id</th>\n      <th>datetime</th>\n      <th>weight</th>\n    </tr>\n  </thead>\n  <tbody>\n    <tr>\n      <th>0</th>\n      <td>176549</td>\n      <td>9506</td>\n      <td>2021-05-11</td>\n      <td>0.72</td>\n    </tr>\n    <tr>\n      <th>1</th>\n      <td>699317</td>\n      <td>1659</td>\n      <td>2021-05-29</td>\n      <td>1.00</td>\n    </tr>\n    <tr>\n      <th>2</th>\n      <td>656683</td>\n      <td>7107</td>\n      <td>2021-05-09</td>\n      <td>0.00</td>\n    </tr>\n    <tr>\n      <th>3</th>\n      <td>864613</td>\n      <td>7638</td>\n      <td>2021-07-05</td>\n      <td>1.00</td>\n    </tr>\n    <tr>\n      <th>4</th>\n      <td>964868</td>\n      <td>9506</td>\n      <td>2021-04-30</td>\n      <td>1.00</td>\n    </tr>\n    <tr>\n      <th>...</th>\n      <td>...</td>\n      <td>...</td>\n      <td>...</td>\n      <td>...</td>\n    </tr>\n    <tr>\n      <th>5476246</th>\n      <td>648596</td>\n      <td>12225</td>\n      <td>2021-08-13</td>\n      <td>0.00</td>\n    </tr>\n    <tr>\n      <th>5476247</th>\n      <td>546862</td>\n      <td>9673</td>\n      <td>2021-04-13</td>\n      <td>0.49</td>\n    </tr>\n    <tr>\n      <th>5476248</th>\n      <td>697262</td>\n      <td>15297</td>\n      <td>2021-08-20</td>\n      <td>0.63</td>\n    </tr>\n    <tr>\n      <th>5476249</th>\n      <td>384202</td>\n      <td>16197</td>\n      <td>2021-04-19</td>\n      <td>1.00</td>\n    </tr>\n    <tr>\n      <th>5476250</th>\n      <td>319709</td>\n      <td>4436</td>\n      <td>2021-08-15</td>\n      <td>0.45</td>\n    </tr>\n  </tbody>\n</table>\n<p>5475423 rows × 4 columns</p>\n</div>"
     },
     "execution_count": 148,
     "metadata": {},
     "output_type": "execute_result"
    }
   ],
   "source": [
    "interactions_df"
   ],
   "metadata": {
    "collapsed": false,
    "ExecuteTime": {
     "end_time": "2024-02-09T10:12:59.217226Z",
     "start_time": "2024-02-09T10:12:59.212934Z"
    }
   }
  },
  {
   "cell_type": "code",
   "execution_count": 149,
   "outputs": [
    {
     "data": {
      "text/plain": "(263794, 4)"
     },
     "execution_count": 149,
     "metadata": {},
     "output_type": "execute_result"
    }
   ],
   "source": [
    "interactions_df = interactions_df[interactions_df[Columns.Datetime] < '2021-04-01']\n",
    "interactions_df.shape"
   ],
   "metadata": {
    "collapsed": false,
    "ExecuteTime": {
     "end_time": "2024-02-09T10:12:59.548759Z",
     "start_time": "2024-02-09T10:12:59.509312Z"
    }
   }
  },
  {
   "cell_type": "code",
   "execution_count": 150,
   "outputs": [
    {
     "name": "stdout",
     "output_type": "stream",
     "text": [
      "# users: 86605\n",
      "# users with at least 5 interactions: 14557\n"
     ]
    }
   ],
   "source": [
    "users_interactions_count_df = interactions_df.groupby(['user_id', 'item_id']).size().groupby('user_id').size()\n",
    "print('# users: %d' % len(users_interactions_count_df))\n",
    "users_with_enough_interactions_df = users_interactions_count_df[users_interactions_count_df >= 5].reset_index()[['user_id']]\n",
    "print('# users with at least 5 interactions: %d' % len(users_with_enough_interactions_df))"
   ],
   "metadata": {
    "collapsed": false,
    "ExecuteTime": {
     "end_time": "2024-02-09T10:12:59.701139Z",
     "start_time": "2024-02-09T10:12:59.555421Z"
    }
   }
  },
  {
   "cell_type": "code",
   "execution_count": 151,
   "outputs": [
    {
     "name": "stdout",
     "output_type": "stream",
     "text": [
      "# of interactions: 263794\n",
      "# of interactions from users with at least 5 interactions: 142586\n"
     ]
    }
   ],
   "source": [
    "print('# of interactions: %d' % len(interactions_df))\n",
    "interactions_from_selected_users_df = interactions_df.merge(users_with_enough_interactions_df,\n",
    "               how = 'right',\n",
    "               left_on = 'user_id',\n",
    "               right_on = 'user_id')\n",
    "print('# of interactions from users with at least 5 interactions: %d' % len(interactions_from_selected_users_df))"
   ],
   "metadata": {
    "collapsed": false,
    "ExecuteTime": {
     "end_time": "2024-02-09T10:12:59.755964Z",
     "start_time": "2024-02-09T10:12:59.703683Z"
    }
   }
  },
  {
   "cell_type": "code",
   "execution_count": 152,
   "outputs": [
    {
     "data": {
      "text/plain": "        user_id  item_id    datetime  weight\n0            21    12261  2021-03-30    1.00\n1            21    15997  2021-03-28    1.00\n2            21     4345  2021-03-30    1.00\n3            21    10283  2021-03-20    1.00\n4            21      849  2021-03-30    0.82\n...         ...      ...         ...     ...\n142581  1097530    11237  2021-03-13    0.94\n142582  1097530      849  2021-03-23    0.34\n142583  1097530    11512  2021-03-15    0.01\n142584  1097530     8386  2021-03-15    1.00\n142585  1097530     4155  2021-03-26    0.00\n\n[142586 rows x 4 columns]",
      "text/html": "<div>\n<style scoped>\n    .dataframe tbody tr th:only-of-type {\n        vertical-align: middle;\n    }\n\n    .dataframe tbody tr th {\n        vertical-align: top;\n    }\n\n    .dataframe thead th {\n        text-align: right;\n    }\n</style>\n<table border=\"1\" class=\"dataframe\">\n  <thead>\n    <tr style=\"text-align: right;\">\n      <th></th>\n      <th>user_id</th>\n      <th>item_id</th>\n      <th>datetime</th>\n      <th>weight</th>\n    </tr>\n  </thead>\n  <tbody>\n    <tr>\n      <th>0</th>\n      <td>21</td>\n      <td>12261</td>\n      <td>2021-03-30</td>\n      <td>1.00</td>\n    </tr>\n    <tr>\n      <th>1</th>\n      <td>21</td>\n      <td>15997</td>\n      <td>2021-03-28</td>\n      <td>1.00</td>\n    </tr>\n    <tr>\n      <th>2</th>\n      <td>21</td>\n      <td>4345</td>\n      <td>2021-03-30</td>\n      <td>1.00</td>\n    </tr>\n    <tr>\n      <th>3</th>\n      <td>21</td>\n      <td>10283</td>\n      <td>2021-03-20</td>\n      <td>1.00</td>\n    </tr>\n    <tr>\n      <th>4</th>\n      <td>21</td>\n      <td>849</td>\n      <td>2021-03-30</td>\n      <td>0.82</td>\n    </tr>\n    <tr>\n      <th>...</th>\n      <td>...</td>\n      <td>...</td>\n      <td>...</td>\n      <td>...</td>\n    </tr>\n    <tr>\n      <th>142581</th>\n      <td>1097530</td>\n      <td>11237</td>\n      <td>2021-03-13</td>\n      <td>0.94</td>\n    </tr>\n    <tr>\n      <th>142582</th>\n      <td>1097530</td>\n      <td>849</td>\n      <td>2021-03-23</td>\n      <td>0.34</td>\n    </tr>\n    <tr>\n      <th>142583</th>\n      <td>1097530</td>\n      <td>11512</td>\n      <td>2021-03-15</td>\n      <td>0.01</td>\n    </tr>\n    <tr>\n      <th>142584</th>\n      <td>1097530</td>\n      <td>8386</td>\n      <td>2021-03-15</td>\n      <td>1.00</td>\n    </tr>\n    <tr>\n      <th>142585</th>\n      <td>1097530</td>\n      <td>4155</td>\n      <td>2021-03-26</td>\n      <td>0.00</td>\n    </tr>\n  </tbody>\n</table>\n<p>142586 rows × 4 columns</p>\n</div>"
     },
     "execution_count": 152,
     "metadata": {},
     "output_type": "execute_result"
    }
   ],
   "source": [
    "interactions_from_selected_users_df"
   ],
   "metadata": {
    "collapsed": false,
    "ExecuteTime": {
     "end_time": "2024-02-09T10:12:59.764890Z",
     "start_time": "2024-02-09T10:12:59.753510Z"
    }
   }
  },
  {
   "cell_type": "code",
   "execution_count": 153,
   "outputs": [
    {
     "name": "stdout",
     "output_type": "stream",
     "text": [
      "# of unique user/item interactions: 142586\n"
     ]
    },
    {
     "data": {
      "text/plain": "   user_id  item_id    weight\n0       21      849  0.863938\n1       21     4345  1.000000\n2       21    10283  1.000000\n3       21    12261  1.000000\n4       21    15997  1.000000\n5       32      952  0.722466\n6       32     4382  0.378512\n7       32     4807  1.000000\n8       32    10436  1.000000\n9       32    12132  1.000000",
      "text/html": "<div>\n<style scoped>\n    .dataframe tbody tr th:only-of-type {\n        vertical-align: middle;\n    }\n\n    .dataframe tbody tr th {\n        vertical-align: top;\n    }\n\n    .dataframe thead th {\n        text-align: right;\n    }\n</style>\n<table border=\"1\" class=\"dataframe\">\n  <thead>\n    <tr style=\"text-align: right;\">\n      <th></th>\n      <th>user_id</th>\n      <th>item_id</th>\n      <th>weight</th>\n    </tr>\n  </thead>\n  <tbody>\n    <tr>\n      <th>0</th>\n      <td>21</td>\n      <td>849</td>\n      <td>0.863938</td>\n    </tr>\n    <tr>\n      <th>1</th>\n      <td>21</td>\n      <td>4345</td>\n      <td>1.000000</td>\n    </tr>\n    <tr>\n      <th>2</th>\n      <td>21</td>\n      <td>10283</td>\n      <td>1.000000</td>\n    </tr>\n    <tr>\n      <th>3</th>\n      <td>21</td>\n      <td>12261</td>\n      <td>1.000000</td>\n    </tr>\n    <tr>\n      <th>4</th>\n      <td>21</td>\n      <td>15997</td>\n      <td>1.000000</td>\n    </tr>\n    <tr>\n      <th>5</th>\n      <td>32</td>\n      <td>952</td>\n      <td>0.722466</td>\n    </tr>\n    <tr>\n      <th>6</th>\n      <td>32</td>\n      <td>4382</td>\n      <td>0.378512</td>\n    </tr>\n    <tr>\n      <th>7</th>\n      <td>32</td>\n      <td>4807</td>\n      <td>1.000000</td>\n    </tr>\n    <tr>\n      <th>8</th>\n      <td>32</td>\n      <td>10436</td>\n      <td>1.000000</td>\n    </tr>\n    <tr>\n      <th>9</th>\n      <td>32</td>\n      <td>12132</td>\n      <td>1.000000</td>\n    </tr>\n  </tbody>\n</table>\n</div>"
     },
     "execution_count": 153,
     "metadata": {},
     "output_type": "execute_result"
    }
   ],
   "source": [
    "def smooth_user_preference(x):\n",
    "    return math.log(1+x, 2)\n",
    "\n",
    "interactions_full_df = interactions_from_selected_users_df \\\n",
    "                    .groupby(['user_id', 'item_id'])[Columns.Weight].sum() \\\n",
    "                    .apply(smooth_user_preference).reset_index()\n",
    "print('# of unique user/item interactions: %d' % len(interactions_full_df))\n",
    "interactions_full_df.head(10)"
   ],
   "metadata": {
    "collapsed": false,
    "ExecuteTime": {
     "end_time": "2024-02-09T10:12:59.880529Z",
     "start_time": "2024-02-09T10:12:59.769688Z"
    }
   }
  },
  {
   "cell_type": "code",
   "execution_count": 154,
   "outputs": [
    {
     "name": "stdout",
     "output_type": "stream",
     "text": [
      "# interactions on Train set: 114068\n",
      "# interactions on Test set: 28518\n"
     ]
    }
   ],
   "source": [
    "interactions_train_df, interactions_test_df = train_test_split(interactions_full_df,\n",
    "                                   stratify=interactions_full_df['user_id'],\n",
    "                                   test_size=0.20,\n",
    "                                   random_state=42)\n",
    "\n",
    "print('# interactions on Train set: %d' % len(interactions_train_df))\n",
    "print('# interactions on Test set: %d' % len(interactions_test_df))"
   ],
   "metadata": {
    "collapsed": false,
    "ExecuteTime": {
     "end_time": "2024-02-09T10:13:00.066833Z",
     "start_time": "2024-02-09T10:12:59.893235Z"
    }
   }
  },
  {
   "cell_type": "code",
   "execution_count": 155,
   "outputs": [],
   "source": [
    "interactions_full_indexed_df = interactions_full_df.set_index('user_id')\n",
    "interactions_train_indexed_df = interactions_train_df.set_index('user_id')\n",
    "interactions_test_indexed_df = interactions_test_df.set_index('user_id')"
   ],
   "metadata": {
    "collapsed": false,
    "ExecuteTime": {
     "end_time": "2024-02-09T10:13:00.084344Z",
     "start_time": "2024-02-09T10:13:00.070178Z"
    }
   }
  },
  {
   "cell_type": "code",
   "execution_count": 156,
   "outputs": [
    {
     "data": {
      "text/plain": "         item_id    weight\nuser_id                   \n21           849  0.863938\n21          4345  1.000000\n21         10283  1.000000\n21         12261  1.000000\n21         15997  1.000000\n...          ...       ...\n1097530      849  0.422233\n1097530     4155  0.000000\n1097530     8386  1.000000\n1097530    11237  0.956057\n1097530    11512  0.014355\n\n[142586 rows x 2 columns]",
      "text/html": "<div>\n<style scoped>\n    .dataframe tbody tr th:only-of-type {\n        vertical-align: middle;\n    }\n\n    .dataframe tbody tr th {\n        vertical-align: top;\n    }\n\n    .dataframe thead th {\n        text-align: right;\n    }\n</style>\n<table border=\"1\" class=\"dataframe\">\n  <thead>\n    <tr style=\"text-align: right;\">\n      <th></th>\n      <th>item_id</th>\n      <th>weight</th>\n    </tr>\n    <tr>\n      <th>user_id</th>\n      <th></th>\n      <th></th>\n    </tr>\n  </thead>\n  <tbody>\n    <tr>\n      <th>21</th>\n      <td>849</td>\n      <td>0.863938</td>\n    </tr>\n    <tr>\n      <th>21</th>\n      <td>4345</td>\n      <td>1.000000</td>\n    </tr>\n    <tr>\n      <th>21</th>\n      <td>10283</td>\n      <td>1.000000</td>\n    </tr>\n    <tr>\n      <th>21</th>\n      <td>12261</td>\n      <td>1.000000</td>\n    </tr>\n    <tr>\n      <th>21</th>\n      <td>15997</td>\n      <td>1.000000</td>\n    </tr>\n    <tr>\n      <th>...</th>\n      <td>...</td>\n      <td>...</td>\n    </tr>\n    <tr>\n      <th>1097530</th>\n      <td>849</td>\n      <td>0.422233</td>\n    </tr>\n    <tr>\n      <th>1097530</th>\n      <td>4155</td>\n      <td>0.000000</td>\n    </tr>\n    <tr>\n      <th>1097530</th>\n      <td>8386</td>\n      <td>1.000000</td>\n    </tr>\n    <tr>\n      <th>1097530</th>\n      <td>11237</td>\n      <td>0.956057</td>\n    </tr>\n    <tr>\n      <th>1097530</th>\n      <td>11512</td>\n      <td>0.014355</td>\n    </tr>\n  </tbody>\n</table>\n<p>142586 rows × 2 columns</p>\n</div>"
     },
     "execution_count": 156,
     "metadata": {},
     "output_type": "execute_result"
    }
   ],
   "source": [
    "interactions_full_indexed_df"
   ],
   "metadata": {
    "collapsed": false,
    "ExecuteTime": {
     "end_time": "2024-02-09T10:13:00.116464Z",
     "start_time": "2024-02-09T10:13:00.087972Z"
    }
   }
  },
  {
   "cell_type": "code",
   "execution_count": 157,
   "outputs": [],
   "source": [
    "def get_items_interacted(person_id, interactions_df):\n",
    "    interacted_items = interactions_df.loc[person_id]['item_id']\n",
    "    return set(interacted_items if type(interacted_items) == pd.Series else [interacted_items])"
   ],
   "metadata": {
    "collapsed": false,
    "ExecuteTime": {
     "end_time": "2024-02-09T10:13:00.117023Z",
     "start_time": "2024-02-09T10:13:00.094625Z"
    }
   }
  },
  {
   "cell_type": "markdown",
   "source": [
    "### Модель"
   ],
   "metadata": {
    "collapsed": false
   }
  },
  {
   "cell_type": "code",
   "execution_count": 158,
   "outputs": [],
   "source": [
    "SEED = 42\n",
    "LR = 1e-3\n",
    "WEIGHT_DECAY = 0.01\n",
    "NUM_EPOCHS = 50\n",
    "GAMMA = 0.9995\n",
    "BATCH_SIZE = 3000\n",
    "EVAL_BATCH_SIZE = 3000\n",
    "DEVICE = torch.device(\"cuda\" if torch.cuda.is_available() else \"cpu\")\n",
    "ALPHA = 0.000002"
   ],
   "metadata": {
    "collapsed": false,
    "ExecuteTime": {
     "end_time": "2024-02-09T10:13:00.128187Z",
     "start_time": "2024-02-09T10:13:00.106546Z"
    }
   }
  },
  {
   "cell_type": "code",
   "execution_count": 159,
   "outputs": [
    {
     "data": {
      "text/plain": "        user_id  item_id    weight\n118603   912569    12248  0.014355\n132345  1018293    16174  1.000000\n7771      59037    14576  0.056584\n111698   860942     4475  1.000000\n27380    208326     4471  1.000000\n...         ...      ...       ...\n119816   921437    14359  0.150560\n23641    182319     9132  0.464668\n109281   841121     2358  0.056584\n14547    110832    10974  0.432959\n61835    476480     4223  1.000000\n\n[114068 rows x 3 columns]",
      "text/html": "<div>\n<style scoped>\n    .dataframe tbody tr th:only-of-type {\n        vertical-align: middle;\n    }\n\n    .dataframe tbody tr th {\n        vertical-align: top;\n    }\n\n    .dataframe thead th {\n        text-align: right;\n    }\n</style>\n<table border=\"1\" class=\"dataframe\">\n  <thead>\n    <tr style=\"text-align: right;\">\n      <th></th>\n      <th>user_id</th>\n      <th>item_id</th>\n      <th>weight</th>\n    </tr>\n  </thead>\n  <tbody>\n    <tr>\n      <th>118603</th>\n      <td>912569</td>\n      <td>12248</td>\n      <td>0.014355</td>\n    </tr>\n    <tr>\n      <th>132345</th>\n      <td>1018293</td>\n      <td>16174</td>\n      <td>1.000000</td>\n    </tr>\n    <tr>\n      <th>7771</th>\n      <td>59037</td>\n      <td>14576</td>\n      <td>0.056584</td>\n    </tr>\n    <tr>\n      <th>111698</th>\n      <td>860942</td>\n      <td>4475</td>\n      <td>1.000000</td>\n    </tr>\n    <tr>\n      <th>27380</th>\n      <td>208326</td>\n      <td>4471</td>\n      <td>1.000000</td>\n    </tr>\n    <tr>\n      <th>...</th>\n      <td>...</td>\n      <td>...</td>\n      <td>...</td>\n    </tr>\n    <tr>\n      <th>119816</th>\n      <td>921437</td>\n      <td>14359</td>\n      <td>0.150560</td>\n    </tr>\n    <tr>\n      <th>23641</th>\n      <td>182319</td>\n      <td>9132</td>\n      <td>0.464668</td>\n    </tr>\n    <tr>\n      <th>109281</th>\n      <td>841121</td>\n      <td>2358</td>\n      <td>0.056584</td>\n    </tr>\n    <tr>\n      <th>14547</th>\n      <td>110832</td>\n      <td>10974</td>\n      <td>0.432959</td>\n    </tr>\n    <tr>\n      <th>61835</th>\n      <td>476480</td>\n      <td>4223</td>\n      <td>1.000000</td>\n    </tr>\n  </tbody>\n</table>\n<p>114068 rows × 3 columns</p>\n</div>"
     },
     "execution_count": 159,
     "metadata": {},
     "output_type": "execute_result"
    }
   ],
   "source": [
    "interactions_train_df"
   ],
   "metadata": {
    "collapsed": false,
    "ExecuteTime": {
     "end_time": "2024-02-09T10:13:00.128578Z",
     "start_time": "2024-02-09T10:13:00.116836Z"
    }
   }
  },
  {
   "cell_type": "code",
   "execution_count": 160,
   "outputs": [
    {
     "data": {
      "text/plain": "       user_id  item_id    weight\n0       311215     7029  0.070389\n1       614188    11231  0.400538\n2       270804     9132  0.985500\n3       190245    16135  0.594549\n4      1007513     8618  0.584963\n...        ...      ...       ...\n28513   786701     5669  0.042644\n28514   556782     3095  0.933573\n28515   693897      162  0.807355\n28516   630614    11675  1.000000\n28517   192641     8481  1.000000\n\n[28518 rows x 3 columns]",
      "text/html": "<div>\n<style scoped>\n    .dataframe tbody tr th:only-of-type {\n        vertical-align: middle;\n    }\n\n    .dataframe tbody tr th {\n        vertical-align: top;\n    }\n\n    .dataframe thead th {\n        text-align: right;\n    }\n</style>\n<table border=\"1\" class=\"dataframe\">\n  <thead>\n    <tr style=\"text-align: right;\">\n      <th></th>\n      <th>user_id</th>\n      <th>item_id</th>\n      <th>weight</th>\n    </tr>\n  </thead>\n  <tbody>\n    <tr>\n      <th>0</th>\n      <td>311215</td>\n      <td>7029</td>\n      <td>0.070389</td>\n    </tr>\n    <tr>\n      <th>1</th>\n      <td>614188</td>\n      <td>11231</td>\n      <td>0.400538</td>\n    </tr>\n    <tr>\n      <th>2</th>\n      <td>270804</td>\n      <td>9132</td>\n      <td>0.985500</td>\n    </tr>\n    <tr>\n      <th>3</th>\n      <td>190245</td>\n      <td>16135</td>\n      <td>0.594549</td>\n    </tr>\n    <tr>\n      <th>4</th>\n      <td>1007513</td>\n      <td>8618</td>\n      <td>0.584963</td>\n    </tr>\n    <tr>\n      <th>...</th>\n      <td>...</td>\n      <td>...</td>\n      <td>...</td>\n    </tr>\n    <tr>\n      <th>28513</th>\n      <td>786701</td>\n      <td>5669</td>\n      <td>0.042644</td>\n    </tr>\n    <tr>\n      <th>28514</th>\n      <td>556782</td>\n      <td>3095</td>\n      <td>0.933573</td>\n    </tr>\n    <tr>\n      <th>28515</th>\n      <td>693897</td>\n      <td>162</td>\n      <td>0.807355</td>\n    </tr>\n    <tr>\n      <th>28516</th>\n      <td>630614</td>\n      <td>11675</td>\n      <td>1.000000</td>\n    </tr>\n    <tr>\n      <th>28517</th>\n      <td>192641</td>\n      <td>8481</td>\n      <td>1.000000</td>\n    </tr>\n  </tbody>\n</table>\n<p>28518 rows × 3 columns</p>\n</div>"
     },
     "execution_count": 160,
     "metadata": {},
     "output_type": "execute_result"
    }
   ],
   "source": [
    "interactions_test_indexed_df.reset_index()"
   ],
   "metadata": {
    "collapsed": false,
    "ExecuteTime": {
     "end_time": "2024-02-09T10:13:00.134465Z",
     "start_time": "2024-02-09T10:13:00.120969Z"
    }
   }
  },
  {
   "cell_type": "code",
   "execution_count": 161,
   "outputs": [
    {
     "name": "stderr",
     "output_type": "stream",
     "text": [
      "/var/folders/h3/cbbyygh97m38d_k36y0xqbgr0000gn/T/ipykernel_2711/700758299.py:1: FutureWarning: The frame.append method is deprecated and will be removed from pandas in a future version. Use pandas.concat instead.\n",
      "  total_df = interactions_train_df.append(interactions_test_indexed_df.reset_index())\n"
     ]
    }
   ],
   "source": [
    "total_df = interactions_train_df.append(interactions_test_indexed_df.reset_index())\n",
    "total_df['user_id'], users_keys = total_df.user_id.factorize()\n",
    "total_df['item_id'], items_keys = total_df.item_id.factorize()\n",
    "\n",
    "train_encoded = total_df.iloc[:len(interactions_train_df)].values\n",
    "test_encoded = total_df.iloc[len(interactions_train_df):].values"
   ],
   "metadata": {
    "collapsed": false,
    "ExecuteTime": {
     "end_time": "2024-02-09T10:13:00.259049Z",
     "start_time": "2024-02-09T10:13:00.138123Z"
    }
   }
  },
  {
   "cell_type": "code",
   "execution_count": 162,
   "outputs": [],
   "source": [
    "users_key_dict = {}\n",
    "for i in range(len(users_keys)):\n",
    "    users_key_dict[users_keys[i]] = i"
   ],
   "metadata": {
    "collapsed": false,
    "ExecuteTime": {
     "end_time": "2024-02-09T10:13:00.279298Z",
     "start_time": "2024-02-09T10:13:00.182158Z"
    }
   }
  },
  {
   "cell_type": "code",
   "execution_count": 163,
   "outputs": [],
   "source": [
    "shape = [int(total_df['user_id'].max()+1), int(total_df['item_id'].max()+1)]\n",
    "X_train = csr_matrix((train_encoded[:, 2], (train_encoded[:, 0], train_encoded[:, 1])), shape=shape).toarray()\n",
    "X_test = csr_matrix((test_encoded[:, 2], (test_encoded[:, 0], test_encoded[:, 1])), shape=shape).toarray()"
   ],
   "metadata": {
    "collapsed": false,
    "ExecuteTime": {
     "end_time": "2024-02-09T10:13:00.404015Z",
     "start_time": "2024-02-09T10:13:00.192846Z"
    }
   }
  },
  {
   "cell_type": "code",
   "execution_count": 164,
   "outputs": [],
   "source": [
    "class UserOrientedDataset(Dataset):\n",
    "    def __init__(self, X):\n",
    "        super().__init__()\n",
    "        self.X = X.astype(np.float32)\n",
    "        self.len = len(X)\n",
    "\n",
    "    def __len__(self):\n",
    "        return self.len\n",
    "\n",
    "    def __getitem__(self, index):\n",
    "        return self.X[index]"
   ],
   "metadata": {
    "collapsed": false,
    "ExecuteTime": {
     "end_time": "2024-02-09T10:13:00.406579Z",
     "start_time": "2024-02-09T10:13:00.401426Z"
    }
   }
  },
  {
   "cell_type": "code",
   "execution_count": 165,
   "outputs": [],
   "source": [
    "train_dl = DataLoader(\n",
    "    UserOrientedDataset(X_train),\n",
    "    batch_size = BATCH_SIZE,\n",
    "    shuffle = True\n",
    ")\n",
    "\n",
    "test_dl = DataLoader(\n",
    "    UserOrientedDataset(X_test),\n",
    "    batch_size = EVAL_BATCH_SIZE,\n",
    "    shuffle = False\n",
    ")\n",
    "\n",
    "dls = {'train': train_dl, 'test': test_dl}\n"
   ],
   "metadata": {
    "collapsed": false,
    "ExecuteTime": {
     "end_time": "2024-02-09T10:13:02.541917Z",
     "start_time": "2024-02-09T10:13:00.406926Z"
    }
   }
  },
  {
   "cell_type": "code",
   "execution_count": 166,
   "outputs": [],
   "source": [
    "class Encoder(nn.Module):\n",
    "    def __init__(self, input_size: int, hidden_size: int) -> None:\n",
    "        super(Encoder, self).__init__()\n",
    "        self.relu = nn.ReLU()\n",
    "        self.fc1 = nn.Linear(input_size, 256)\n",
    "        self.bn1 = nn.BatchNorm1d(256)\n",
    "        self.dropout1 = nn.Dropout(0.5)\n",
    "        self.fc2 = nn.Linear(256, hidden_size)\n",
    "\n",
    "    def forward(self, x: torch.Tensor) -> torch.Tensor:\n",
    "        x = self.relu(self.fc1(x))\n",
    "        x = self.bn1(x)\n",
    "        x = self.dropout1(x)\n",
    "        x = self.relu(self.fc2(x))\n",
    "        return x\n",
    "\n",
    "class Decoder(nn.Module):\n",
    "    def __init__(self, hidden_size: int, output_size: int) -> None:\n",
    "        super(Decoder, self).__init__()\n",
    "        self.relu = nn.ReLU()\n",
    "        self.fc1 = nn.Linear(hidden_size, 256)\n",
    "        self.bn1 = nn.BatchNorm1d(256)\n",
    "        self.fc2 = nn.Linear(256, output_size)\n",
    "\n",
    "    def forward(self, x: torch.Tensor) -> torch.Tensor:\n",
    "        x = self.relu(self.fc1(x))\n",
    "        x = self.bn1(x)\n",
    "        x = self.relu(self.fc2(x))\n",
    "        return x\n",
    "\n",
    "class Autoencoder(nn.Module):\n",
    "    def __init__(self, input_size: int = 8248, hidden_size: int = 128) -> None:\n",
    "        super(Autoencoder, self).__init__()\n",
    "        self.encoder = Encoder(input_size, hidden_size)\n",
    "        self.decoder = Decoder(hidden_size, input_size)\n",
    "\n",
    "    def forward(self, x: torch.Tensor) -> torch.Tensor:\n",
    "        x = self.encoder(x)\n",
    "        x = self.decoder(x)\n",
    "        return x"
   ],
   "metadata": {
    "collapsed": false,
    "ExecuteTime": {
     "end_time": "2024-02-09T10:13:02.557735Z",
     "start_time": "2024-02-09T10:13:02.555535Z"
    }
   }
  },
  {
   "cell_type": "code",
   "execution_count": 167,
   "outputs": [],
   "source": [
    "torch.manual_seed(SEED)\n",
    "\n",
    "model = Autoencoder()\n",
    "model.to(DEVICE)\n",
    "\n",
    "optimizer = torch.optim.AdamW(model.parameters(), lr=LR, weight_decay=WEIGHT_DECAY)\n",
    "scheduler = torch.optim.lr_scheduler.ExponentialLR(optimizer, gamma=GAMMA)\n",
    "\n",
    "def rmse_for_sparse(x_pred, x_true):\n",
    "    mask = (x_true > 0)\n",
    "    sq_diff = (x_pred * mask - x_true) ** 2\n",
    "    mse = sq_diff.sum() / mask.sum()\n",
    "    return mse ** (1/2)"
   ],
   "metadata": {
    "collapsed": false,
    "ExecuteTime": {
     "end_time": "2024-02-09T10:13:02.654630Z",
     "start_time": "2024-02-09T10:13:02.576158Z"
    }
   }
  },
  {
   "cell_type": "code",
   "execution_count": 168,
   "outputs": [
    {
     "data": {
      "text/plain": "    Epoch  Train RMSE  Test RMSE\n0       0    0.816113   0.850001\n1       1    0.773413   0.840054\n2       2    0.742213   0.826252\n3       3    0.713708   0.809251\n4       4    0.689716   0.789249\n5       5    0.666499   0.765430\n6       6    0.645937   0.739405\n7       7    0.624002   0.711159\n8       8    0.604461   0.685098\n9       9    0.585675   0.662482\n10     10    0.567623   0.641814\n11     11    0.549417   0.620882\n12     12    0.533041   0.603409\n13     13    0.520258   0.595172\n14     14    0.507945   0.590850\n15     15    0.497079   0.584049\n16     16    0.487026   0.579444\n17     17    0.479004   0.581445\n18     18    0.471678   0.585673\n19     19    0.465894   0.582095\n20     20    0.460092   0.579808\n21     21    0.454544   0.581292\n22     22    0.448053   0.581972\n23     23    0.443819   0.578601\n24     24    0.440698   0.577012\n25     25    0.437629   0.577970\n26     26    0.433984   0.575649\n27     27    0.429972   0.573839\n28     28    0.427488   0.575066\n29     29    0.424023   0.575660\n30     30    0.421778   0.571457\n31     31    0.418647   0.568658\n32     32    0.415767   0.570365\n33     33    0.413826   0.570878\n34     34    0.412208   0.569303\n35     35    0.410171   0.568451\n36     36    0.408786   0.572324\n37     37    0.406688   0.570385\n38     38    0.403669   0.567761\n39     39    0.401871   0.566125\n40     40    0.399785   0.566556\n41     41    0.397943   0.566819\n42     42    0.396103   0.565882\n43     43    0.394903   0.564535\n44     44    0.394643   0.563206\n45     45    0.392589   0.564747\n46     46    0.390832   0.565585\n47     47    0.389680   0.563350\n48     48    0.386342   0.562935\n49     49    0.386157   0.563180",
      "text/html": "<div>\n<style scoped>\n    .dataframe tbody tr th:only-of-type {\n        vertical-align: middle;\n    }\n\n    .dataframe tbody tr th {\n        vertical-align: top;\n    }\n\n    .dataframe thead th {\n        text-align: right;\n    }\n</style>\n<table border=\"1\" class=\"dataframe\">\n  <thead>\n    <tr style=\"text-align: right;\">\n      <th></th>\n      <th>Epoch</th>\n      <th>Train RMSE</th>\n      <th>Test RMSE</th>\n    </tr>\n  </thead>\n  <tbody>\n    <tr>\n      <th>0</th>\n      <td>0</td>\n      <td>0.816113</td>\n      <td>0.850001</td>\n    </tr>\n    <tr>\n      <th>1</th>\n      <td>1</td>\n      <td>0.773413</td>\n      <td>0.840054</td>\n    </tr>\n    <tr>\n      <th>2</th>\n      <td>2</td>\n      <td>0.742213</td>\n      <td>0.826252</td>\n    </tr>\n    <tr>\n      <th>3</th>\n      <td>3</td>\n      <td>0.713708</td>\n      <td>0.809251</td>\n    </tr>\n    <tr>\n      <th>4</th>\n      <td>4</td>\n      <td>0.689716</td>\n      <td>0.789249</td>\n    </tr>\n    <tr>\n      <th>5</th>\n      <td>5</td>\n      <td>0.666499</td>\n      <td>0.765430</td>\n    </tr>\n    <tr>\n      <th>6</th>\n      <td>6</td>\n      <td>0.645937</td>\n      <td>0.739405</td>\n    </tr>\n    <tr>\n      <th>7</th>\n      <td>7</td>\n      <td>0.624002</td>\n      <td>0.711159</td>\n    </tr>\n    <tr>\n      <th>8</th>\n      <td>8</td>\n      <td>0.604461</td>\n      <td>0.685098</td>\n    </tr>\n    <tr>\n      <th>9</th>\n      <td>9</td>\n      <td>0.585675</td>\n      <td>0.662482</td>\n    </tr>\n    <tr>\n      <th>10</th>\n      <td>10</td>\n      <td>0.567623</td>\n      <td>0.641814</td>\n    </tr>\n    <tr>\n      <th>11</th>\n      <td>11</td>\n      <td>0.549417</td>\n      <td>0.620882</td>\n    </tr>\n    <tr>\n      <th>12</th>\n      <td>12</td>\n      <td>0.533041</td>\n      <td>0.603409</td>\n    </tr>\n    <tr>\n      <th>13</th>\n      <td>13</td>\n      <td>0.520258</td>\n      <td>0.595172</td>\n    </tr>\n    <tr>\n      <th>14</th>\n      <td>14</td>\n      <td>0.507945</td>\n      <td>0.590850</td>\n    </tr>\n    <tr>\n      <th>15</th>\n      <td>15</td>\n      <td>0.497079</td>\n      <td>0.584049</td>\n    </tr>\n    <tr>\n      <th>16</th>\n      <td>16</td>\n      <td>0.487026</td>\n      <td>0.579444</td>\n    </tr>\n    <tr>\n      <th>17</th>\n      <td>17</td>\n      <td>0.479004</td>\n      <td>0.581445</td>\n    </tr>\n    <tr>\n      <th>18</th>\n      <td>18</td>\n      <td>0.471678</td>\n      <td>0.585673</td>\n    </tr>\n    <tr>\n      <th>19</th>\n      <td>19</td>\n      <td>0.465894</td>\n      <td>0.582095</td>\n    </tr>\n    <tr>\n      <th>20</th>\n      <td>20</td>\n      <td>0.460092</td>\n      <td>0.579808</td>\n    </tr>\n    <tr>\n      <th>21</th>\n      <td>21</td>\n      <td>0.454544</td>\n      <td>0.581292</td>\n    </tr>\n    <tr>\n      <th>22</th>\n      <td>22</td>\n      <td>0.448053</td>\n      <td>0.581972</td>\n    </tr>\n    <tr>\n      <th>23</th>\n      <td>23</td>\n      <td>0.443819</td>\n      <td>0.578601</td>\n    </tr>\n    <tr>\n      <th>24</th>\n      <td>24</td>\n      <td>0.440698</td>\n      <td>0.577012</td>\n    </tr>\n    <tr>\n      <th>25</th>\n      <td>25</td>\n      <td>0.437629</td>\n      <td>0.577970</td>\n    </tr>\n    <tr>\n      <th>26</th>\n      <td>26</td>\n      <td>0.433984</td>\n      <td>0.575649</td>\n    </tr>\n    <tr>\n      <th>27</th>\n      <td>27</td>\n      <td>0.429972</td>\n      <td>0.573839</td>\n    </tr>\n    <tr>\n      <th>28</th>\n      <td>28</td>\n      <td>0.427488</td>\n      <td>0.575066</td>\n    </tr>\n    <tr>\n      <th>29</th>\n      <td>29</td>\n      <td>0.424023</td>\n      <td>0.575660</td>\n    </tr>\n    <tr>\n      <th>30</th>\n      <td>30</td>\n      <td>0.421778</td>\n      <td>0.571457</td>\n    </tr>\n    <tr>\n      <th>31</th>\n      <td>31</td>\n      <td>0.418647</td>\n      <td>0.568658</td>\n    </tr>\n    <tr>\n      <th>32</th>\n      <td>32</td>\n      <td>0.415767</td>\n      <td>0.570365</td>\n    </tr>\n    <tr>\n      <th>33</th>\n      <td>33</td>\n      <td>0.413826</td>\n      <td>0.570878</td>\n    </tr>\n    <tr>\n      <th>34</th>\n      <td>34</td>\n      <td>0.412208</td>\n      <td>0.569303</td>\n    </tr>\n    <tr>\n      <th>35</th>\n      <td>35</td>\n      <td>0.410171</td>\n      <td>0.568451</td>\n    </tr>\n    <tr>\n      <th>36</th>\n      <td>36</td>\n      <td>0.408786</td>\n      <td>0.572324</td>\n    </tr>\n    <tr>\n      <th>37</th>\n      <td>37</td>\n      <td>0.406688</td>\n      <td>0.570385</td>\n    </tr>\n    <tr>\n      <th>38</th>\n      <td>38</td>\n      <td>0.403669</td>\n      <td>0.567761</td>\n    </tr>\n    <tr>\n      <th>39</th>\n      <td>39</td>\n      <td>0.401871</td>\n      <td>0.566125</td>\n    </tr>\n    <tr>\n      <th>40</th>\n      <td>40</td>\n      <td>0.399785</td>\n      <td>0.566556</td>\n    </tr>\n    <tr>\n      <th>41</th>\n      <td>41</td>\n      <td>0.397943</td>\n      <td>0.566819</td>\n    </tr>\n    <tr>\n      <th>42</th>\n      <td>42</td>\n      <td>0.396103</td>\n      <td>0.565882</td>\n    </tr>\n    <tr>\n      <th>43</th>\n      <td>43</td>\n      <td>0.394903</td>\n      <td>0.564535</td>\n    </tr>\n    <tr>\n      <th>44</th>\n      <td>44</td>\n      <td>0.394643</td>\n      <td>0.563206</td>\n    </tr>\n    <tr>\n      <th>45</th>\n      <td>45</td>\n      <td>0.392589</td>\n      <td>0.564747</td>\n    </tr>\n    <tr>\n      <th>46</th>\n      <td>46</td>\n      <td>0.390832</td>\n      <td>0.565585</td>\n    </tr>\n    <tr>\n      <th>47</th>\n      <td>47</td>\n      <td>0.389680</td>\n      <td>0.563350</td>\n    </tr>\n    <tr>\n      <th>48</th>\n      <td>48</td>\n      <td>0.386342</td>\n      <td>0.562935</td>\n    </tr>\n    <tr>\n      <th>49</th>\n      <td>49</td>\n      <td>0.386157</td>\n      <td>0.563180</td>\n    </tr>\n  </tbody>\n</table>\n</div>"
     },
     "metadata": {},
     "output_type": "display_data"
    }
   ],
   "source": [
    "metrics_dict = {\n",
    "    \"Epoch\": [],\n",
    "    \"Train RMSE\": [],\n",
    "    \"Test RMSE\": [],\n",
    "}\n",
    "\n",
    "for epoch in range(NUM_EPOCHS):\n",
    "    metrics_dict[\"Epoch\"].append(epoch)\n",
    "    for stage in ['train', 'test']:\n",
    "        with torch.set_grad_enabled(stage == 'train'):\n",
    "            if stage == 'train':\n",
    "                model.train()\n",
    "            else:\n",
    "                model.eval()\n",
    "\n",
    "            loss_at_stage = 0\n",
    "            for batch in dls[stage]:\n",
    "                batch = batch.to(DEVICE)\n",
    "                x_pred = model(batch)\n",
    "                loss = rmse_for_sparse(x_pred, batch)\n",
    "                if stage == \"train\":\n",
    "                    loss.backward()\n",
    "                    optimizer.step()\n",
    "                    scheduler.step()\n",
    "                    optimizer.zero_grad()\n",
    "                loss_at_stage += loss.item() * len(batch)\n",
    "            rmse_at_stage = (loss_at_stage / len(dls[stage].dataset)) ** (1/2)\n",
    "            metrics_dict[f\"{stage.title()} RMSE\"].append(rmse_at_stage)\n",
    "\n",
    "    if (epoch == NUM_EPOCHS - 1) or epoch % 10 == 9:\n",
    "        clear_output(wait=True)\n",
    "        display(pd.DataFrame(metrics_dict))"
   ],
   "metadata": {
    "collapsed": false
   }
  },
  {
   "cell_type": "code",
   "execution_count": 169,
   "outputs": [],
   "source": [
    "model.eval()\n",
    "torch.save(model.state_dict(), '/Users/tanchik/Desktop/Настоящее/учеба/RecSys/RecoServiceTemplate/service/api/recsys/models/autoencoder.ckpt')"
   ],
   "metadata": {
    "collapsed": false,
    "ExecuteTime": {
     "end_time": "2024-02-09T10:17:12.163869Z",
     "start_time": "2024-02-09T10:17:12.067204Z"
    }
   }
  },
  {
   "cell_type": "code",
   "execution_count": 170,
   "outputs": [
    {
     "data": {
      "text/plain": "<All keys matched successfully>"
     },
     "execution_count": 170,
     "metadata": {},
     "output_type": "execute_result"
    }
   ],
   "source": [
    "model = Autoencoder()\n",
    "model.load_state_dict(torch.load('/Users/tanchik/Desktop/Настоящее/учеба/RecSys/RecoServiceTemplate/service/api/recsys/models/autoencoder.ckpt'))"
   ],
   "metadata": {
    "collapsed": false,
    "ExecuteTime": {
     "end_time": "2024-02-09T10:17:12.184637Z",
     "start_time": "2024-02-09T10:17:12.119906Z"
    }
   }
  },
  {
   "cell_type": "code",
   "execution_count": 171,
   "outputs": [],
   "source": [
    "model.eval()\n",
    "with torch.no_grad():\n",
    "    X_pred = model(torch.Tensor(X_train + X_test).to(DEVICE)).cpu().detach().numpy()"
   ],
   "metadata": {
    "collapsed": false,
    "ExecuteTime": {
     "end_time": "2024-02-09T10:17:16.386111Z",
     "start_time": "2024-02-09T10:17:12.169667Z"
    }
   }
  },
  {
   "cell_type": "code",
   "execution_count": 172,
   "outputs": [],
   "source": [
    "popular = np.load('/Users/tanchik/Desktop/Настоящее/учеба/RecSys/RecoServiceTemplate/service/api/recsys/models/popular.npy')"
   ],
   "metadata": {
    "collapsed": false,
    "ExecuteTime": {
     "end_time": "2024-02-09T10:17:16.395227Z",
     "start_time": "2024-02-09T10:17:16.390513Z"
    }
   }
  },
  {
   "cell_type": "code",
   "execution_count": 182,
   "outputs": [],
   "source": [
    "class AutoencoderRecommender:\n",
    "    def __init__(\n",
    "        self,\n",
    "        X_preds: np.ndarray,\n",
    "        X_train_and_val: np.ndarray,\n",
    "        X_test: np.ndarray,\n",
    "        users_key_dict: Dict[int, int],\n",
    "        items_keys: np.ndarray,\n",
    "        popular: np.ndarray\n",
    "    ) -> None:\n",
    "        self.X_preds = X_preds\n",
    "        self.X_train = X_train_and_val\n",
    "        self.X_test = X_test\n",
    "        self.X_total = X_train_and_val + X_test\n",
    "        self.users_key_dict = users_key_dict\n",
    "        self.items_keys = np.array(items_keys)\n",
    "        self.popular = popular\n",
    "\n",
    "    def recommend_items(self, user_id: int, items_to_select_idx: np.ndarray, topn: int = 10) -> np.ndarray:\n",
    "        user_preds = self.X_preds[user_id][items_to_select_idx]\n",
    "        items_idx = items_to_select_idx[np.argsort(-user_preds)[:topn]]\n",
    "        return items_idx\n",
    "\n",
    "    def evaluate(self) -> Dict[str, float]:\n",
    "        true_5, true_10 = [], []\n",
    "\n",
    "        for user_id in range(len(self.X_test)):\n",
    "            non_zero = np.argwhere(self.X_test[user_id] > 0).ravel()\n",
    "            all_nonzero = np.argwhere(self.X_total[user_id] > 0).ravel()\n",
    "            select_from = np.setdiff1d(np.arange(self.X_total.shape[1]), all_nonzero)\n",
    "\n",
    "            for non_zero_idx in non_zero:\n",
    "                random_non_interacted_100_items = np.random.choice(select_from, size=100, replace=False)\n",
    "                preds = self.recommend_items(user_id, np.append(random_non_interacted_100_items, non_zero_idx), topn=10)\n",
    "                true_5.append(non_zero_idx in preds[:5])\n",
    "                true_10.append(non_zero_idx in preds)\n",
    "\n",
    "        return {\"recall@5\": np.mean(true_5), \"recall@10\": np.mean(true_10)}\n",
    "\n",
    "    def add_popular(self, item_ids: np.ndarray) -> np.ndarray:\n",
    "        mask = ~np.isin(self.popular, item_ids)\n",
    "        filtered_popular = self.popular[mask]\n",
    "        combined = np.concatenate([item_ids, filtered_popular])\n",
    "        combined = combined.astype(int)\n",
    "        result = combined[:self.N]\n",
    "        return result\n",
    "\n",
    "    def recommend(self, user_id: Union[int, str], topn: int = 10) -> List[int]:\n",
    "        uid = self.users_key_dict.get(user_id, None)\n",
    "        if uid is None:\n",
    "            return self.popular[:topn].tolist()\n",
    "        all_nonzero = np.argwhere(self.X_total[uid] > 0).ravel()\n",
    "        select_from = np.setdiff1d(np.arange(self.X_total.shape[1]), all_nonzero)\n",
    "        preds = self.X_preds[uid][select_from]\n",
    "        items_idx = select_from[np.argsort(-preds)[:topn]]\n",
    "        items = [self.items_keys[item_idx] for item_idx in items_idx]\n",
    "        if len(items) < topn:\n",
    "            items = self.add_popular(items)\n",
    "        return items\n",
    "\n",
    "    def save(self, file_path: str) -> None:\n",
    "        np.save(file_path + 'autoencoder_x_train.npy', self.X_train)\n",
    "        np.save(file_path + 'autoencoder_x_test.npy', self.X_test)\n",
    "        np.save(file_path + 'autoencoder_x_pred.npy', self.X_preds)\n",
    "        self.users_key_dict = {int(key): item for key, item in self.users_key_dict.items()}\n",
    "        with open(file_path + 'autoencoder_users_key_dict.json', 'w') as json_file:\n",
    "            json.dump(self.users_key_dict, json_file)\n",
    "        np.save(file_path + 'autoencoder_items_keys.npy', self.items_keys)\n",
    "\n",
    "    @classmethod\n",
    "    def load(cls, file_path: str) -> 'AutoencoderRecommender':\n",
    "        X_train = np.load(file_path + 'autoencoder_x_train.npy')\n",
    "        X_test = np.load(file_path + 'autoencoder_x_test.npy')\n",
    "        X_preds = np.load(file_path + 'autoencoder_x_pred.npy')\n",
    "\n",
    "        with open(file_path + 'autoencoder_users_key_dict.json', 'r') as json_file:\n",
    "            users_key_dict = json.load(json_file)\n",
    "            users_key_dict = {int(k): int(v) for k, v in users_key_dict.items()}\n",
    "\n",
    "        items_keys = np.load(file_path + 'autoencoder_items_keys.npy')\n",
    "        popular = np.load(file_path + 'popular.npy')\n",
    "\n",
    "        return AutoencoderRecommender(X_preds, X_train, X_test, users_key_dict, items_keys, popular)"
   ],
   "metadata": {
    "collapsed": false,
    "ExecuteTime": {
     "end_time": "2024-02-09T10:25:10.484835Z",
     "start_time": "2024-02-09T10:25:10.480225Z"
    }
   }
  },
  {
   "cell_type": "code",
   "execution_count": 183,
   "outputs": [],
   "source": [
    "ae_recommender_model = AutoencoderRecommender(X_pred, X_train, X_test, users_key_dict, items_keys, popular)"
   ],
   "metadata": {
    "collapsed": false,
    "ExecuteTime": {
     "end_time": "2024-02-09T10:25:13.646453Z",
     "start_time": "2024-02-09T10:25:11.922018Z"
    }
   }
  },
  {
   "cell_type": "code",
   "execution_count": 177,
   "outputs": [
    {
     "data": {
      "text/plain": "{'recall@5': 0.17729332708235662, 'recall@10': 0.30352398812314424}"
     },
     "execution_count": 177,
     "metadata": {},
     "output_type": "execute_result"
    }
   ],
   "source": [
    "ae_recommender_model.evaluate()"
   ],
   "metadata": {
    "collapsed": false,
    "ExecuteTime": {
     "end_time": "2024-02-09T10:17:35.389012Z",
     "start_time": "2024-02-09T10:17:26.795630Z"
    }
   }
  },
  {
   "cell_type": "code",
   "execution_count": 184,
   "outputs": [
    {
     "data": {
      "text/plain": "[10927, 3646, 2837, 921, 6425, 2384, 12576, 14280, 6986, 10535]"
     },
     "execution_count": 184,
     "metadata": {},
     "output_type": "execute_result"
    }
   ],
   "source": [
    "ae_recommender_model.recommend(122432)"
   ],
   "metadata": {
    "collapsed": false,
    "ExecuteTime": {
     "end_time": "2024-02-09T10:25:14.191131Z",
     "start_time": "2024-02-09T10:25:14.183201Z"
    }
   }
  },
  {
   "cell_type": "code",
   "execution_count": 185,
   "outputs": [],
   "source": [
    "ae_recommender_model.save('/Users/tanchik/Desktop/Настоящее/учеба/RecSys/RecoServiceTemplate/service/api/recsys/models/')"
   ],
   "metadata": {
    "collapsed": false,
    "ExecuteTime": {
     "end_time": "2024-02-09T10:25:19.386039Z",
     "start_time": "2024-02-09T10:25:16.065351Z"
    }
   }
  },
  {
   "cell_type": "code",
   "execution_count": 186,
   "outputs": [],
   "source": [
    "loaded_model = AutoencoderRecommender.load('/Users/tanchik/Desktop/Настоящее/учеба/RecSys/RecoServiceTemplate/service/api/recsys/models/')"
   ],
   "metadata": {
    "collapsed": false,
    "ExecuteTime": {
     "end_time": "2024-02-09T10:25:24.485578Z",
     "start_time": "2024-02-09T10:25:20.034108Z"
    }
   }
  },
  {
   "cell_type": "code",
   "execution_count": 187,
   "outputs": [
    {
     "data": {
      "text/plain": "[10927, 3646, 2837, 921, 6425, 2384, 12576, 14280, 6986, 10535]"
     },
     "execution_count": 187,
     "metadata": {},
     "output_type": "execute_result"
    }
   ],
   "source": [
    "loaded_model.recommend(122432)"
   ],
   "metadata": {
    "collapsed": false,
    "ExecuteTime": {
     "end_time": "2024-02-09T10:25:25.308949Z",
     "start_time": "2024-02-09T10:25:25.298114Z"
    }
   }
  },
  {
   "cell_type": "code",
   "execution_count": null,
   "outputs": [],
   "source": [],
   "metadata": {
    "collapsed": false
   }
  }
 ],
 "metadata": {
  "kernelspec": {
   "display_name": "Python 3",
   "language": "python",
   "name": "python3"
  },
  "language_info": {
   "codemirror_mode": {
    "name": "ipython",
    "version": 2
   },
   "file_extension": ".py",
   "mimetype": "text/x-python",
   "name": "python",
   "nbconvert_exporter": "python",
   "pygments_lexer": "ipython2",
   "version": "2.7.6"
  }
 },
 "nbformat": 4,
 "nbformat_minor": 0
}
