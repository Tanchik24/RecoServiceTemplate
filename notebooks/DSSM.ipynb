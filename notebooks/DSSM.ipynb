{
 "cells": [
  {
   "cell_type": "code",
   "execution_count": null,
   "outputs": [],
   "source": [
    "from pathlib import Path\n",
    "from random import randint\n",
    "from sklearn.preprocessing import MultiLabelBinarizer\n",
    "from collections import Counter\n",
    "import pandas as pd\n",
    "from rectools import Columns\n",
    "from sentence_transformers import SentenceTransformer\n",
    "from torch.utils.data import Dataset, DataLoader\n",
    "import torch\n",
    "import numpy as np\n",
    "import faiss\n",
    "from tensorflow import keras\n",
    "import tensorflow.keras.backend as K\n",
    "import matplotlib.pyplot as plt\n",
    "import seaborn as sns\n",
    "import pickle"
   ],
   "metadata": {
    "collapsed": false,
    "is_executing": true
   }
  },
  {
   "cell_type": "code",
   "execution_count": 270,
   "metadata": {
    "collapsed": true,
    "ExecuteTime": {
     "end_time": "2024-02-08T11:10:49.033202Z",
     "start_time": "2024-02-08T11:10:45.117230Z"
    }
   },
   "outputs": [],
   "source": [
    "DATA_PATH = Path(\"/Users/tanchik/Desktop/Настоящее/учеба/RecSys/RecoServiceTemplate/kion_train\")\n",
    "users_df = pd.read_csv(DATA_PATH / 'users.csv')\n",
    "items_df = pd.read_csv(DATA_PATH / 'items.csv')\n",
    "interactions = pd.read_csv(DATA_PATH / 'interactions.csv')"
   ]
  },
  {
   "cell_type": "code",
   "execution_count": 271,
   "outputs": [
    {
     "data": {
      "text/plain": "(5476251, 5)"
     },
     "execution_count": 271,
     "metadata": {},
     "output_type": "execute_result"
    }
   ],
   "source": [
    "interactions.shape"
   ],
   "metadata": {
    "collapsed": false,
    "ExecuteTime": {
     "end_time": "2024-02-08T11:10:49.041985Z",
     "start_time": "2024-02-08T11:10:49.036876Z"
    }
   }
  },
  {
   "cell_type": "code",
   "execution_count": 272,
   "outputs": [],
   "source": [
    "interactions_df = interactions.drop(columns='total_dur')\n",
    "interactions_df['watched_pct'] = interactions_df['watched_pct'] / 100\n",
    "interactions_df.rename(columns={'user_id': Columns.User, 'item_id': Columns.Item,\n",
    "                                'last_watch_dt': Columns.Datetime, 'watched_pct': Columns.Weight}, inplace=True)\n",
    "interactions_df.dropna(inplace=True)"
   ],
   "metadata": {
    "collapsed": false,
    "ExecuteTime": {
     "end_time": "2024-02-08T11:10:50.176441Z",
     "start_time": "2024-02-08T11:10:49.084086Z"
    }
   }
  },
  {
   "cell_type": "markdown",
   "source": [
    "### Избавляемся от пропущенных значений"
   ],
   "metadata": {
    "collapsed": false
   }
  },
  {
   "cell_type": "code",
   "execution_count": 273,
   "outputs": [
    {
     "data": {
      "text/plain": "title_orig      0.297250\nrelease_year    0.006139\ncountries       0.002318\nfor_kids        0.964543\nage_rating      0.000125\nstudios         0.933283\ndirectors       0.094531\nactors          0.164067\ndescription     0.000125\nkeywords        0.026499\ndtype: float64"
     },
     "execution_count": 273,
     "metadata": {},
     "output_type": "execute_result"
    }
   ],
   "source": [
    "mask = items_df.isnull().mean() > 0\n",
    "items_df.isnull().mean()[mask]"
   ],
   "metadata": {
    "collapsed": false,
    "ExecuteTime": {
     "end_time": "2024-02-08T11:10:50.273901Z",
     "start_time": "2024-02-08T11:10:50.212081Z"
    }
   }
  },
  {
   "cell_type": "markdown",
   "source": [
    "Удалю колнки с большим количестовм пропусков + в остальных случаях удалю строки"
   ],
   "metadata": {
    "collapsed": false
   }
  },
  {
   "cell_type": "code",
   "execution_count": 274,
   "outputs": [
    {
     "name": "stdout",
     "output_type": "stream",
     "text": [
      "(15963, 14)\n",
      "(14451, 6)\n"
     ]
    }
   ],
   "source": [
    "print(items_df.shape)\n",
    "items_df = items_df[['item_id', 'release_year', 'countries', 'age_rating', 'directors', 'description']]\n",
    "items_df = items_df.dropna(axis=0)\n",
    "print(items_df.shape)"
   ],
   "metadata": {
    "collapsed": false,
    "ExecuteTime": {
     "end_time": "2024-02-08T11:10:50.323282Z",
     "start_time": "2024-02-08T11:10:50.305413Z"
    }
   }
  },
  {
   "cell_type": "code",
   "execution_count": 275,
   "outputs": [
    {
     "name": "stdout",
     "output_type": "stream",
     "text": [
      "(840197, 5)\n",
      "(818683, 5)\n"
     ]
    }
   ],
   "source": [
    "print(users_df.shape)\n",
    "mask = users_df.isnull().mean() > 0\n",
    "users_df.isnull().mean()[mask]\n",
    "users_df = users_df.dropna(axis=0)\n",
    "print(users_df.shape)"
   ],
   "metadata": {
    "collapsed": false,
    "ExecuteTime": {
     "end_time": "2024-02-08T11:10:51.350485Z",
     "start_time": "2024-02-08T11:10:50.326439Z"
    }
   }
  },
  {
   "cell_type": "markdown",
   "source": [
    "### Отфильтрую пользователей"
   ],
   "metadata": {
    "collapsed": false
   }
  },
  {
   "cell_type": "code",
   "execution_count": 276,
   "outputs": [
    {
     "name": "stdout",
     "output_type": "stream",
     "text": [
      "N users before: 962151\n",
      "N items before: 15605\n",
      "\n",
      "N users after: 79515\n",
      "N items after: 6901\n"
     ]
    }
   ],
   "source": [
    "print(f\"N users before: {interactions_df.user_id.nunique()}\")\n",
    "print(f\"N items before: {interactions_df.item_id.nunique()}\\n\")\n",
    "\n",
    "interactions_df = interactions_df[interactions_df.weight > 0.1]\n",
    "\n",
    "valid_users = []\n",
    "\n",
    "c = Counter(interactions_df.user_id)\n",
    "for user_id, entries in c.most_common():\n",
    "    if entries > 10:\n",
    "        valid_users.append(user_id)\n",
    "\n",
    "valid_items = []\n",
    "\n",
    "c = Counter(interactions_df.item_id)\n",
    "for item_id, entries in c.most_common():\n",
    "    if entries > 10:\n",
    "        valid_items.append(item_id)\n",
    "\n",
    "interactions_df = interactions_df[interactions_df.user_id.isin(valid_users)]\n",
    "interactions_df = interactions_df[interactions_df.item_id.isin(valid_items)]\n",
    "\n",
    "print(f\"N users after: {interactions_df.user_id.nunique()}\")\n",
    "print(f\"N items after: {interactions_df.item_id.nunique()}\")"
   ],
   "metadata": {
    "collapsed": false,
    "ExecuteTime": {
     "end_time": "2024-02-08T11:10:55.080473Z",
     "start_time": "2024-02-08T11:10:51.357597Z"
    }
   }
  },
  {
   "cell_type": "code",
   "execution_count": 277,
   "outputs": [
    {
     "name": "stdout",
     "output_type": "stream",
     "text": [
      "количество user_id в interactions_df = 65024\n",
      "количество user_id в users_df = 65024\n",
      "количество item_id в interactions_df = 6691\n",
      "количество item_id в items_df = 6691\n"
     ]
    }
   ],
   "source": [
    "common_users = set(interactions_df.user_id.unique()).intersection(set(users_df.user_id.unique()))\n",
    "common_items = set(interactions_df.item_id.unique()).intersection(set(items_df.item_id.unique()))\n",
    "\n",
    "interactions_df = interactions_df[interactions_df.user_id.isin(common_users) & interactions_df.item_id.isin(common_items)]\n",
    "\n",
    "common_users = set(interactions_df.user_id.unique())\n",
    "common_items = set(interactions_df.item_id.unique())\n",
    "\n",
    "users_df = users_df[users_df.user_id.isin(common_users)]\n",
    "items_df = items_df[items_df.item_id.isin(common_items)]\n",
    "\n",
    "print(f'количество user_id в interactions_df = {interactions_df.user_id.nunique()}')\n",
    "print(f'количество user_id в users_df = {users_df.user_id.nunique()}')\n",
    "print(f'количество item_id в interactions_df = {interactions_df.item_id.nunique()}')\n",
    "print(f'количество item_id в items_df = {items_df.item_id.nunique()}')"
   ],
   "metadata": {
    "collapsed": false,
    "ExecuteTime": {
     "end_time": "2024-02-08T11:10:55.697755Z",
     "start_time": "2024-02-08T11:10:55.086273Z"
    }
   }
  },
  {
   "cell_type": "code",
   "execution_count": 278,
   "outputs": [],
   "source": [
    "interactions_df = interactions_df.reset_index(drop=True)\n",
    "users_df = users_df.reset_index(drop=True)\n",
    "items_df = items_df.reset_index(drop=True)"
   ],
   "metadata": {
    "collapsed": false,
    "ExecuteTime": {
     "end_time": "2024-02-08T11:10:55.748029Z",
     "start_time": "2024-02-08T11:10:55.699765Z"
    }
   }
  },
  {
   "cell_type": "markdown",
   "source": [
    "## Готовлю фичи"
   ],
   "metadata": {
    "collapsed": false
   }
  },
  {
   "cell_type": "markdown",
   "source": [
    "### Фичи для пользователя"
   ],
   "metadata": {
    "collapsed": false
   }
  },
  {
   "cell_type": "code",
   "execution_count": 279,
   "outputs": [
    {
     "data": {
      "text/plain": "   user_id  age_age_18_24  age_age_25_34  age_age_35_44  age_age_45_54  \\\n0   721985              0              0              0              1   \n1   269408              0              0              1              0   \n2   384532              0              1              0              0   \n3   723106              1              0              0              0   \n4   216495              0              1              0              0   \n\n   age_age_55_64  age_age_65_inf  income_income_0_20  income_income_150_inf  \\\n0              0               0                   0                      0   \n1              0               0                   0                      0   \n2              0               0                   0                      0   \n3              0               0                   0                      0   \n4              0               0                   0                      0   \n\n   income_income_20_40  income_income_40_60  income_income_60_90  \\\n0                    1                    0                    0   \n1                    1                    0                    0   \n2                    0                    1                    0   \n3                    0                    1                    0   \n4                    1                    0                    0   \n\n   income_income_90_150  sex_Ж  sex_М  kids_flg_0  kids_flg_1  \n0                     0      1      0           1           0  \n1                     0      1      0           0           1  \n2                     0      0      1           0           1  \n3                     0      1      0           1           0  \n4                     0      0      1           1           0  ",
      "text/html": "<div>\n<style scoped>\n    .dataframe tbody tr th:only-of-type {\n        vertical-align: middle;\n    }\n\n    .dataframe tbody tr th {\n        vertical-align: top;\n    }\n\n    .dataframe thead th {\n        text-align: right;\n    }\n</style>\n<table border=\"1\" class=\"dataframe\">\n  <thead>\n    <tr style=\"text-align: right;\">\n      <th></th>\n      <th>user_id</th>\n      <th>age_age_18_24</th>\n      <th>age_age_25_34</th>\n      <th>age_age_35_44</th>\n      <th>age_age_45_54</th>\n      <th>age_age_55_64</th>\n      <th>age_age_65_inf</th>\n      <th>income_income_0_20</th>\n      <th>income_income_150_inf</th>\n      <th>income_income_20_40</th>\n      <th>income_income_40_60</th>\n      <th>income_income_60_90</th>\n      <th>income_income_90_150</th>\n      <th>sex_Ж</th>\n      <th>sex_М</th>\n      <th>kids_flg_0</th>\n      <th>kids_flg_1</th>\n    </tr>\n  </thead>\n  <tbody>\n    <tr>\n      <th>0</th>\n      <td>721985</td>\n      <td>0</td>\n      <td>0</td>\n      <td>0</td>\n      <td>1</td>\n      <td>0</td>\n      <td>0</td>\n      <td>0</td>\n      <td>0</td>\n      <td>1</td>\n      <td>0</td>\n      <td>0</td>\n      <td>0</td>\n      <td>1</td>\n      <td>0</td>\n      <td>1</td>\n      <td>0</td>\n    </tr>\n    <tr>\n      <th>1</th>\n      <td>269408</td>\n      <td>0</td>\n      <td>0</td>\n      <td>1</td>\n      <td>0</td>\n      <td>0</td>\n      <td>0</td>\n      <td>0</td>\n      <td>0</td>\n      <td>1</td>\n      <td>0</td>\n      <td>0</td>\n      <td>0</td>\n      <td>1</td>\n      <td>0</td>\n      <td>0</td>\n      <td>1</td>\n    </tr>\n    <tr>\n      <th>2</th>\n      <td>384532</td>\n      <td>0</td>\n      <td>1</td>\n      <td>0</td>\n      <td>0</td>\n      <td>0</td>\n      <td>0</td>\n      <td>0</td>\n      <td>0</td>\n      <td>0</td>\n      <td>1</td>\n      <td>0</td>\n      <td>0</td>\n      <td>0</td>\n      <td>1</td>\n      <td>0</td>\n      <td>1</td>\n    </tr>\n    <tr>\n      <th>3</th>\n      <td>723106</td>\n      <td>1</td>\n      <td>0</td>\n      <td>0</td>\n      <td>0</td>\n      <td>0</td>\n      <td>0</td>\n      <td>0</td>\n      <td>0</td>\n      <td>0</td>\n      <td>1</td>\n      <td>0</td>\n      <td>0</td>\n      <td>1</td>\n      <td>0</td>\n      <td>1</td>\n      <td>0</td>\n    </tr>\n    <tr>\n      <th>4</th>\n      <td>216495</td>\n      <td>0</td>\n      <td>1</td>\n      <td>0</td>\n      <td>0</td>\n      <td>0</td>\n      <td>0</td>\n      <td>0</td>\n      <td>0</td>\n      <td>1</td>\n      <td>0</td>\n      <td>0</td>\n      <td>0</td>\n      <td>0</td>\n      <td>1</td>\n      <td>1</td>\n      <td>0</td>\n    </tr>\n  </tbody>\n</table>\n</div>"
     },
     "execution_count": 279,
     "metadata": {},
     "output_type": "execute_result"
    }
   ],
   "source": [
    "user_cat_feats = [\"age\", \"income\", \"sex\", \"kids_flg\"]\n",
    "users_ohe_df = users_df.user_id\n",
    "for feat in user_cat_feats:\n",
    "    ohe_feat_df = pd.get_dummies(users_df[feat], prefix=feat)\n",
    "    users_ohe_df = pd.concat([users_ohe_df, ohe_feat_df], axis=1)\n",
    "\n",
    "users_ohe_df.head()"
   ],
   "metadata": {
    "collapsed": false,
    "ExecuteTime": {
     "end_time": "2024-02-08T11:10:55.801154Z",
     "start_time": "2024-02-08T11:10:55.746498Z"
    }
   }
  },
  {
   "cell_type": "markdown",
   "source": [
    "### Фичи для айтема"
   ],
   "metadata": {
    "collapsed": false
   }
  },
  {
   "cell_type": "code",
   "execution_count": 280,
   "outputs": [],
   "source": [
    "def categorize_popularity(popularity):\n",
    "    if popularity >= 0.75:\n",
    "        return 'High Popularity'\n",
    "    elif popularity >= 0.4:\n",
    "        return 'Medium Popularity'\n",
    "    else:\n",
    "        return 'Low Popularity'\n",
    "\n",
    "items_df['directors'] = items_df['directors'].str.split(', ')\n",
    "items_df_exploded = items_df.explode('directors')\n",
    "interactions_directors = interactions_df.merge(items_df_exploded, on='item_id')\n",
    "director_popularity = interactions_directors.groupby('directors')['weight'].mean().reset_index()\n",
    "director_popularity['director_category'] = director_popularity['weight'].apply(categorize_popularity)\n",
    "items_df_exploded = items_df_exploded.merge(director_popularity, on='directors', how='left')\n",
    "grouped = items_df_exploded.groupby(items_df_exploded.index)\n",
    "items_df['directors_cat'] = grouped['director_category'].agg(lambda x: ', '.join(x.dropna().unique()))"
   ],
   "metadata": {
    "collapsed": false,
    "ExecuteTime": {
     "end_time": "2024-02-08T11:10:58.946498Z",
     "start_time": "2024-02-08T11:10:56.916839Z"
    }
   }
  },
  {
   "cell_type": "code",
   "execution_count": 281,
   "outputs": [
    {
     "data": {
      "text/plain": "   item_id  age_rating_0.0  age_rating_6.0  age_rating_12.0  age_rating_16.0  \\\n0     9853               0               0                0                1   \n1     3526               0               0                0                0   \n2    15076               0               0                0                0   \n3     2904               0               0                0                0   \n4     1622               0               0                1                0   \n\n   age_rating_18.0  age_rating_21.0  directors_cat_High Popularity  \\\n0                0                0                              1   \n1                1                0                              0   \n2                1                0                              0   \n3                1                0                              1   \n4                0                0                              1   \n\n   directors_cat_Low Popularity  directors_cat_Medium Popularity  \n0                             0                                0  \n1                             0                                1  \n2                             0                                1  \n3                             0                                0  \n4                             0                                0  ",
      "text/html": "<div>\n<style scoped>\n    .dataframe tbody tr th:only-of-type {\n        vertical-align: middle;\n    }\n\n    .dataframe tbody tr th {\n        vertical-align: top;\n    }\n\n    .dataframe thead th {\n        text-align: right;\n    }\n</style>\n<table border=\"1\" class=\"dataframe\">\n  <thead>\n    <tr style=\"text-align: right;\">\n      <th></th>\n      <th>item_id</th>\n      <th>age_rating_0.0</th>\n      <th>age_rating_6.0</th>\n      <th>age_rating_12.0</th>\n      <th>age_rating_16.0</th>\n      <th>age_rating_18.0</th>\n      <th>age_rating_21.0</th>\n      <th>directors_cat_High Popularity</th>\n      <th>directors_cat_Low Popularity</th>\n      <th>directors_cat_Medium Popularity</th>\n    </tr>\n  </thead>\n  <tbody>\n    <tr>\n      <th>0</th>\n      <td>9853</td>\n      <td>0</td>\n      <td>0</td>\n      <td>0</td>\n      <td>1</td>\n      <td>0</td>\n      <td>0</td>\n      <td>1</td>\n      <td>0</td>\n      <td>0</td>\n    </tr>\n    <tr>\n      <th>1</th>\n      <td>3526</td>\n      <td>0</td>\n      <td>0</td>\n      <td>0</td>\n      <td>0</td>\n      <td>1</td>\n      <td>0</td>\n      <td>0</td>\n      <td>0</td>\n      <td>1</td>\n    </tr>\n    <tr>\n      <th>2</th>\n      <td>15076</td>\n      <td>0</td>\n      <td>0</td>\n      <td>0</td>\n      <td>0</td>\n      <td>1</td>\n      <td>0</td>\n      <td>0</td>\n      <td>0</td>\n      <td>1</td>\n    </tr>\n    <tr>\n      <th>3</th>\n      <td>2904</td>\n      <td>0</td>\n      <td>0</td>\n      <td>0</td>\n      <td>0</td>\n      <td>1</td>\n      <td>0</td>\n      <td>1</td>\n      <td>0</td>\n      <td>0</td>\n    </tr>\n    <tr>\n      <th>4</th>\n      <td>1622</td>\n      <td>0</td>\n      <td>0</td>\n      <td>1</td>\n      <td>0</td>\n      <td>0</td>\n      <td>0</td>\n      <td>1</td>\n      <td>0</td>\n      <td>0</td>\n    </tr>\n  </tbody>\n</table>\n</div>"
     },
     "execution_count": 281,
     "metadata": {},
     "output_type": "execute_result"
    }
   ],
   "source": [
    "item_cat_feats = ['age_rating', 'directors_cat']\n",
    "\n",
    "items_ohe_df = items_df.item_id\n",
    "\n",
    "for feat in item_cat_feats:\n",
    "    ohe_feat_df = pd.get_dummies(items_df[feat], prefix=feat)\n",
    "    items_ohe_df = pd.concat([items_ohe_df, ohe_feat_df], axis=1)\n",
    "\n",
    "\n",
    "min_year = items_df['release_year'].min()\n",
    "max_year = items_df['release_year'].max()\n",
    "items_df['release_year'] = (items_df['release_year'] - min_year) / (max_year - min_year)\n",
    "\n",
    "\n",
    "items_ohe_df.head()"
   ],
   "metadata": {
    "collapsed": false,
    "ExecuteTime": {
     "end_time": "2024-02-08T11:10:58.964181Z",
     "start_time": "2024-02-08T11:10:58.950321Z"
    }
   }
  },
  {
   "cell_type": "markdown",
   "source": [
    "1 - 0.75\n",
    "0.75 - 0.40\n",
    "0.40 - 0"
   ],
   "metadata": {
    "collapsed": false
   }
  },
  {
   "cell_type": "code",
   "execution_count": 282,
   "outputs": [
    {
     "data": {
      "text/plain": "   item_id  age_rating_0.0  age_rating_6.0  age_rating_12.0  age_rating_16.0  \\\n0     9853               0               0                0                1   \n1     3526               0               0                0                0   \n2    15076               0               0                0                0   \n3     2904               0               0                0                0   \n4     1622               0               0                1                0   \n\n   age_rating_18.0  age_rating_21.0  directors_cat_High Popularity  \\\n0                0                0                              1   \n1                1                0                              0   \n2                1                0                              0   \n3                1                0                              1   \n4                0                0                              1   \n\n   directors_cat_Low Popularity  directors_cat_Medium Popularity  ...  \\\n0                             0                                0  ...   \n1                             0                                1  ...   \n2                             0                                1  ...   \n3                             0                                0  ...   \n4                             0                                0  ...   \n\n   Франция  Хорватия  Чехия  Чили  Швейцария  Швеция  Эквадор  Эстония  ЮАР  \\\n0        0         0      0     0          0       0        0        0    0   \n1        0         0      0     0          0       0        0        0    0   \n2        0         0      0     0          0       0        0        0    0   \n3        0         0      0     0          0       0        0        0    0   \n4        0         0      0     0          0       0        0        0    0   \n\n   Япония  \n0       0  \n1       0  \n2       0  \n3       0  \n4       0  \n\n[5 rows x 149 columns]",
      "text/html": "<div>\n<style scoped>\n    .dataframe tbody tr th:only-of-type {\n        vertical-align: middle;\n    }\n\n    .dataframe tbody tr th {\n        vertical-align: top;\n    }\n\n    .dataframe thead th {\n        text-align: right;\n    }\n</style>\n<table border=\"1\" class=\"dataframe\">\n  <thead>\n    <tr style=\"text-align: right;\">\n      <th></th>\n      <th>item_id</th>\n      <th>age_rating_0.0</th>\n      <th>age_rating_6.0</th>\n      <th>age_rating_12.0</th>\n      <th>age_rating_16.0</th>\n      <th>age_rating_18.0</th>\n      <th>age_rating_21.0</th>\n      <th>directors_cat_High Popularity</th>\n      <th>directors_cat_Low Popularity</th>\n      <th>directors_cat_Medium Popularity</th>\n      <th>...</th>\n      <th>Франция</th>\n      <th>Хорватия</th>\n      <th>Чехия</th>\n      <th>Чили</th>\n      <th>Швейцария</th>\n      <th>Швеция</th>\n      <th>Эквадор</th>\n      <th>Эстония</th>\n      <th>ЮАР</th>\n      <th>Япония</th>\n    </tr>\n  </thead>\n  <tbody>\n    <tr>\n      <th>0</th>\n      <td>9853</td>\n      <td>0</td>\n      <td>0</td>\n      <td>0</td>\n      <td>1</td>\n      <td>0</td>\n      <td>0</td>\n      <td>1</td>\n      <td>0</td>\n      <td>0</td>\n      <td>...</td>\n      <td>0</td>\n      <td>0</td>\n      <td>0</td>\n      <td>0</td>\n      <td>0</td>\n      <td>0</td>\n      <td>0</td>\n      <td>0</td>\n      <td>0</td>\n      <td>0</td>\n    </tr>\n    <tr>\n      <th>1</th>\n      <td>3526</td>\n      <td>0</td>\n      <td>0</td>\n      <td>0</td>\n      <td>0</td>\n      <td>1</td>\n      <td>0</td>\n      <td>0</td>\n      <td>0</td>\n      <td>1</td>\n      <td>...</td>\n      <td>0</td>\n      <td>0</td>\n      <td>0</td>\n      <td>0</td>\n      <td>0</td>\n      <td>0</td>\n      <td>0</td>\n      <td>0</td>\n      <td>0</td>\n      <td>0</td>\n    </tr>\n    <tr>\n      <th>2</th>\n      <td>15076</td>\n      <td>0</td>\n      <td>0</td>\n      <td>0</td>\n      <td>0</td>\n      <td>1</td>\n      <td>0</td>\n      <td>0</td>\n      <td>0</td>\n      <td>1</td>\n      <td>...</td>\n      <td>0</td>\n      <td>0</td>\n      <td>0</td>\n      <td>0</td>\n      <td>0</td>\n      <td>0</td>\n      <td>0</td>\n      <td>0</td>\n      <td>0</td>\n      <td>0</td>\n    </tr>\n    <tr>\n      <th>3</th>\n      <td>2904</td>\n      <td>0</td>\n      <td>0</td>\n      <td>0</td>\n      <td>0</td>\n      <td>1</td>\n      <td>0</td>\n      <td>1</td>\n      <td>0</td>\n      <td>0</td>\n      <td>...</td>\n      <td>0</td>\n      <td>0</td>\n      <td>0</td>\n      <td>0</td>\n      <td>0</td>\n      <td>0</td>\n      <td>0</td>\n      <td>0</td>\n      <td>0</td>\n      <td>0</td>\n    </tr>\n    <tr>\n      <th>4</th>\n      <td>1622</td>\n      <td>0</td>\n      <td>0</td>\n      <td>1</td>\n      <td>0</td>\n      <td>0</td>\n      <td>0</td>\n      <td>1</td>\n      <td>0</td>\n      <td>0</td>\n      <td>...</td>\n      <td>0</td>\n      <td>0</td>\n      <td>0</td>\n      <td>0</td>\n      <td>0</td>\n      <td>0</td>\n      <td>0</td>\n      <td>0</td>\n      <td>0</td>\n      <td>0</td>\n    </tr>\n  </tbody>\n</table>\n<p>5 rows × 149 columns</p>\n</div>"
     },
     "execution_count": 282,
     "metadata": {},
     "output_type": "execute_result"
    }
   ],
   "source": [
    "items_df['countries'] = items_df.countries.str.split(',')\n",
    "mlb = MultiLabelBinarizer()\n",
    "one_hot_encoded = pd.DataFrame(mlb.fit_transform(items_df['countries']), columns=mlb.classes_)\n",
    "items_ohe_df = pd.concat([items_ohe_df, one_hot_encoded], axis=1)\n",
    "items_ohe_df.head()"
   ],
   "metadata": {
    "collapsed": false,
    "ExecuteTime": {
     "end_time": "2024-02-08T11:10:59.026839Z",
     "start_time": "2024-02-08T11:10:58.973464Z"
    }
   }
  },
  {
   "cell_type": "markdown",
   "source": [
    "### теперь добавим текстовые признаки из описания"
   ],
   "metadata": {
    "collapsed": false
   }
  },
  {
   "cell_type": "code",
   "execution_count": 261,
   "outputs": [],
   "source": [
    "class TextDataset(Dataset):\n",
    "    def __init__(self, texts):\n",
    "        self.texts = texts\n",
    "\n",
    "    def __len__(self):\n",
    "        return len(self.texts)\n",
    "\n",
    "    def __getitem__(self, idx):\n",
    "        return self.texts[idx]"
   ],
   "metadata": {
    "collapsed": false,
    "ExecuteTime": {
     "end_time": "2024-02-08T10:28:23.533704Z",
     "start_time": "2024-02-08T10:28:23.526755Z"
    }
   }
  },
  {
   "cell_type": "code",
   "execution_count": 263,
   "outputs": [],
   "source": [
    "texts = items_df['description'].tolist()\n",
    "text_dataset = TextDataset(texts)\n",
    "\n",
    "batch_size = 32\n",
    "data_loader = DataLoader(text_dataset, batch_size=batch_size, shuffle=False)"
   ],
   "metadata": {
    "collapsed": false,
    "ExecuteTime": {
     "end_time": "2024-02-08T10:28:40.037610Z",
     "start_time": "2024-02-08T10:28:40.033725Z"
    }
   }
  },
  {
   "cell_type": "code",
   "execution_count": 265,
   "outputs": [],
   "source": [
    "model = SentenceTransformer('sentence-transformers/all-MiniLM-L6-v2')\n",
    "model = model.to('cuda' if torch.cuda.is_available() else 'cpu')"
   ],
   "metadata": {
    "collapsed": false,
    "ExecuteTime": {
     "end_time": "2024-02-08T10:29:04.138030Z",
     "start_time": "2024-02-08T10:29:01.787920Z"
    }
   }
  },
  {
   "cell_type": "code",
   "execution_count": null,
   "outputs": [],
   "source": [
    "embeddings = []\n",
    "with torch.no_grad():\n",
    "    for batch in data_loader:\n",
    "        batch_embeddings = model.encode(batch, convert_to_tensor=True)\n",
    "        embeddings.append(batch_embeddings.cpu().numpy())"
   ],
   "metadata": {
    "collapsed": false
   }
  },
  {
   "cell_type": "code",
   "execution_count": null,
   "outputs": [],
   "source": [
    "embeddings = np.concatenate(embeddings)\n",
    "items_df['description_emb'] = list(embeddings)"
   ],
   "metadata": {
    "collapsed": false,
    "ExecuteTime": {
     "start_time": "2024-02-08T10:32:13.056565Z"
    }
   }
  },
  {
   "cell_type": "code",
   "execution_count": null,
   "outputs": [],
   "source": [
    "exploded_df = items_df['description_emb'].apply(pd.Series)"
   ],
   "metadata": {
    "collapsed": false
   }
  },
  {
   "cell_type": "code",
   "execution_count": null,
   "outputs": [],
   "source": [
    "items_ohe_df = pd.concat([items_ohe_df, exploded_df], axis=1)"
   ],
   "metadata": {
    "collapsed": false
   }
  },
  {
   "cell_type": "code",
   "execution_count": null,
   "outputs": [],
   "source": [
    "items_ohe_df.to_csv('items_ohe_df.csv', index=False)\n",
    "users_ohe_df.to_csv('users_ohe_df.csv', index=False)"
   ],
   "metadata": {
    "collapsed": false
   }
  },
  {
   "cell_type": "markdown",
   "source": [
    "загрузка полученных датафреймов с фичами\n"
   ],
   "metadata": {
    "collapsed": false
   }
  },
  {
   "cell_type": "code",
   "execution_count": 283,
   "outputs": [
    {
     "name": "stdout",
     "output_type": "stream",
     "text": [
      "(6691, 533)\n",
      "(65024, 17)\n"
     ]
    }
   ],
   "source": [
    "items_ohe_df = pd.read_csv('/Users/tanchik/Desktop/Настоящее/учеба/RecSys/RecoServiceTemplate/kion_train/items_ohe_df.csv')\n",
    "users_ohe_df = pd.read_csv('/Users/tanchik/Desktop/Настоящее/учеба/RecSys/RecoServiceTemplate/kion_train/users_ohe_df.csv')\n",
    "print(items_ohe_df.shape)\n",
    "print(users_ohe_df.shape)"
   ],
   "metadata": {
    "collapsed": false,
    "ExecuteTime": {
     "end_time": "2024-02-08T11:11:00.038100Z",
     "start_time": "2024-02-08T11:10:59.014548Z"
    }
   }
  },
  {
   "cell_type": "markdown",
   "source": [
    "### Работа над матрицей взаимодействий"
   ],
   "metadata": {
    "collapsed": false
   }
  },
  {
   "cell_type": "code",
   "execution_count": 284,
   "outputs": [
    {
     "name": "stdout",
     "output_type": "stream",
     "text": [
      "[0, 1, 2, 3, 4]\n",
      "[0, 1, 2, 3, 4]\n"
     ]
    },
    {
     "data": {
      "text/plain": "   user_id  item_id    datetime  weight    uid   iid\n0   176549     9506  2021-05-11    0.72  10468  3833\n1   699317     1659  2021-05-29    1.00  41522   649\n2  1016458      354  2021-08-14    0.25  60153   132\n3   884009      693  2021-08-04    0.14  52392   270\n4     5324     8437  2021-04-18    0.92    308  3391",
      "text/html": "<div>\n<style scoped>\n    .dataframe tbody tr th:only-of-type {\n        vertical-align: middle;\n    }\n\n    .dataframe tbody tr th {\n        vertical-align: top;\n    }\n\n    .dataframe thead th {\n        text-align: right;\n    }\n</style>\n<table border=\"1\" class=\"dataframe\">\n  <thead>\n    <tr style=\"text-align: right;\">\n      <th></th>\n      <th>user_id</th>\n      <th>item_id</th>\n      <th>datetime</th>\n      <th>weight</th>\n      <th>uid</th>\n      <th>iid</th>\n    </tr>\n  </thead>\n  <tbody>\n    <tr>\n      <th>0</th>\n      <td>176549</td>\n      <td>9506</td>\n      <td>2021-05-11</td>\n      <td>0.72</td>\n      <td>10468</td>\n      <td>3833</td>\n    </tr>\n    <tr>\n      <th>1</th>\n      <td>699317</td>\n      <td>1659</td>\n      <td>2021-05-29</td>\n      <td>1.00</td>\n      <td>41522</td>\n      <td>649</td>\n    </tr>\n    <tr>\n      <th>2</th>\n      <td>1016458</td>\n      <td>354</td>\n      <td>2021-08-14</td>\n      <td>0.25</td>\n      <td>60153</td>\n      <td>132</td>\n    </tr>\n    <tr>\n      <th>3</th>\n      <td>884009</td>\n      <td>693</td>\n      <td>2021-08-04</td>\n      <td>0.14</td>\n      <td>52392</td>\n      <td>270</td>\n    </tr>\n    <tr>\n      <th>4</th>\n      <td>5324</td>\n      <td>8437</td>\n      <td>2021-04-18</td>\n      <td>0.92</td>\n      <td>308</td>\n      <td>3391</td>\n    </tr>\n  </tbody>\n</table>\n</div>"
     },
     "execution_count": 284,
     "metadata": {},
     "output_type": "execute_result"
    }
   ],
   "source": [
    "interactions_df[\"uid\"] = interactions_df[\"user_id\"].astype(\"category\")\n",
    "interactions_df[\"uid\"] = interactions_df[\"uid\"].cat.codes\n",
    "\n",
    "interactions_df[\"iid\"] = interactions_df[\"item_id\"].astype(\"category\")\n",
    "interactions_df[\"iid\"] = interactions_df[\"iid\"].cat.codes\n",
    "\n",
    "print(sorted(interactions_df.iid.unique())[:5])\n",
    "print(sorted(interactions_df.uid.unique())[:5])\n",
    "interactions_df.head()\n"
   ],
   "metadata": {
    "collapsed": false,
    "ExecuteTime": {
     "end_time": "2024-02-08T11:11:40.952716Z",
     "start_time": "2024-02-08T11:11:40.763172Z"
    }
   }
  },
  {
   "cell_type": "code",
   "execution_count": 285,
   "outputs": [],
   "source": [
    "interactions_vec = np.zeros((interactions_df.uid.nunique(),\n",
    "                             interactions_df.iid.nunique()))\n",
    "\n",
    "for user_id, item_id, weight in zip(interactions_df.uid, interactions_df.iid, interactions_df.weight):\n",
    "    interactions_vec[user_id, item_id] += weight\n",
    "\n",
    "\n",
    "res = interactions_vec.sum(axis=1)\n",
    "for i in range(len(interactions_vec)):\n",
    "    interactions_vec[i] /= res[i]\n"
   ],
   "metadata": {
    "collapsed": false,
    "ExecuteTime": {
     "end_time": "2024-02-08T11:12:14.001886Z",
     "start_time": "2024-02-08T11:12:08.643427Z"
    }
   }
  },
  {
   "cell_type": "code",
   "execution_count": 286,
   "outputs": [
    {
     "name": "stdout",
     "output_type": "stream",
     "text": [
      "6691\n",
      "6691\n",
      "65024\n",
      "65024\n",
      "set()\n"
     ]
    }
   ],
   "source": [
    "print(interactions_df.item_id.nunique())\n",
    "print(items_ohe_df.item_id.nunique())\n",
    "print(interactions_df.user_id.nunique())\n",
    "print(users_ohe_df.user_id.nunique())\n",
    "\n",
    "print(set(items_ohe_df.item_id.unique()) - set(interactions_df.item_id.unique()))\n"
   ],
   "metadata": {
    "collapsed": false,
    "ExecuteTime": {
     "end_time": "2024-02-08T11:12:20.126860Z",
     "start_time": "2024-02-08T11:12:20.059018Z"
    }
   }
  },
  {
   "cell_type": "code",
   "execution_count": 287,
   "outputs": [],
   "source": [
    "iid_to_item_id = interactions_df[[\"iid\", \"item_id\"]].drop_duplicates().set_index(\"iid\").to_dict()[\"item_id\"]\n",
    "item_id_to_iid = interactions_df[[\"iid\", \"item_id\"]].drop_duplicates().set_index(\"item_id\").to_dict()[\"iid\"]\n",
    "\n",
    "uid_to_user_id = interactions_df[[\"uid\", \"user_id\"]].drop_duplicates().set_index(\"uid\").to_dict()[\"user_id\"]\n",
    "user_id_to_uid = interactions_df[[\"uid\", \"user_id\"]].drop_duplicates().set_index(\"user_id\").to_dict()[\"uid\"]\n"
   ],
   "metadata": {
    "collapsed": false,
    "ExecuteTime": {
     "end_time": "2024-02-08T11:12:31.516152Z",
     "start_time": "2024-02-08T11:12:30.790679Z"
    }
   }
  },
  {
   "cell_type": "code",
   "execution_count": 288,
   "outputs": [],
   "source": [
    "items_ohe_df[\"iid\"] = items_ohe_df[\"item_id\"].apply(lambda x: item_id_to_iid[x])\n",
    "items_ohe_df = items_ohe_df.set_index(\"iid\")\n",
    "\n",
    "users_ohe_df[\"uid\"] = users_ohe_df[\"user_id\"].apply(lambda x: user_id_to_uid[x])\n",
    "users_ohe_df = users_ohe_df.set_index(\"uid\")\n"
   ],
   "metadata": {
    "collapsed": false,
    "ExecuteTime": {
     "end_time": "2024-02-08T11:12:36.952833Z",
     "start_time": "2024-02-08T11:12:36.738312Z"
    }
   }
  },
  {
   "cell_type": "code",
   "execution_count": 290,
   "outputs": [],
   "source": [
    "def triplet_loss(y_true, y_pred, n_dims=128, alpha=0.4):\n",
    "    anchor = y_pred[:, 0:n_dims]\n",
    "    positive = y_pred[:, n_dims:n_dims*2]\n",
    "    negative = y_pred[:, n_dims*2:n_dims*3]\n",
    "\n",
    "    pos_dist = K.sum(K.square(anchor - positive), axis=1)\n",
    "    neg_dist = K.sum(K.square(anchor - negative), axis=1)\n",
    "\n",
    "    basic_loss = pos_dist - neg_dist + alpha\n",
    "    loss = K.maximum(basic_loss, 0.0)\n",
    "\n",
    "    return loss\n"
   ],
   "metadata": {
    "collapsed": false,
    "ExecuteTime": {
     "end_time": "2024-02-08T11:13:38.361144Z",
     "start_time": "2024-02-08T11:13:38.357891Z"
    }
   }
  },
  {
   "cell_type": "markdown",
   "source": [
    "### Генератор и семплирование"
   ],
   "metadata": {
    "collapsed": false
   }
  },
  {
   "cell_type": "code",
   "execution_count": 292,
   "outputs": [],
   "source": [
    "def generator(items, users, interactions, batch_size=1024):\n",
    "    while True:\n",
    "        uid_meta = []\n",
    "        uid_interaction = []\n",
    "        pos = []\n",
    "        neg = []\n",
    "        for _ in range(batch_size):\n",
    "            uid_i = randint(0, interactions.shape[0]-1)\n",
    "            pos_proba = interactions[uid_i]\n",
    "            pos_i = np.random.choice(range(interactions.shape[1]), p=pos_proba)\n",
    "            neg_indices = np.arange(interactions.shape[1])[interactions[uid_i] == 0]\n",
    "            neg_i = np.random.choice(neg_indices)\n",
    "            uid_meta.append(users.iloc[uid_i])\n",
    "            uid_interaction.append(interactions[uid_i])\n",
    "            pos.append(items.iloc[pos_i])\n",
    "            neg.append(items.iloc[neg_i])\n",
    "\n",
    "        yield [np.array(uid_meta), np.array(uid_interaction), np.array(pos), np.array(neg)], [np.array(uid_meta), np.array(uid_interaction)]"
   ],
   "metadata": {
    "collapsed": false,
    "ExecuteTime": {
     "end_time": "2024-02-08T11:16:28.542826Z",
     "start_time": "2024-02-08T11:16:28.507091Z"
    }
   }
  },
  {
   "cell_type": "code",
   "execution_count": 293,
   "outputs": [
    {
     "name": "stdout",
     "output_type": "stream",
     "text": [
      "вектор фичей юзера: (1024, 16)\n",
      "вектор взаимодействий юзера с айтемами: (1024, 6691)\n",
      "вектор 'хорошего' айтема: (1024, 532)\n",
      "вектор 'плохого' айтема: (1024, 532)\n",
      "\n",
      "вектор фичей юзера: (1024, 16)\n",
      "вектор взаимодействий юзера с айтемами: (1024, 6691)\n"
     ]
    }
   ],
   "source": [
    "gen = generator(items=items_ohe_df.drop([\"item_id\"], axis=1),\n",
    "                users=users_ohe_df.drop([\"user_id\"], axis=1),\n",
    "                interactions=interactions_vec)\n",
    "\n",
    "ret = next(gen)\n",
    "\n",
    "\n",
    "print(f\"вектор фичей юзера: {ret[0][0].shape}\")\n",
    "print(f\"вектор взаимодействий юзера с айтемами: {ret[0][1].shape}\")\n",
    "print(f\"вектор 'хорошего' айтема: {ret[0][2].shape}\")\n",
    "print(f\"вектор 'плохого' айтема: {ret[0][3].shape}\")\n",
    "print()\n",
    "print(f\"вектор фичей юзера: {ret[1][0].shape}\")\n",
    "print(f\"вектор взаимодействий юзера с айтемами: {ret[1][1].shape}\")"
   ],
   "metadata": {
    "collapsed": false,
    "ExecuteTime": {
     "end_time": "2024-02-08T11:16:41.914647Z",
     "start_time": "2024-02-08T11:16:40.040099Z"
    }
   }
  },
  {
   "cell_type": "code",
   "execution_count": 295,
   "outputs": [
    {
     "name": "stdout",
     "output_type": "stream",
     "text": [
      "N_FACTORS: 128\n",
      "ITEM_MODEL_SHAPE: (532,)\n",
      "USER_META_MODEL_SHAPE: (16,)\n",
      "USER_INTERACTION_MODEL_SHAPE: (6691,)\n"
     ]
    }
   ],
   "source": [
    "N_FACTORS = 128\n",
    "\n",
    "ITEM_MODEL_SHAPE = (items_ohe_df.drop([\"item_id\"], axis=1).shape[1], )\n",
    "USER_META_MODEL_SHAPE = (users_ohe_df.drop([\"user_id\"], axis=1).shape[1], )\n",
    "\n",
    "USER_INTERACTION_MODEL_SHAPE = (interactions_vec.shape[1], )\n",
    "\n",
    "print(f\"N_FACTORS: {N_FACTORS}\")\n",
    "print(f\"ITEM_MODEL_SHAPE: {ITEM_MODEL_SHAPE}\")\n",
    "print(f\"USER_META_MODEL_SHAPE: {USER_META_MODEL_SHAPE}\")\n",
    "print(f\"USER_INTERACTION_MODEL_SHAPE: {USER_INTERACTION_MODEL_SHAPE}\")"
   ],
   "metadata": {
    "collapsed": false,
    "ExecuteTime": {
     "end_time": "2024-02-08T11:16:58.495391Z",
     "start_time": "2024-02-08T11:16:58.490088Z"
    }
   }
  },
  {
   "cell_type": "code",
   "execution_count": 298,
   "outputs": [],
   "source": [
    "def item_model(n_factors=N_FACTORS):\n",
    "    inp = keras.layers.Input(shape=ITEM_MODEL_SHAPE)\n",
    "\n",
    "    layer_1 = keras.layers.Dense(N_FACTORS, activation='elu', use_bias=False,\n",
    "                               kernel_regularizer=keras.regularizers.l2(1e-6),\n",
    "                               activity_regularizer=keras.regularizers.l2(l2=1e-6))(inp)\n",
    "\n",
    "    layer_2 = keras.layers.Dense(N_FACTORS, activation='elu', use_bias=False,\n",
    "                             kernel_regularizer=keras.regularizers.l2(1e-6),\n",
    "                             activity_regularizer=keras.regularizers.l2(l2=1e-6))(layer_1)\n",
    "\n",
    "    add = keras.layers.Add()([layer_1, layer_2])\n",
    "\n",
    "    out = keras.layers.Dense(N_FACTORS, activation='linear', use_bias=False,\n",
    "                             kernel_regularizer=keras.regularizers.l2(1e-6),\n",
    "                             activity_regularizer=keras.regularizers.l2(l2=1e-6))(add)\n",
    "\n",
    "    return keras.models.Model(inp, out)\n",
    "\n",
    "\n",
    "def user_model(n_factors=N_FACTORS):\n",
    "    inp_meta = keras.layers.Input(shape=USER_META_MODEL_SHAPE)\n",
    "    inp_interaction = keras.layers.Input(shape=USER_INTERACTION_MODEL_SHAPE)\n",
    "\n",
    "    layer_1_meta = keras.layers.Dense(N_FACTORS, activation='elu', use_bias=False,\n",
    "                                 kernel_regularizer=keras.regularizers.l2(1e-6),\n",
    "                                 activity_regularizer=keras.regularizers.l2(l2=1e-6))(inp_meta)\n",
    "\n",
    "    layer_1_interaction = keras.layers.Dense(N_FACTORS, activation='elu', use_bias=False,\n",
    "                                 kernel_regularizer=keras.regularizers.l2(1e-6),\n",
    "                                 activity_regularizer=keras.regularizers.l2(l2=1e-6))(inp_interaction)\n",
    "\n",
    "    layer_2_meta = keras.layers.Dense(N_FACTORS, activation='elu', use_bias=False,\n",
    "                                 kernel_regularizer=keras.regularizers.l2(1e-6),\n",
    "                                 activity_regularizer=keras.regularizers.l2(l2=1e-6))(layer_1_meta)\n",
    "\n",
    "\n",
    "    add = keras.layers.Add()([layer_1_meta, layer_2_meta])\n",
    "\n",
    "    concat_meta_interaction = keras.layers.Concatenate()([add, layer_1_interaction])\n",
    "\n",
    "    out = keras.layers.Dense(N_FACTORS, activation='linear', use_bias=False,\n",
    "                             kernel_regularizer=keras.regularizers.l2(1e-6),\n",
    "                             activity_regularizer=keras.regularizers.l2(l2=1e-6))(concat_meta_interaction)\n",
    "\n",
    "    return keras.models.Model([inp_meta, inp_interaction], out)\n",
    "\n",
    "i2v = item_model()\n",
    "u2v = user_model()\n",
    "\n",
    "ancor_meta_in = keras.layers.Input(shape=USER_META_MODEL_SHAPE)\n",
    "ancor_interaction_in = keras.layers.Input(shape=USER_INTERACTION_MODEL_SHAPE)\n",
    "\n",
    "pos_in = keras.layers.Input(shape=ITEM_MODEL_SHAPE)\n",
    "neg_in = keras.layers.Input(shape=ITEM_MODEL_SHAPE)\n",
    "\n",
    "ancor = u2v([ancor_meta_in, ancor_interaction_in])\n",
    "pos = i2v(pos_in)\n",
    "neg = i2v(neg_in)\n",
    "\n",
    "res = keras.layers.Concatenate(name=\"concat_ancor_pos_neg\")([ancor, pos, neg])\n",
    "\n",
    "model = keras.models.Model([ancor_meta_in, ancor_interaction_in, pos_in, neg_in], res)"
   ],
   "metadata": {
    "collapsed": false,
    "ExecuteTime": {
     "end_time": "2024-02-08T11:19:05.452161Z",
     "start_time": "2024-02-08T11:19:05.141313Z"
    }
   }
  },
  {
   "cell_type": "code",
   "execution_count": 299,
   "outputs": [],
   "source": [
    "model_name = 'recsys_resnet_linear'\n",
    "\n",
    "t_board = keras.callbacks.TensorBoard(log_dir=f'runs/{model_name}')\n",
    "\n",
    "decay = keras.callbacks.ReduceLROnPlateau(monitor='loss', patience=2, factor=0.8, verbose=1)\n",
    "\n",
    "check = keras.callbacks.ModelCheckpoint(filepath=model_name + '/epoch{epoch}-{loss:.2f}.h5', monitor=\"loss\")\n"
   ],
   "metadata": {
    "collapsed": false,
    "ExecuteTime": {
     "end_time": "2024-02-08T11:19:29.309585Z",
     "start_time": "2024-02-08T11:19:29.280613Z"
    }
   }
  },
  {
   "cell_type": "code",
   "execution_count": 300,
   "outputs": [
    {
     "name": "stderr",
     "output_type": "stream",
     "text": [
      "WARNING:absl:`lr` is deprecated in Keras optimizer, please use `learning_rate` or use the legacy optimizer, e.g.,tf.keras.optimizers.legacy.Adam.\n"
     ]
    }
   ],
   "source": [
    "opt = keras.optimizers.Adam(lr=0.001)\n",
    "model.compile(loss=triplet_loss, optimizer=opt)\n"
   ],
   "metadata": {
    "collapsed": false,
    "ExecuteTime": {
     "end_time": "2024-02-08T11:19:36.233849Z",
     "start_time": "2024-02-08T11:19:36.189687Z"
    }
   }
  },
  {
   "cell_type": "code",
   "execution_count": 301,
   "outputs": [
    {
     "name": "stdout",
     "output_type": "stream",
     "text": [
      "Epoch 1/30\n",
      "100/100 [==============================] - ETA: 0s - loss: 0.4294"
     ]
    },
    {
     "name": "stderr",
     "output_type": "stream",
     "text": [
      "/Users/tanchik/Desktop/Настоящее/учеба/RecSys/RecoServiceTemplate/.venv/lib/python3.9/site-packages/keras/src/engine/training.py:3103: UserWarning: You are saving your model as an HDF5 file via `model.save()`. This file format is considered legacy. We recommend using instead the native Keras format, e.g. `model.save('my_model.keras')`.\n",
      "  saving_api.save_model(\n"
     ]
    },
    {
     "name": "stdout",
     "output_type": "stream",
     "text": [
      "100/100 [==============================] - 14s 123ms/step - loss: 0.4294 - lr: 0.0010\n",
      "Epoch 2/30\n",
      "100/100 [==============================] - 11s 111ms/step - loss: 0.3114 - lr: 0.0010\n",
      "Epoch 3/30\n",
      "100/100 [==============================] - 11s 111ms/step - loss: 0.2905 - lr: 0.0010\n",
      "Epoch 4/30\n",
      "100/100 [==============================] - 11s 116ms/step - loss: 0.2663 - lr: 0.0010\n",
      "Epoch 5/30\n",
      "100/100 [==============================] - 11s 107ms/step - loss: 0.2544 - lr: 0.0010\n",
      "Epoch 6/30\n",
      "100/100 [==============================] - 11s 109ms/step - loss: 0.2369 - lr: 0.0010\n",
      "Epoch 7/30\n",
      "100/100 [==============================] - 11s 109ms/step - loss: 0.2228 - lr: 0.0010\n",
      "Epoch 8/30\n",
      "100/100 [==============================] - 11s 109ms/step - loss: 0.2206 - lr: 0.0010\n",
      "Epoch 9/30\n",
      "100/100 [==============================] - 11s 109ms/step - loss: 0.2241 - lr: 0.0010\n",
      "Epoch 10/30\n",
      "100/100 [==============================] - 11s 108ms/step - loss: 0.2055 - lr: 0.0010\n",
      "Epoch 11/30\n",
      "100/100 [==============================] - 11s 109ms/step - loss: 0.2122 - lr: 0.0010\n",
      "Epoch 12/30\n",
      "100/100 [==============================] - 11s 112ms/step - loss: 0.1908 - lr: 0.0010\n",
      "Epoch 13/30\n",
      "100/100 [==============================] - 11s 109ms/step - loss: 0.1963 - lr: 0.0010\n",
      "Epoch 14/30\n",
      "100/100 [==============================] - ETA: 0s - loss: 0.1917\n",
      "Epoch 14: ReduceLROnPlateau reducing learning rate to 0.000800000037997961.\n",
      "100/100 [==============================] - 11s 108ms/step - loss: 0.1917 - lr: 0.0010\n",
      "Epoch 15/30\n",
      "100/100 [==============================] - 11s 108ms/step - loss: 0.1839 - lr: 8.0000e-04\n",
      "Epoch 16/30\n",
      "100/100 [==============================] - 11s 108ms/step - loss: 0.1780 - lr: 8.0000e-04\n",
      "Epoch 17/30\n",
      "100/100 [==============================] - 11s 109ms/step - loss: 0.1800 - lr: 8.0000e-04\n",
      "Epoch 18/30\n",
      "100/100 [==============================] - 11s 108ms/step - loss: 0.1725 - lr: 8.0000e-04\n",
      "Epoch 19/30\n",
      "100/100 [==============================] - 11s 111ms/step - loss: 0.1781 - lr: 8.0000e-04\n",
      "Epoch 20/30\n",
      "100/100 [==============================] - ETA: 0s - loss: 0.1729\n",
      "Epoch 20: ReduceLROnPlateau reducing learning rate to 0.0006400000303983689.\n",
      "100/100 [==============================] - 11s 108ms/step - loss: 0.1729 - lr: 8.0000e-04\n",
      "Epoch 21/30\n",
      "100/100 [==============================] - 10s 105ms/step - loss: 0.1725 - lr: 6.4000e-04\n",
      "Epoch 22/30\n",
      "100/100 [==============================] - 11s 107ms/step - loss: 0.1583 - lr: 6.4000e-04\n",
      "Epoch 23/30\n",
      "100/100 [==============================] - 11s 107ms/step - loss: 0.1602 - lr: 6.4000e-04\n",
      "Epoch 24/30\n",
      "100/100 [==============================] - ETA: 0s - loss: 0.1610\n",
      "Epoch 24: ReduceLROnPlateau reducing learning rate to 0.0005120000336319208.\n",
      "100/100 [==============================] - 11s 108ms/step - loss: 0.1610 - lr: 6.4000e-04\n",
      "Epoch 25/30\n",
      "100/100 [==============================] - 11s 107ms/step - loss: 0.1468 - lr: 5.1200e-04\n",
      "Epoch 26/30\n",
      "100/100 [==============================] - 11s 108ms/step - loss: 0.1506 - lr: 5.1200e-04\n",
      "Epoch 27/30\n",
      "100/100 [==============================] - ETA: 0s - loss: 0.1472\n",
      "Epoch 27: ReduceLROnPlateau reducing learning rate to 0.00040960004553198815.\n",
      "100/100 [==============================] - 11s 113ms/step - loss: 0.1472 - lr: 5.1200e-04\n",
      "Epoch 28/30\n",
      "100/100 [==============================] - 11s 108ms/step - loss: 0.1445 - lr: 4.0960e-04\n",
      "Epoch 29/30\n",
      "100/100 [==============================] - 11s 106ms/step - loss: 0.1406 - lr: 4.0960e-04\n",
      "Epoch 30/30\n",
      "100/100 [==============================] - 11s 108ms/step - loss: 0.1413 - lr: 4.0960e-04\n"
     ]
    },
    {
     "data": {
      "text/plain": "<keras.src.callbacks.History at 0x7f9f6b81ed90>"
     },
     "execution_count": 301,
     "metadata": {},
     "output_type": "execute_result"
    }
   ],
   "source": [
    "model.fit(generator(items=items_ohe_df.drop([\"item_id\"], axis=1),\n",
    "                    users=users_ohe_df.drop([\"user_id\"], axis=1),\n",
    "                    interactions=interactions_vec,\n",
    "                    batch_size=64),\n",
    "          steps_per_epoch=100,\n",
    "          epochs=30,\n",
    "          initial_epoch=0,\n",
    "          callbacks=[decay, t_board, check]\n",
    ")\n"
   ],
   "metadata": {
    "collapsed": false,
    "ExecuteTime": {
     "end_time": "2024-02-08T11:25:19.274635Z",
     "start_time": "2024-02-08T11:19:52.046940Z"
    }
   }
  },
  {
   "cell_type": "code",
   "execution_count": 302,
   "outputs": [
    {
     "name": "stdout",
     "output_type": "stream",
     "text": [
      "1/1 [==============================] - 0s 126ms/step\n",
      "1/1 [==============================] - 0s 61ms/step\n"
     ]
    },
    {
     "data": {
      "text/plain": "array([[1.2798507]], dtype=float32)"
     },
     "execution_count": 302,
     "metadata": {},
     "output_type": "execute_result"
    }
   ],
   "source": [
    "rand_uid = np.random.choice(list(users_ohe_df.index))\n",
    "\n",
    "user_meta_feats = users_ohe_df.drop([\"user_id\"], axis=1).iloc[rand_uid]\n",
    "user_interaction_vec = interactions_vec[rand_uid]\n",
    "\n",
    "rand_iid = np.random.choice(list(items_ohe_df.index))\n",
    "item_feats = items_ohe_df.drop([\"item_id\"], axis=1).iloc[rand_iid]\n",
    "\n",
    "user_vec = u2v.predict([np.array(user_meta_feats).reshape(1, -1),\n",
    "                        np.array(user_interaction_vec).reshape(1, -1)])\n",
    "\n",
    "item_vec = i2v.predict(np.array(item_feats).reshape(1, -1))\n",
    "\n",
    "from sklearn.metrics.pairwise import euclidean_distances as ED\n",
    "\n",
    "ED(user_vec, item_vec)\n"
   ],
   "metadata": {
    "collapsed": false,
    "ExecuteTime": {
     "end_time": "2024-02-08T11:26:02.549557Z",
     "start_time": "2024-02-08T11:26:02.220324Z"
    }
   }
  },
  {
   "cell_type": "markdown",
   "source": [
    "получение значений для всех юзеров и айтемов"
   ],
   "metadata": {
    "collapsed": false
   }
  },
  {
   "cell_type": "code",
   "execution_count": 303,
   "outputs": [
    {
     "name": "stdout",
     "output_type": "stream",
     "text": [
      "210/210 [==============================] - 0s 1ms/step\n"
     ]
    }
   ],
   "source": [
    "items_feats = items_ohe_df.drop([\"item_id\"], axis=1).to_numpy()\n",
    "items_vecs = i2v.predict(items_feats)\n"
   ],
   "metadata": {
    "collapsed": false,
    "ExecuteTime": {
     "end_time": "2024-02-08T11:26:46.589630Z",
     "start_time": "2024-02-08T11:26:46.140855Z"
    }
   }
  },
  {
   "cell_type": "code",
   "execution_count": 304,
   "outputs": [
    {
     "name": "stdout",
     "output_type": "stream",
     "text": [
      "2032/2032 [==============================] - 4s 2ms/step\n"
     ]
    }
   ],
   "source": [
    "users_meta_feats = users_ohe_df.drop([\"user_id\"], axis=1)\n",
    "users_interaction_vec = interactions_vec\n",
    "users_vec = u2v.predict([np.array(users_meta_feats),\n",
    "                        np.array(users_interaction_vec)])"
   ],
   "metadata": {
    "collapsed": false,
    "ExecuteTime": {
     "end_time": "2024-02-08T11:27:28.497202Z",
     "start_time": "2024-02-08T11:27:06.261712Z"
    }
   }
  },
  {
   "cell_type": "code",
   "execution_count": 391,
   "outputs": [],
   "source": [
    "class FaissIndex:\n",
    "    def __init__(self, user_id_to_uid, iid_to_item_id, users, popular, threshold=0.83,\n",
    "                 dimension=128, N=10):\n",
    "        self.dimension = dimension\n",
    "        self.faiss_index = faiss.IndexFlatL2(self.dimension)\n",
    "        faiss.omp_set_num_threads(1)\n",
    "        self.N = N\n",
    "        self.user_id_to_uid = user_id_to_uid\n",
    "        self.iid_to_item_id = iid_to_item_id\n",
    "        self.users = users\n",
    "        self.popular = popular\n",
    "        self.threshold = threshold\n",
    "\n",
    "    def index(self, data):\n",
    "        assert data.shape[\n",
    "                   1] == self.dimension, \"Размерность векторов должна соответствовать размерности индекса\"\n",
    "        self.faiss_index.add(data)\n",
    "\n",
    "    def add_popular(self, item_ids):\n",
    "        mask = ~np.isin(self.popular, item_ids)\n",
    "        filtered_popular = self.popular[mask]\n",
    "        combined = np.concatenate([item_ids, filtered_popular])\n",
    "        combined = combined.astype(int)\n",
    "        result = combined[:self.N]\n",
    "        return result\n",
    "\n",
    "    def get_items(self, query_user):\n",
    "        query_uid = self.user_id_to_uid.get(query_user, None)\n",
    "        if query_uid is None:\n",
    "            return self.popular[:10].tolist()\n",
    "        user_vector = self.users[query_uid]\n",
    "        user_vector = user_vector.reshape(1, -1)\n",
    "        assert user_vector.shape[\n",
    "                   1] == self.dimension, \"Размерность векторов запросов должна соответствовать размерности индекса.\"\n",
    "        D, I = self.faiss_index.search(user_vector, self.N)\n",
    "        filtered_indices = [[iid for iid, dist in zip(irow, drow) if dist <= self.threshold] for irow, drow in zip(I, D)]\n",
    "        item_ids = [[self.iid_to_item_id[iid] for iid in row] for row in filtered_indices]\n",
    "        item_ids = self.add_popular(item_ids[0])\n",
    "        return item_ids.tolist()\n",
    "\n",
    "    def save(self, filepath):\n",
    "        faiss.write_index(self.faiss_index, filepath + \"_faiss.index\")\n",
    "\n",
    "        with open(filepath + \"_data.pkl\", 'wb') as f:\n",
    "            data = {\n",
    "                \"dimension\": self.dimension,\n",
    "                \"N\": self.N,\n",
    "                \"user_id_to_uid\": self.user_id_to_uid,\n",
    "                \"iid_to_item_id\": self.iid_to_item_id,\n",
    "                \"users\": self.users,\n",
    "                \"popular\": self.popular,\n",
    "                \"threshold\": self.threshold\n",
    "            }\n",
    "            pickle.dump(data, f)\n",
    "\n",
    "    @classmethod\n",
    "    def load(cls, filepath):\n",
    "        faiss_index = faiss.read_index(filepath + \"_faiss.index\")\n",
    "\n",
    "        with open(filepath + \"_data.pkl\", 'rb') as f:\n",
    "            data = pickle.load(f)\n",
    "\n",
    "        instance = cls(\n",
    "            user_id_to_uid=data[\"user_id_to_uid\"],\n",
    "            iid_to_item_id=data[\"iid_to_item_id\"],\n",
    "            users=data[\"users\"],\n",
    "            popular=data[\"popular\"],\n",
    "            threshold=data[\"threshold\"],\n",
    "            dimension=data[\"dimension\"],\n",
    "            N=data[\"N\"]\n",
    "        )\n",
    "        instance.faiss_index = faiss_index\n",
    "        return instance"
   ],
   "metadata": {
    "collapsed": false,
    "ExecuteTime": {
     "end_time": "2024-02-08T12:06:38.230641Z",
     "start_time": "2024-02-08T12:06:38.212923Z"
    }
   }
  },
  {
   "cell_type": "code",
   "execution_count": 398,
   "outputs": [
    {
     "name": "stdout",
     "output_type": "stream",
     "text": [
      "[15297 10440 13865  9728  4151  3734  2657   142  6809  8636  9996 11237\n",
      "  4740  7571  1844  4457  7417 14431  4495  7102  7829 12192 12995 14741\n",
      " 14703  7793  4436 16166  3784 16228]\n"
     ]
    }
   ],
   "source": [
    "popular = np.load('/Users/tanchik/Desktop/Настоящее/учеба/RecSys/RecoServiceTemplate/service/api/recsys/models/popular.npy')\n",
    "print(popular)"
   ],
   "metadata": {
    "collapsed": false,
    "ExecuteTime": {
     "end_time": "2024-02-08T12:42:18.410729Z",
     "start_time": "2024-02-08T12:42:18.397183Z"
    }
   }
  },
  {
   "cell_type": "code",
   "execution_count": 393,
   "outputs": [],
   "source": [
    "vec_bd = FaissIndex(user_id_to_uid, iid_to_item_id, users_vec, popular)\n",
    "vec_bd.index(items_vecs)"
   ],
   "metadata": {
    "collapsed": false,
    "ExecuteTime": {
     "end_time": "2024-02-08T12:06:40.558058Z",
     "start_time": "2024-02-08T12:06:40.552004Z"
    }
   }
  },
  {
   "cell_type": "code",
   "execution_count": 394,
   "outputs": [
    {
     "data": {
      "text/plain": "[9728, 8134, 10440, 15297, 13865, 4151, 3734, 2657, 142, 6809]"
     },
     "execution_count": 394,
     "metadata": {},
     "output_type": "execute_result"
    }
   ],
   "source": [
    "vec_bd.get_items(945758)"
   ],
   "metadata": {
    "collapsed": false,
    "ExecuteTime": {
     "end_time": "2024-02-08T12:06:41.008455Z",
     "start_time": "2024-02-08T12:06:41.001804Z"
    }
   }
  },
  {
   "cell_type": "code",
   "execution_count": 395,
   "outputs": [],
   "source": [
    "vec_bd.save('/Users/tanchik/Desktop/Настоящее/учеба/RecSys/RecoServiceTemplate/service/api/recsys/models/DSSM')"
   ],
   "metadata": {
    "collapsed": false,
    "ExecuteTime": {
     "end_time": "2024-02-08T12:06:41.515606Z",
     "start_time": "2024-02-08T12:06:41.416351Z"
    }
   }
  },
  {
   "cell_type": "code",
   "execution_count": 396,
   "outputs": [],
   "source": [
    "loaded_vec_db = FaissIndex.load('/Users/tanchik/Desktop/Настоящее/учеба/RecSys/RecoServiceTemplate/service/api/recsys/models/DSSM')"
   ],
   "metadata": {
    "collapsed": false,
    "ExecuteTime": {
     "end_time": "2024-02-08T12:07:11.581408Z",
     "start_time": "2024-02-08T12:07:11.528841Z"
    }
   }
  },
  {
   "cell_type": "code",
   "execution_count": 397,
   "outputs": [
    {
     "data": {
      "text/plain": "[9728, 8134, 10440, 15297, 13865, 4151, 3734, 2657, 142, 6809]"
     },
     "execution_count": 397,
     "metadata": {},
     "output_type": "execute_result"
    }
   ],
   "source": [
    "loaded_vec_db.get_items(945758)"
   ],
   "metadata": {
    "collapsed": false,
    "ExecuteTime": {
     "end_time": "2024-02-08T12:07:20.142364Z",
     "start_time": "2024-02-08T12:07:20.133976Z"
    }
   }
  },
  {
   "cell_type": "code",
   "execution_count": 363,
   "outputs": [],
   "source": [
    "distances = []\n",
    "for user in user_id_to_uid.keys():\n",
    "    items, distances_user = vec_bd.get_items(user)\n",
    "    distances += distances_user.tolist()"
   ],
   "metadata": {
    "collapsed": false,
    "ExecuteTime": {
     "end_time": "2024-02-08T11:48:44.538596Z",
     "start_time": "2024-02-08T11:48:31.632077Z"
    }
   }
  },
  {
   "cell_type": "code",
   "execution_count": 357,
   "outputs": [
    {
     "name": "stdout",
     "output_type": "stream",
     "text": [
      "0.2783535122871399\n",
      "2.89692759513855\n",
      "0.8369842476582734\n"
     ]
    }
   ],
   "source": [
    "print(min(distances))\n",
    "print(max(distances))\n",
    "print(np.mean(distances))"
   ],
   "metadata": {
    "collapsed": false,
    "ExecuteTime": {
     "end_time": "2024-02-08T11:42:02.834399Z",
     "start_time": "2024-02-08T11:42:02.827445Z"
    }
   }
  },
  {
   "cell_type": "code",
   "execution_count": 356,
   "outputs": [
    {
     "data": {
      "text/plain": "<Figure size 1000x600 with 1 Axes>",
      "image/png": "[encoded data removed]"
     },
     "metadata": {},
     "output_type": "display_data"
    },
    {
     "data": {
      "text/plain": "<Figure size 1000x600 with 1 Axes>",
      "image/png": "[encoded data removed]"
     },
     "metadata": {},
     "output_type": "display_data"
    }
   ],
   "source": [
    "plt.figure(figsize=(10, 6))\n",
    "sns.histplot(distances, kde=True)\n",
    "plt.title('Распределение расстояний')\n",
    "plt.xlabel('Расстояние')\n",
    "plt.ylabel('Частота')\n",
    "plt.show()\n",
    "\n",
    "plt.figure(figsize=(10, 6))\n",
    "sns.boxplot(x=distances)\n",
    "plt.title('Boxplot расстояний')\n",
    "plt.xlabel('Расстояние')\n",
    "plt.show()"
   ],
   "metadata": {
    "collapsed": false,
    "ExecuteTime": {
     "end_time": "2024-02-08T11:40:40.535518Z",
     "start_time": "2024-02-08T11:40:36.450914Z"
    }
   }
  },
  {
   "cell_type": "code",
   "execution_count": null,
   "outputs": [],
   "source": [],
   "metadata": {
    "collapsed": false
   }
  }
 ],
 "metadata": {
  "kernelspec": {
   "display_name": "Python 3",
   "language": "python",
   "name": "python3"
  },
  "language_info": {
   "codemirror_mode": {
    "name": "ipython",
    "version": 2
   },
   "file_extension": ".py",
   "mimetype": "text/x-python",
   "name": "python",
   "nbconvert_exporter": "python",
   "pygments_lexer": "ipython2",
   "version": "2.7.6"
  }
 },
 "nbformat": 4,
 "nbformat_minor": 0
}
